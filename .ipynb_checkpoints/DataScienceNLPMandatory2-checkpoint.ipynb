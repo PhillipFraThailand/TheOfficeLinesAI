{
 "cells": [
  {
   "cell_type": "code",
   "execution_count": 2,
   "metadata": {},
   "outputs": [],
   "source": [
    "# The Dataset\n",
    "# The dataset consists of id\tseason\tepisode\tscene\tline_text\tspeaker\tdeleted\n",
    "# The information we need is the speaker and the line_text. The line_text consists of what we define as actions and lines.\n",
    "# We want our bot to create lines and actions.\n",
    "# In order to do that we need to analyse both the actions and lines of each character.\n",
    "# To be able to do that we need to seperate them from eachother in the excel, since theyre both in the same cell right now.\n",
    "# Task 1: Seperate line_text into Actions and Lines\n",
    "# Task 2: Collect all the lines for each character\n",
    "# Task 3: Collect all the actions for each character\n",
    "# Task 4: Create Markov chains. and so on...\n",
    "\n",
    "# The algorithm\n",
    "# Import the Excel file\n",
    "# Loop through all lines adding it to an array for each character;\n",
    "    # while also adding everything within [] to the action array\n"
   ]
  },
  {
   "cell_type": "code",
   "execution_count": 6,
   "metadata": {},
   "outputs": [
    {
     "ename": "OSError",
     "evalue": "[Errno 63] File name too long: \"          id  season  episode  scene  \\\\\\n0          1       1        1      1   \\n1          2       1        1      1   \\n2          3       1        1      1   \\n3          4       1        1      1   \\n4          5       1        1      1   \\n...      ...     ...      ...    ...   \\n59904  59905       9       23    112   \\n59905  59906       9       23    113   \\n59906  59907       9       23    114   \\n59907  59908       9       23    115   \\n59908  59909       9       23    116   \\n\\n                                               line_text   speaker  deleted  \\n0      All right Jim. Your quarterlies look very good...   Michael    False  \\n1             Oh, I told you. I couldn't close it. So...       Jim    False  \\n2      So you've come to the master for guidance? Is ...   Michael    False  \\n3             Actually, you called me in here, but yeah.       Jim    False  \\n4        All right. Well, let me show you how it's done.   Michael    False  \\n...                                                  ...       ...      ...  \\n59904  It all seems so very arbitrary. I applied for ...     Creed    False  \\n59905  I just feel lucky that I got a chance to share...  Meredith    False  \\n59906  I���m happy that this was all filmed so I can ...   Phyllis    False  \\n59907  I sold paper at this company for 12 years. My ...       Jim    False  \\n59908  I thought it was weird when you picked us to m...       Pam    False  \\n\\n[59909 rows x 7 columns]\"",
     "output_type": "error",
     "traceback": [
      "\u001b[0;31m---------------------------------------------------------------------------\u001b[0m",
      "\u001b[0;31mOSError\u001b[0m                                   Traceback (most recent call last)",
      "\u001b[0;32m<ipython-input-6-f47e38d6d57c>\u001b[0m in \u001b[0;36m<module>\u001b[0;34m\u001b[0m\n\u001b[1;32m     12\u001b[0m \u001b[0;32mfor\u001b[0m \u001b[0mrow\u001b[0m \u001b[0;32min\u001b[0m \u001b[0mdataFile\u001b[0m\u001b[0;34m:\u001b[0m\u001b[0;34m\u001b[0m\u001b[0;34m\u001b[0m\u001b[0m\n\u001b[1;32m     13\u001b[0m     \u001b[0mcharacter\u001b[0m \u001b[0;34m=\u001b[0m \u001b[0mdataFile\u001b[0m\u001b[0;34m\u001b[0m\u001b[0;34m\u001b[0m\u001b[0m\n\u001b[0;32m---> 14\u001b[0;31m     \u001b[0;32mwith\u001b[0m \u001b[0mopen\u001b[0m\u001b[0;34m(\u001b[0m\u001b[0;34m'%s'\u001b[0m \u001b[0;34m%\u001b[0m\u001b[0mcharacter\u001b[0m\u001b[0;34m,\u001b[0m \u001b[0;34m'w'\u001b[0m\u001b[0;34m)\u001b[0m\u001b[0;34m:\u001b[0m\u001b[0;34m\u001b[0m\u001b[0;34m\u001b[0m\u001b[0m\n\u001b[0m\u001b[1;32m     15\u001b[0m         \u001b[0mprint\u001b[0m\u001b[0;34m(\u001b[0m\u001b[0;34m'hi'\u001b[0m\u001b[0;34m)\u001b[0m\u001b[0;34m\u001b[0m\u001b[0;34m\u001b[0m\u001b[0m\n",
      "\u001b[0;31mOSError\u001b[0m: [Errno 63] File name too long: \"          id  season  episode  scene  \\\\\\n0          1       1        1      1   \\n1          2       1        1      1   \\n2          3       1        1      1   \\n3          4       1        1      1   \\n4          5       1        1      1   \\n...      ...     ...      ...    ...   \\n59904  59905       9       23    112   \\n59905  59906       9       23    113   \\n59906  59907       9       23    114   \\n59907  59908       9       23    115   \\n59908  59909       9       23    116   \\n\\n                                               line_text   speaker  deleted  \\n0      All right Jim. Your quarterlies look very good...   Michael    False  \\n1             Oh, I told you. I couldn't close it. So...       Jim    False  \\n2      So you've come to the master for guidance? Is ...   Michael    False  \\n3             Actually, you called me in here, but yeah.       Jim    False  \\n4        All right. Well, let me show you how it's done.   Michael    False  \\n...                                                  ...       ...      ...  \\n59904  It all seems so very arbitrary. I applied for ...     Creed    False  \\n59905  I just feel lucky that I got a chance to share...  Meredith    False  \\n59906  I���m happy that this was all filmed so I can ...   Phyllis    False  \\n59907  I sold paper at this company for 12 years. My ...       Jim    False  \\n59908  I thought it was weird when you picked us to m...       Pam    False  \\n\\n[59909 rows x 7 columns]\""
     ]
    }
   ],
   "source": [
    "# Importing the dataset\n",
    "import pandas as pd\n",
    "\n",
    "dataFile = pd.read_excel('/Users/phillipeismark/Jupyter/DataScienceEksamen/the-office-lines.xlsx')\n",
    "# We want to loop through the excel just once and add the line to the right places.\n",
    "\n",
    "# Identify each character, \n",
    "\n",
    "# EITHER: Find the [] and take it out and save it in an array first then take the rest.\n",
    "# OR: add everything first to each character and loop through the array after.\n",
    "\n",
    "for row in dataFile:\n",
    "    character = dataFile.row\n",
    "    with open('%s' %character, 'w'):\n",
    "        print('hi')\n"
   ]
  },
  {
   "cell_type": "code",
   "execution_count": 7,
   "metadata": {},
   "outputs": [
    {
     "name": "stdout",
     "output_type": "stream",
     "text": [
      "hi\n"
     ]
    }
   ],
   "source": []
  },
  {
   "cell_type": "code",
   "execution_count": null,
   "metadata": {},
   "outputs": [],
   "source": []
  }
 ],
 "metadata": {
  "kernelspec": {
   "display_name": "Python 3",
   "language": "python",
   "name": "python3"
  },
  "language_info": {
   "codemirror_mode": {
    "name": "ipython",
    "version": 3
   },
   "file_extension": ".py",
   "mimetype": "text/x-python",
   "name": "python",
   "nbconvert_exporter": "python",
   "pygments_lexer": "ipython3",
   "version": "3.7.4"
  }
 },
 "nbformat": 4,
 "nbformat_minor": 4
}
