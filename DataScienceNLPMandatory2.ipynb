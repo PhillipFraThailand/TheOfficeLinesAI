{
 "cells": [
  {
   "cell_type": "code",
   "execution_count": 8,
   "metadata": {},
   "outputs": [],
   "source": [
    "# Import dataset in current directory\n",
    "import pandas as pd\n",
    "import os\n",
    "\n",
    " \n",
    "\n",
    "directory = os.getcwd()\n",
    "data = pd.read_excel(directory + '/the-office-lines.xlsx')\n",
    "df =  pd.DataFrame(data, columns=['speaker', 'line_text'])"
   ]
  },
  {
   "cell_type": "code",
   "execution_count": 10,
   "metadata": {},
   "outputs": [
    {
     "ename": "SyntaxError",
     "evalue": "unexpected EOF while parsing (<ipython-input-10-c7ae420e48cc>, line 8)",
     "output_type": "error",
     "traceback": [
      "\u001b[0;36m  File \u001b[0;32m\"<ipython-input-10-c7ae420e48cc>\"\u001b[0;36m, line \u001b[0;32m8\u001b[0m\n\u001b[0;31m    f.write(str(row['line_text'])\u001b[0m\n\u001b[0m                                 ^\u001b[0m\n\u001b[0;31mSyntaxError\u001b[0m\u001b[0;31m:\u001b[0m unexpected EOF while parsing\n"
     ]
    }
   ],
   "source": [
    "characters = ['Dwight']\n",
    "\n",
    " \n",
    "for index, row in df.iterrows():\n",
    "    if row['speaker'] in characters:\n",
    "        speaker = row['speaker']\n",
    "        with open('%s_transcript' %speaker + '.txt', 'a') as f:\n",
    "            f.write(str(row['line_text']))"
   ]
  },
  {
   "cell_type": "code",
   "execution_count": null,
   "metadata": {},
   "outputs": [],
   "source": [
    "import re\n",
    "def get_actions(all_lines):\n",
    "    for line in all_lines:\n",
    "        res = re.findall(r'\\[.*?\\]', line)\n",
    "        if not len(res) == 0:\n",
    "            with open('%s_actions' %speaker + '.txt', 'a') as f:\n",
    "                f.write(str(res))\n",
    "            print(res)"
   ]
  },
  {
   "cell_type": "code",
   "execution_count": null,
   "metadata": {},
   "outputs": [],
   "source": [
    "def remove_actions(all_lines):\n",
    "    for line in all_lines:\n",
    "        res = re.sub(r'\\[.*?\\]', '', line)\n",
    "        if not len(res) == 0:\n",
    "            with open('%s_lines' %speaker + '.txt', 'a') as f:\n",
    "                f.write(str(res))\n",
    "            print(res)"
   ]
  },
  {
   "cell_type": "code",
   "execution_count": null,
   "metadata": {},
   "outputs": [],
   "source": [
    "f = open('Dwight_transcript.txt', 'r')\n",
    "get_actions(f)"
   ]
  },
  {
   "cell_type": "code",
   "execution_count": null,
   "metadata": {},
   "outputs": [],
   "source": [
    "f = open('Dwight_transcript.txt', 'r')\n",
    "remove_actions(f)"
   ]
  },
  {
   "cell_type": "code",
   "execution_count": null,
   "metadata": {},
   "outputs": [],
   "source": []
  },
  {
   "cell_type": "code",
   "execution_count": null,
   "metadata": {},
   "outputs": [],
   "source": []
  }
 ],
 "metadata": {
  "kernelspec": {
   "display_name": "Python 3",
   "language": "python",
   "name": "python3"
  },
  "language_info": {
   "codemirror_mode": {
    "name": "ipython",
    "version": 3
   },
   "file_extension": ".py",
   "mimetype": "text/x-python",
   "name": "python",
   "nbconvert_exporter": "python",
   "pygments_lexer": "ipython3",
   "version": "3.7.4"
  }
 },
 "nbformat": 4,
 "nbformat_minor": 4
}
