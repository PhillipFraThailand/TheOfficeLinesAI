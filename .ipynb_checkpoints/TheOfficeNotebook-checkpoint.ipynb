{
 "cells": [
  {
   "cell_type": "markdown",
   "metadata": {},
   "source": [
    "# The Office Text Generator"
   ]
  },
  {
   "cell_type": "markdown",
   "metadata": {},
   "source": [
    "## Introduction\n",
    "This notebook is for a school project on software development at KEA - Copenhagen school of design nd tecnology."
   ]
  },
  {
   "cell_type": "markdown",
   "metadata": {},
   "source": [
    "### Research question\n",
    "\n",
    "Is it possible with AI to generate lines for characters from the tv-series ‘The Office’ and successfully imitate the personality of the characters? \n",
    "* How can we scientifically justify what is a successful imitation of a character?\n",
    "* Which parameters can we use to measure the performance of the text generator?\n"
   ]
  },
  {
   "cell_type": "markdown",
   "metadata": {},
   "source": [
    "### Approach / Methods\n",
    "* Data Cleaning\n",
    "* Data Analysis (EDA)\n",
    "    - Word count\n",
    "    - Get top word\n",
    "    - Bleeped words (som are stored as an actions and some as line)\n",
    "* PCA\n",
    "    - Show 2 dimensional data with bleeped words and word count\n",
    "* Text Generation"
   ]
  },
  {
   "cell_type": "markdown",
   "metadata": {},
   "source": [
    "### Characthers list\n",
    "* Characther that in atleast 50% of the entiere tv-show (16 characthers)\n",
    ">['Dwight', 'Pam', 'Jim', 'Stanley', 'Angela', 'Phyllis', 'Meredith', 'Creed', 'Oscar', 'Ryan', 'Kelly', 'Andy', 'Toby', 'Michael', 'Darryl', 'Erin' ]\n",
    "* Top 5 Characthers\n",
    "> ['Dwight', 'Pam', 'Jim', 'Stanley', 'Michael']"
   ]
  },
  {
   "cell_type": "markdown",
   "metadata": {},
   "source": [
    "## Data Extraction"
   ]
  },
  {
   "cell_type": "code",
   "execution_count": 4,
   "metadata": {},
   "outputs": [],
   "source": [
    "import pandas as pd\n",
    "import os\n",
    "import re\n",
    "import pickle"
   ]
  },
  {
   "cell_type": "markdown",
   "metadata": {},
   "source": [
    "### Getting Data\n",
    "Extract the data from excel file - the-office-lines.xlsx"
   ]
  },
  {
   "cell_type": "code",
   "execution_count": 5,
   "metadata": {},
   "outputs": [
    {
     "data": {
      "text/html": [
       "<div>\n",
       "<style scoped>\n",
       "    .dataframe tbody tr th:only-of-type {\n",
       "        vertical-align: middle;\n",
       "    }\n",
       "\n",
       "    .dataframe tbody tr th {\n",
       "        vertical-align: top;\n",
       "    }\n",
       "\n",
       "    .dataframe thead th {\n",
       "        text-align: right;\n",
       "    }\n",
       "</style>\n",
       "<table border=\"1\" class=\"dataframe\">\n",
       "  <thead>\n",
       "    <tr style=\"text-align: right;\">\n",
       "      <th></th>\n",
       "      <th>speaker</th>\n",
       "      <th>line_text</th>\n",
       "    </tr>\n",
       "  </thead>\n",
       "  <tbody>\n",
       "    <tr>\n",
       "      <td>0</td>\n",
       "      <td>Michael</td>\n",
       "      <td>All right Jim. Your quarterlies look very good...</td>\n",
       "    </tr>\n",
       "    <tr>\n",
       "      <td>1</td>\n",
       "      <td>Jim</td>\n",
       "      <td>Oh, I told you. I couldn't close it. So...</td>\n",
       "    </tr>\n",
       "    <tr>\n",
       "      <td>2</td>\n",
       "      <td>Michael</td>\n",
       "      <td>So you've come to the master for guidance? Is ...</td>\n",
       "    </tr>\n",
       "    <tr>\n",
       "      <td>3</td>\n",
       "      <td>Jim</td>\n",
       "      <td>Actually, you called me in here, but yeah.</td>\n",
       "    </tr>\n",
       "    <tr>\n",
       "      <td>4</td>\n",
       "      <td>Michael</td>\n",
       "      <td>All right. Well, let me show you how it's done.</td>\n",
       "    </tr>\n",
       "  </tbody>\n",
       "</table>\n",
       "</div>"
      ],
      "text/plain": [
       "   speaker                                          line_text\n",
       "0  Michael  All right Jim. Your quarterlies look very good...\n",
       "1      Jim         Oh, I told you. I couldn't close it. So...\n",
       "2  Michael  So you've come to the master for guidance? Is ...\n",
       "3      Jim         Actually, you called me in here, but yeah.\n",
       "4  Michael    All right. Well, let me show you how it's done."
      ]
     },
     "execution_count": 5,
     "metadata": {},
     "output_type": "execute_result"
    }
   ],
   "source": [
    "directory = os.getcwd()\n",
    "data = pd.read_excel(directory + '/the-office-lines.xlsx')\n",
    "df =  pd.DataFrame(data, columns=['speaker', 'line_text'])\n",
    "\n",
    "df.head()"
   ]
  },
  {
   "cell_type": "code",
   "execution_count": 16,
   "metadata": {},
   "outputs": [
    {
     "ename": "SyntaxError",
     "evalue": "invalid syntax (<ipython-input-16-7ac02d7d25e4>, line 3)",
     "output_type": "error",
     "traceback": [
      "\u001b[0;36m  File \u001b[0;32m\"<ipython-input-16-7ac02d7d25e4>\"\u001b[0;36m, line \u001b[0;32m3\u001b[0m\n\u001b[0;31m    mkdir Transcripts\u001b[0m\n\u001b[0m                    ^\u001b[0m\n\u001b[0;31mSyntaxError\u001b[0m\u001b[0;31m:\u001b[0m invalid syntax\n"
     ]
    }
   ],
   "source": [
    "#Getting Transcripts\n",
    "#Creating a transcript file for each character in the choosen characther list\n",
    "mkdir Transcripts"
   ]
  },
  {
   "cell_type": "code",
   "execution_count": 17,
   "metadata": {},
   "outputs": [],
   "source": [
    "top16Char = ['Dwight', 'Pam', 'Jim', 'Stanley', 'Angela', 'Phyllis', 'Meredith', 'Creed', 'Oscar', 'Ryan', 'Kelly', 'Andy', 'Toby', 'Michael', 'Darryl', 'Erin' ]\n",
    "top5Char = ['Dwight', 'Pam', 'Jim', 'Stanley', 'Michael']"
   ]
  },
  {
   "cell_type": "code",
   "execution_count": 18,
   "metadata": {},
   "outputs": [
    {
     "name": "stdout",
     "output_type": "stream",
     "text": [
      "Transcripts extracted from excel file\n"
     ]
    }
   ],
   "source": [
    "for index, row in df.iterrows():\n",
    "    if row['speaker'] in top5Char:\n",
    "        speaker = row['speaker']\n",
    "        with open('Transcripts/%s_transcript' %speaker + '.txt', 'a') as f:\n",
    "            f.write(str(row['line_text']))\n",
    "print('Transcripts extracted from excel file')"
   ]
  },
  {
   "cell_type": "markdown",
   "metadata": {},
   "source": [
    "#### Storing Actions\n",
    "Extract actions from characters transcript files in the directory Transcripts,\n",
    "and pickle them to at new actions file\n",
    "\n",
    "We store the actions so that we later can extract all the bleeped actions\n",
    "* mkdir Actions"
   ]
  },
  {
   "cell_type": "code",
   "execution_count": 19,
   "metadata": {},
   "outputs": [],
   "source": [
    "mkdir Actions"
   ]
  },
  {
   "cell_type": "code",
   "execution_count": 20,
   "metadata": {},
   "outputs": [],
   "source": [
    "for character in top5Char:\n",
    "    all_lines = open('Transcripts/%s_transcript' %character + '.txt', 'r')\n",
    "    for line in all_lines:\n",
    "        res = re.findall(r'\\[.*?\\]', line)\n",
    "        if not len(res) == 0:\n",
    "            with open('Actions/%s_actions' %character + '.txt', 'wb') as f:\n",
    "                pickle.dump(str(res), f)"
   ]
  },
  {
   "cell_type": "markdown",
   "metadata": {},
   "source": [
    "#### Storing Lines\n",
    "Extract Lines from characters transcript files in the directory Transcripts,\n",
    "and pickle them to at new lines file\n",
    "* mkdir Lines"
   ]
  },
  {
   "cell_type": "code",
   "execution_count": 21,
   "metadata": {},
   "outputs": [],
   "source": [
    "mkdir Lines"
   ]
  },
  {
   "cell_type": "code",
   "execution_count": 22,
   "metadata": {},
   "outputs": [],
   "source": [
    "for character in top5Char:\n",
    "    all_lines = open('Transcripts/%s_transcript' %character + '.txt', 'r')\n",
    "    for line in all_lines:\n",
    "        res = re.sub(r'\\[.*?\\]', '', line)\n",
    "        if not len(res) == 0:\n",
    "            with open('Lines/%s_lines' %character + '.txt', 'wb') as f:\n",
    "                pickle.dump(str(res), f)"
   ]
  },
  {
   "cell_type": "markdown",
   "metadata": {},
   "source": [
    "#### Loading the pickeled actions and line\n",
    "Actions"
   ]
  },
  {
   "cell_type": "code",
   "execution_count": 23,
   "metadata": {},
   "outputs": [],
   "source": [
    "actions = {}\n",
    "for i, char in enumerate(top5Char):\n",
    "    with open('Actions/%s_actions' %char + \".txt\", \"rb\") as file:\n",
    "        actions[char] = pickle.load(file)"
   ]
  },
  {
   "cell_type": "code",
   "execution_count": 24,
   "metadata": {},
   "outputs": [
    {
     "data": {
      "text/plain": [
       "dict_keys(['Dwight', 'Pam', 'Jim', 'Stanley', 'Michael'])"
      ]
     },
     "execution_count": 24,
     "metadata": {},
     "output_type": "execute_result"
    }
   ],
   "source": [
    "actions.keys()"
   ]
  },
  {
   "cell_type": "markdown",
   "metadata": {},
   "source": [
    "Lines"
   ]
  },
  {
   "cell_type": "code",
   "execution_count": 25,
   "metadata": {},
   "outputs": [],
   "source": [
    "lines = {}\n",
    "for i, char in enumerate(top5Char):\n",
    "    with open('Lines/%s_lines' %char + \".txt\", \"rb\") as file:\n",
    "        lines[char] = pickle.load(file)"
   ]
  },
  {
   "cell_type": "code",
   "execution_count": 26,
   "metadata": {},
   "outputs": [
    {
     "data": {
      "text/plain": [
       "dict_keys(['Dwight', 'Pam', 'Jim', 'Stanley', 'Michael'])"
      ]
     },
     "execution_count": 26,
     "metadata": {},
     "output_type": "execute_result"
    }
   ],
   "source": [
    "lines.keys()"
   ]
  },
  {
   "cell_type": "markdown",
   "metadata": {},
   "source": [
    "## Data Cleaning"
   ]
  },
  {
   "cell_type": "code",
   "execution_count": 27,
   "metadata": {},
   "outputs": [],
   "source": [
    "import pandas as pd\n",
    "import string"
   ]
  },
  {
   "cell_type": "markdown",
   "metadata": {},
   "source": [
    "##### Combine fuction"
   ]
  },
  {
   "cell_type": "code",
   "execution_count": 28,
   "metadata": {},
   "outputs": [],
   "source": [
    "# combine\n",
    "def combine_text(list_of_text):\n",
    "    combined_text = \"\".join(list_of_text)\n",
    "    return combined_text"
   ]
  },
  {
   "cell_type": "markdown",
   "metadata": {},
   "source": [
    "#### Cleaning actions fuction"
   ]
  },
  {
   "cell_type": "code",
   "execution_count": 29,
   "metadata": {},
   "outputs": [],
   "source": [
    "# cleaing technique actions\n",
    "def clean_actions(text):\n",
    "    text = text.lower()\n",
    "    text = re.sub(\"[']\", '', text)\n",
    "    text = re.sub('\\w*\\d\\w*', '', text)\n",
    "    text = re.sub(\"[,]\", '', text)\n",
    "    text = re.sub('[\"]', '', text)\n",
    "    text = re.sub('[%s]' % re.escape(string.punctuation), ' ', text)\n",
    "    \n",
    "    return text\n",
    "\n",
    "actions_clening = lambda x: clean_actions(x)"
   ]
  },
  {
   "cell_type": "markdown",
   "metadata": {},
   "source": [
    "#### Cleaning round 1 fuction for lines"
   ]
  },
  {
   "cell_type": "code",
   "execution_count": 30,
   "metadata": {},
   "outputs": [],
   "source": [
    "# cleaing technique round 1\n",
    "def clean_text_round1(text):\n",
    "    '''Make text lowercase, remove text in square brackets, remove punctuation and remove words containing numbers.'''\n",
    "    text = text.lower()\n",
    "    text = re.sub(\"[']\", '', text)\n",
    "    text = re.sub('\\w*\\d\\w*', '', text)\n",
    "    text = re.sub('[%s]' % re.escape(string.punctuation), ' ', text)\n",
    "    \n",
    "    \n",
    "    return text\n",
    "\n",
    "round1 = lambda x: clean_text_round1(x)"
   ]
  },
  {
   "cell_type": "markdown",
   "metadata": {},
   "source": [
    "#### Clening round 2 fuction"
   ]
  },
  {
   "cell_type": "code",
   "execution_count": 31,
   "metadata": {},
   "outputs": [],
   "source": [
    "# cleaing technique round 2\n",
    "def clean_text_round2(text):\n",
    "    text = re.sub('[‘’“”…]', '', text)\n",
    "    text = re.sub('\\n', '', text)\n",
    "   \n",
    "    return text\n",
    "\n",
    "round2 = lambda x: clean_text_round2(x)"
   ]
  },
  {
   "cell_type": "markdown",
   "metadata": {},
   "source": [
    "#### Actions cleaning\n",
    "* combine\n",
    "* pandas dataframe\n",
    "* cleaning techniques round 1"
   ]
  },
  {
   "cell_type": "code",
   "execution_count": 32,
   "metadata": {},
   "outputs": [],
   "source": [
    "# combine\n",
    "actions_combined = {key: [combine_text(value)] for (key, value) in actions.items()}\n",
    "#actions_combined"
   ]
  },
  {
   "cell_type": "code",
   "execution_count": 33,
   "metadata": {},
   "outputs": [
    {
     "data": {
      "text/html": [
       "<div>\n",
       "<style scoped>\n",
       "    .dataframe tbody tr th:only-of-type {\n",
       "        vertical-align: middle;\n",
       "    }\n",
       "\n",
       "    .dataframe tbody tr th {\n",
       "        vertical-align: top;\n",
       "    }\n",
       "\n",
       "    .dataframe thead th {\n",
       "        text-align: right;\n",
       "    }\n",
       "</style>\n",
       "<table border=\"1\" class=\"dataframe\">\n",
       "  <thead>\n",
       "    <tr style=\"text-align: right;\">\n",
       "      <th></th>\n",
       "      <th>actions</th>\n",
       "    </tr>\n",
       "  </thead>\n",
       "  <tbody>\n",
       "    <tr>\n",
       "      <td>Dwight</td>\n",
       "      <td>['[singing]', '[Imitates heavy drumming]', '[Imitates heavy drumming]', '[points to Ryan]', '[new take]', '[does a martial arts move with his hand...</td>\n",
       "    </tr>\n",
       "    <tr>\n",
       "      <td>Jim</td>\n",
       "      <td>['[crosses fingers]', '[Dwight begins smashing pencils with his phone]', '[scratches head]', '[Car horn honking]', '[looks at camera]', '[Shedder ...</td>\n",
       "    </tr>\n",
       "    <tr>\n",
       "      <td>Michael</td>\n",
       "      <td>['[on the phone]', '[quick cut scene]', '[hangs up]', '[Clears throat]', '[growls]', \"[shows the camera his WORLD'S BEST BOSS mug]\", '[Strains, gr...</td>\n",
       "    </tr>\n",
       "    <tr>\n",
       "      <td>Pam</td>\n",
       "      <td>['[Laughs]', '[Laughing]', '[stirs]', '[nods toward camera]', '[laughs]', '[on phone]', '[Dwight laughs]', '[whispering]', '[on her cell phone]', ...</td>\n",
       "    </tr>\n",
       "    <tr>\n",
       "      <td>Stanley</td>\n",
       "      <td>['[looks at keys, continues talking on phone]', '[in pain]', '[starts chuckling]', '[laughs, and imitates Donald Trump]', '[laughs]', \"[after Ryan...</td>\n",
       "    </tr>\n",
       "  </tbody>\n",
       "</table>\n",
       "</div>"
      ],
      "text/plain": [
       "                                                                                                                                                       actions\n",
       "Dwight   ['[singing]', '[Imitates heavy drumming]', '[Imitates heavy drumming]', '[points to Ryan]', '[new take]', '[does a martial arts move with his hand...\n",
       "Jim      ['[crosses fingers]', '[Dwight begins smashing pencils with his phone]', '[scratches head]', '[Car horn honking]', '[looks at camera]', '[Shedder ...\n",
       "Michael  ['[on the phone]', '[quick cut scene]', '[hangs up]', '[Clears throat]', '[growls]', \"[shows the camera his WORLD'S BEST BOSS mug]\", '[Strains, gr...\n",
       "Pam      ['[Laughs]', '[Laughing]', '[stirs]', '[nods toward camera]', '[laughs]', '[on phone]', '[Dwight laughs]', '[whispering]', '[on her cell phone]', ...\n",
       "Stanley  ['[looks at keys, continues talking on phone]', '[in pain]', '[starts chuckling]', '[laughs, and imitates Donald Trump]', '[laughs]', \"[after Ryan..."
      ]
     },
     "execution_count": 33,
     "metadata": {},
     "output_type": "execute_result"
    }
   ],
   "source": [
    "# padas dataframe\n",
    "pd.set_option('max_colwidth',150)\n",
    "\n",
    "actions_df = pd.DataFrame.from_dict(actions_combined).transpose()\n",
    "actions_df.columns = ['actions']\n",
    "actions_df = actions_df.sort_index()\n",
    "actions_df"
   ]
  },
  {
   "cell_type": "code",
   "execution_count": 34,
   "metadata": {},
   "outputs": [
    {
     "data": {
      "text/html": [
       "<div>\n",
       "<style scoped>\n",
       "    .dataframe tbody tr th:only-of-type {\n",
       "        vertical-align: middle;\n",
       "    }\n",
       "\n",
       "    .dataframe tbody tr th {\n",
       "        vertical-align: top;\n",
       "    }\n",
       "\n",
       "    .dataframe thead th {\n",
       "        text-align: right;\n",
       "    }\n",
       "</style>\n",
       "<table border=\"1\" class=\"dataframe\">\n",
       "  <thead>\n",
       "    <tr style=\"text-align: right;\">\n",
       "      <th></th>\n",
       "      <th>actions</th>\n",
       "    </tr>\n",
       "  </thead>\n",
       "  <tbody>\n",
       "    <tr>\n",
       "      <td>Dwight</td>\n",
       "      <td>singing   imitates heavy drumming   imitates heavy drumming   points to ryan   new take   does a martial arts move with his hands   talking over...</td>\n",
       "    </tr>\n",
       "    <tr>\n",
       "      <td>Jim</td>\n",
       "      <td>crosses fingers   dwight begins smashing pencils with his phone   scratches head   car horn honking   looks at camera   shedder whirring   power...</td>\n",
       "    </tr>\n",
       "    <tr>\n",
       "      <td>Michael</td>\n",
       "      <td>on the phone   quick cut scene   hangs up   clears throat   growls   shows the camera his worlds best boss mug   strains grunts   walking out of...</td>\n",
       "    </tr>\n",
       "    <tr>\n",
       "      <td>Pam</td>\n",
       "      <td>laughs   laughing   stirs   nods toward camera   laughs   on phone   dwight laughs   whispering   on her cell phone   gives meredith her card   ...</td>\n",
       "    </tr>\n",
       "    <tr>\n",
       "      <td>Stanley</td>\n",
       "      <td>looks at keys continues talking on phone   in pain   starts chuckling   laughs and imitates donald trump   laughs   after ryan opens a new gift ...</td>\n",
       "    </tr>\n",
       "  </tbody>\n",
       "</table>\n",
       "</div>"
      ],
      "text/plain": [
       "                                                                                                                                                       actions\n",
       "Dwight     singing   imitates heavy drumming   imitates heavy drumming   points to ryan   new take   does a martial arts move with his hands   talking over...\n",
       "Jim        crosses fingers   dwight begins smashing pencils with his phone   scratches head   car horn honking   looks at camera   shedder whirring   power...\n",
       "Michael    on the phone   quick cut scene   hangs up   clears throat   growls   shows the camera his worlds best boss mug   strains grunts   walking out of...\n",
       "Pam        laughs   laughing   stirs   nods toward camera   laughs   on phone   dwight laughs   whispering   on her cell phone   gives meredith her card   ...\n",
       "Stanley    looks at keys continues talking on phone   in pain   starts chuckling   laughs and imitates donald trump   laughs   after ryan opens a new gift ..."
      ]
     },
     "execution_count": 34,
     "metadata": {},
     "output_type": "execute_result"
    }
   ],
   "source": [
    "# cleaing technique round 1\n",
    "actions_clean = pd.DataFrame(actions_df.actions.apply(actions_clening))\n",
    "actions_clean"
   ]
  },
  {
   "cell_type": "code",
   "execution_count": 35,
   "metadata": {},
   "outputs": [],
   "source": [
    "# cleaing technique round 2\n",
    "actions_clean = pd.DataFrame(actions_clean.actions.apply(round2))\n",
    "#actions_clean"
   ]
  },
  {
   "cell_type": "markdown",
   "metadata": {},
   "source": [
    "#### Lines cleaning\n",
    "* combine\n",
    "* pandas dataframe\n",
    "* cleaning techniques round 1 and 2"
   ]
  },
  {
   "cell_type": "code",
   "execution_count": 36,
   "metadata": {},
   "outputs": [],
   "source": [
    "# combine\n",
    "lines_combined = {key: [combine_text(value)] for (key, value) in lines.items()}\n",
    "#lines_combined"
   ]
  },
  {
   "cell_type": "code",
   "execution_count": 37,
   "metadata": {},
   "outputs": [
    {
     "data": {
      "text/html": [
       "<div>\n",
       "<style scoped>\n",
       "    .dataframe tbody tr th:only-of-type {\n",
       "        vertical-align: middle;\n",
       "    }\n",
       "\n",
       "    .dataframe tbody tr th {\n",
       "        vertical-align: top;\n",
       "    }\n",
       "\n",
       "    .dataframe thead th {\n",
       "        text-align: right;\n",
       "    }\n",
       "</style>\n",
       "<table border=\"1\" class=\"dataframe\">\n",
       "  <thead>\n",
       "    <tr style=\"text-align: right;\">\n",
       "      <th></th>\n",
       "      <th>lines</th>\n",
       "    </tr>\n",
       "  </thead>\n",
       "  <tbody>\n",
       "    <tr>\n",
       "      <td>Dwight</td>\n",
       "      <td>Shall I play for you? Pa rum pump um pum  I have no gifts for you. Pa rum pump um pum Whassup!Whassup.What?Just clearing my desk. I can't concent...</td>\n",
       "    </tr>\n",
       "    <tr>\n",
       "      <td>Jim</td>\n",
       "      <td>Oh, I told you. I couldn't close it. So...Actually, you called me in here, but yeah.My job is to speak to clients on the phone about... uh, quanti...</td>\n",
       "    </tr>\n",
       "    <tr>\n",
       "      <td>Michael</td>\n",
       "      <td>All right Jim. Your quarterlies look very good. How are things at the library?So you've come to the master for guidance? Is this what you're sayin...</td>\n",
       "    </tr>\n",
       "    <tr>\n",
       "      <td>Pam</td>\n",
       "      <td>Well. I don't know.What?Uh, yeah. Just a fax.You haven't told me.Uh, yeah, the one...You put in the garbage can that was a special filing cabinet....</td>\n",
       "    </tr>\n",
       "    <tr>\n",
       "      <td>Stanley</td>\n",
       "      <td>Well...It could be out of your hands Michael.Can you promise that?It's just that we need to know.You can't say for sure whether it'll be us or the...</td>\n",
       "    </tr>\n",
       "  </tbody>\n",
       "</table>\n",
       "</div>"
      ],
      "text/plain": [
       "                                                                                                                                                         lines\n",
       "Dwight    Shall I play for you? Pa rum pump um pum  I have no gifts for you. Pa rum pump um pum Whassup!Whassup.What?Just clearing my desk. I can't concent...\n",
       "Jim      Oh, I told you. I couldn't close it. So...Actually, you called me in here, but yeah.My job is to speak to clients on the phone about... uh, quanti...\n",
       "Michael  All right Jim. Your quarterlies look very good. How are things at the library?So you've come to the master for guidance? Is this what you're sayin...\n",
       "Pam      Well. I don't know.What?Uh, yeah. Just a fax.You haven't told me.Uh, yeah, the one...You put in the garbage can that was a special filing cabinet....\n",
       "Stanley  Well...It could be out of your hands Michael.Can you promise that?It's just that we need to know.You can't say for sure whether it'll be us or the..."
      ]
     },
     "execution_count": 37,
     "metadata": {},
     "output_type": "execute_result"
    }
   ],
   "source": [
    "# padas dataframe\n",
    "pd.set_option('max_colwidth',150)\n",
    "\n",
    "lines_df = pd.DataFrame.from_dict(lines_combined).transpose()\n",
    "lines_df.columns = ['lines']\n",
    "lines_df = lines_df.sort_index()\n",
    "lines_df"
   ]
  },
  {
   "cell_type": "code",
   "execution_count": 38,
   "metadata": {},
   "outputs": [
    {
     "data": {
      "text/html": [
       "<div>\n",
       "<style scoped>\n",
       "    .dataframe tbody tr th:only-of-type {\n",
       "        vertical-align: middle;\n",
       "    }\n",
       "\n",
       "    .dataframe tbody tr th {\n",
       "        vertical-align: top;\n",
       "    }\n",
       "\n",
       "    .dataframe thead th {\n",
       "        text-align: right;\n",
       "    }\n",
       "</style>\n",
       "<table border=\"1\" class=\"dataframe\">\n",
       "  <thead>\n",
       "    <tr style=\"text-align: right;\">\n",
       "      <th></th>\n",
       "      <th>lines</th>\n",
       "    </tr>\n",
       "  </thead>\n",
       "  <tbody>\n",
       "    <tr>\n",
       "      <td>Dwight</td>\n",
       "      <td>shall i play for you  pa rum pump um pum  i have no gifts for you  pa rum pump um pum whassup whassup what just clearing my desk  i cant concentr...</td>\n",
       "    </tr>\n",
       "    <tr>\n",
       "      <td>Jim</td>\n",
       "      <td>oh  i told you  i couldnt close it  so   actually  you called me in here  but yeah my job is to speak to clients on the phone about    uh  quantit...</td>\n",
       "    </tr>\n",
       "    <tr>\n",
       "      <td>Michael</td>\n",
       "      <td>all right jim  your quarterlies look very good  how are things at the library so youve come to the master for guidance  is this what youre saying ...</td>\n",
       "    </tr>\n",
       "    <tr>\n",
       "      <td>Pam</td>\n",
       "      <td>well  i dont know what uh  yeah  just a fax you havent told me uh  yeah  the one   you put in the garbage can that was a special filing cabinet i ...</td>\n",
       "    </tr>\n",
       "    <tr>\n",
       "      <td>Stanley</td>\n",
       "      <td>well   it could be out of your hands michael can you promise that its just that we need to know you cant say for sure whether itll be us or them  ...</td>\n",
       "    </tr>\n",
       "  </tbody>\n",
       "</table>\n",
       "</div>"
      ],
      "text/plain": [
       "                                                                                                                                                         lines\n",
       "Dwight    shall i play for you  pa rum pump um pum  i have no gifts for you  pa rum pump um pum whassup whassup what just clearing my desk  i cant concentr...\n",
       "Jim      oh  i told you  i couldnt close it  so   actually  you called me in here  but yeah my job is to speak to clients on the phone about    uh  quantit...\n",
       "Michael  all right jim  your quarterlies look very good  how are things at the library so youve come to the master for guidance  is this what youre saying ...\n",
       "Pam      well  i dont know what uh  yeah  just a fax you havent told me uh  yeah  the one   you put in the garbage can that was a special filing cabinet i ...\n",
       "Stanley  well   it could be out of your hands michael can you promise that its just that we need to know you cant say for sure whether itll be us or them  ..."
      ]
     },
     "execution_count": 38,
     "metadata": {},
     "output_type": "execute_result"
    }
   ],
   "source": [
    "# cleaing technique round 1\n",
    "lines_clean = pd.DataFrame(lines_df.lines.apply(round1))\n",
    "lines_clean"
   ]
  },
  {
   "cell_type": "code",
   "execution_count": 39,
   "metadata": {},
   "outputs": [
    {
     "data": {
      "text/html": [
       "<div>\n",
       "<style scoped>\n",
       "    .dataframe tbody tr th:only-of-type {\n",
       "        vertical-align: middle;\n",
       "    }\n",
       "\n",
       "    .dataframe tbody tr th {\n",
       "        vertical-align: top;\n",
       "    }\n",
       "\n",
       "    .dataframe thead th {\n",
       "        text-align: right;\n",
       "    }\n",
       "</style>\n",
       "<table border=\"1\" class=\"dataframe\">\n",
       "  <thead>\n",
       "    <tr style=\"text-align: right;\">\n",
       "      <th></th>\n",
       "      <th>lines</th>\n",
       "    </tr>\n",
       "  </thead>\n",
       "  <tbody>\n",
       "    <tr>\n",
       "      <td>Dwight</td>\n",
       "      <td>shall i play for you  pa rum pump um pum  i have no gifts for you  pa rum pump um pum whassup whassup what just clearing my desk  i cant concentr...</td>\n",
       "    </tr>\n",
       "    <tr>\n",
       "      <td>Jim</td>\n",
       "      <td>oh  i told you  i couldnt close it  so   actually  you called me in here  but yeah my job is to speak to clients on the phone about    uh  quantit...</td>\n",
       "    </tr>\n",
       "    <tr>\n",
       "      <td>Michael</td>\n",
       "      <td>all right jim  your quarterlies look very good  how are things at the library so youve come to the master for guidance  is this what youre saying ...</td>\n",
       "    </tr>\n",
       "    <tr>\n",
       "      <td>Pam</td>\n",
       "      <td>well  i dont know what uh  yeah  just a fax you havent told me uh  yeah  the one   you put in the garbage can that was a special filing cabinet i ...</td>\n",
       "    </tr>\n",
       "    <tr>\n",
       "      <td>Stanley</td>\n",
       "      <td>well   it could be out of your hands michael can you promise that its just that we need to know you cant say for sure whether itll be us or them  ...</td>\n",
       "    </tr>\n",
       "  </tbody>\n",
       "</table>\n",
       "</div>"
      ],
      "text/plain": [
       "                                                                                                                                                         lines\n",
       "Dwight    shall i play for you  pa rum pump um pum  i have no gifts for you  pa rum pump um pum whassup whassup what just clearing my desk  i cant concentr...\n",
       "Jim      oh  i told you  i couldnt close it  so   actually  you called me in here  but yeah my job is to speak to clients on the phone about    uh  quantit...\n",
       "Michael  all right jim  your quarterlies look very good  how are things at the library so youve come to the master for guidance  is this what youre saying ...\n",
       "Pam      well  i dont know what uh  yeah  just a fax you havent told me uh  yeah  the one   you put in the garbage can that was a special filing cabinet i ...\n",
       "Stanley  well   it could be out of your hands michael can you promise that its just that we need to know you cant say for sure whether itll be us or them  ..."
      ]
     },
     "execution_count": 39,
     "metadata": {},
     "output_type": "execute_result"
    }
   ],
   "source": [
    "# cleaing technique round 2\n",
    "lines_clean = pd.DataFrame(lines_clean.lines.apply(round2))\n",
    "lines_clean"
   ]
  },
  {
   "cell_type": "markdown",
   "metadata": {},
   "source": [
    "## Organize Lines Data \n"
   ]
  },
  {
   "cell_type": "markdown",
   "metadata": {},
   "source": [
    "#### Corpus Lines"
   ]
  },
  {
   "cell_type": "markdown",
   "metadata": {},
   "source": [
    "* mkdir pickle"
   ]
  },
  {
   "cell_type": "code",
   "execution_count": 40,
   "metadata": {},
   "outputs": [],
   "source": [
    "mkdir pickle"
   ]
  },
  {
   "cell_type": "code",
   "execution_count": 41,
   "metadata": {},
   "outputs": [],
   "source": [
    "# Let's pickle it for later use\n",
    "lines_df.to_pickle(\"pickle/lines_corpus.pkl\")"
   ]
  },
  {
   "cell_type": "code",
   "execution_count": 42,
   "metadata": {},
   "outputs": [
    {
     "data": {
      "text/html": [
       "<div>\n",
       "<style scoped>\n",
       "    .dataframe tbody tr th:only-of-type {\n",
       "        vertical-align: middle;\n",
       "    }\n",
       "\n",
       "    .dataframe tbody tr th {\n",
       "        vertical-align: top;\n",
       "    }\n",
       "\n",
       "    .dataframe thead th {\n",
       "        text-align: right;\n",
       "    }\n",
       "</style>\n",
       "<table border=\"1\" class=\"dataframe\">\n",
       "  <thead>\n",
       "    <tr style=\"text-align: right;\">\n",
       "      <th></th>\n",
       "      <th>lines</th>\n",
       "      <th>Characthers</th>\n",
       "    </tr>\n",
       "  </thead>\n",
       "  <tbody>\n",
       "    <tr>\n",
       "      <td>Dwight</td>\n",
       "      <td>Shall I play for you? Pa rum pump um pum  I have no gifts for you. Pa rum pump um pum Whassup!Whassup.What?Just clearing my desk. I can't concent...</td>\n",
       "      <td>Dwight Schrute</td>\n",
       "    </tr>\n",
       "    <tr>\n",
       "      <td>Jim</td>\n",
       "      <td>Oh, I told you. I couldn't close it. So...Actually, you called me in here, but yeah.My job is to speak to clients on the phone about... uh, quanti...</td>\n",
       "      <td>Jim Halpert</td>\n",
       "    </tr>\n",
       "    <tr>\n",
       "      <td>Michael</td>\n",
       "      <td>All right Jim. Your quarterlies look very good. How are things at the library?So you've come to the master for guidance? Is this what you're sayin...</td>\n",
       "      <td>Michael Scott</td>\n",
       "    </tr>\n",
       "    <tr>\n",
       "      <td>Pam</td>\n",
       "      <td>Well. I don't know.What?Uh, yeah. Just a fax.You haven't told me.Uh, yeah, the one...You put in the garbage can that was a special filing cabinet....</td>\n",
       "      <td>Pam Beesly</td>\n",
       "    </tr>\n",
       "    <tr>\n",
       "      <td>Stanley</td>\n",
       "      <td>Well...It could be out of your hands Michael.Can you promise that?It's just that we need to know.You can't say for sure whether it'll be us or the...</td>\n",
       "      <td>Stanley Hudson</td>\n",
       "    </tr>\n",
       "  </tbody>\n",
       "</table>\n",
       "</div>"
      ],
      "text/plain": [
       "                                                                                                                                                         lines  \\\n",
       "Dwight    Shall I play for you? Pa rum pump um pum  I have no gifts for you. Pa rum pump um pum Whassup!Whassup.What?Just clearing my desk. I can't concent...   \n",
       "Jim      Oh, I told you. I couldn't close it. So...Actually, you called me in here, but yeah.My job is to speak to clients on the phone about... uh, quanti...   \n",
       "Michael  All right Jim. Your quarterlies look very good. How are things at the library?So you've come to the master for guidance? Is this what you're sayin...   \n",
       "Pam      Well. I don't know.What?Uh, yeah. Just a fax.You haven't told me.Uh, yeah, the one...You put in the garbage can that was a special filing cabinet....   \n",
       "Stanley  Well...It could be out of your hands Michael.Can you promise that?It's just that we need to know.You can't say for sure whether it'll be us or the...   \n",
       "\n",
       "            Characthers  \n",
       "Dwight   Dwight Schrute  \n",
       "Jim         Jim Halpert  \n",
       "Michael   Michael Scott  \n",
       "Pam          Pam Beesly  \n",
       "Stanley  Stanley Hudson  "
      ]
     },
     "execution_count": 42,
     "metadata": {},
     "output_type": "execute_result"
    }
   ],
   "source": [
    "char_names = ['Dwight Schrute', 'Jim Halpert', 'Michael Scott', 'Pam Beesly', 'Stanley Hudson']\n",
    "lines_df['Characthers'] = char_names\n",
    "lines_df"
   ]
  },
  {
   "cell_type": "markdown",
   "metadata": {},
   "source": [
    "#### Document-Term Matrix"
   ]
  },
  {
   "cell_type": "code",
   "execution_count": 43,
   "metadata": {},
   "outputs": [
    {
     "data": {
      "text/html": [
       "<div>\n",
       "<style scoped>\n",
       "    .dataframe tbody tr th:only-of-type {\n",
       "        vertical-align: middle;\n",
       "    }\n",
       "\n",
       "    .dataframe tbody tr th {\n",
       "        vertical-align: top;\n",
       "    }\n",
       "\n",
       "    .dataframe thead th {\n",
       "        text-align: right;\n",
       "    }\n",
       "</style>\n",
       "<table border=\"1\" class=\"dataframe\">\n",
       "  <thead>\n",
       "    <tr style=\"text-align: right;\">\n",
       "      <th></th>\n",
       "      <th>aa</th>\n",
       "      <th>aaaaaaaa</th>\n",
       "      <th>aaaaaand</th>\n",
       "      <th>aaaaah</th>\n",
       "      <th>aaaaeeexcellent</th>\n",
       "      <th>aaaagh</th>\n",
       "      <th>aaaah</th>\n",
       "      <th>aaaahh</th>\n",
       "      <th>aaaahhh</th>\n",
       "      <th>aaaall</th>\n",
       "      <th>...</th>\n",
       "      <th>zombie</th>\n",
       "      <th>zombies</th>\n",
       "      <th>zone</th>\n",
       "      <th>zoning</th>\n",
       "      <th>zoo</th>\n",
       "      <th>zoom</th>\n",
       "      <th>zooms</th>\n",
       "      <th>zoppity</th>\n",
       "      <th>zoran</th>\n",
       "      <th>zuckerberg</th>\n",
       "    </tr>\n",
       "  </thead>\n",
       "  <tbody>\n",
       "    <tr>\n",
       "      <td>Dwight</td>\n",
       "      <td>1</td>\n",
       "      <td>6</td>\n",
       "      <td>0</td>\n",
       "      <td>1</td>\n",
       "      <td>0</td>\n",
       "      <td>1</td>\n",
       "      <td>2</td>\n",
       "      <td>0</td>\n",
       "      <td>0</td>\n",
       "      <td>0</td>\n",
       "      <td>...</td>\n",
       "      <td>3</td>\n",
       "      <td>1</td>\n",
       "      <td>3</td>\n",
       "      <td>1</td>\n",
       "      <td>3</td>\n",
       "      <td>0</td>\n",
       "      <td>0</td>\n",
       "      <td>0</td>\n",
       "      <td>1</td>\n",
       "      <td>1</td>\n",
       "    </tr>\n",
       "    <tr>\n",
       "      <td>Jim</td>\n",
       "      <td>0</td>\n",
       "      <td>0</td>\n",
       "      <td>0</td>\n",
       "      <td>0</td>\n",
       "      <td>0</td>\n",
       "      <td>0</td>\n",
       "      <td>0</td>\n",
       "      <td>0</td>\n",
       "      <td>0</td>\n",
       "      <td>0</td>\n",
       "      <td>...</td>\n",
       "      <td>2</td>\n",
       "      <td>1</td>\n",
       "      <td>1</td>\n",
       "      <td>0</td>\n",
       "      <td>0</td>\n",
       "      <td>0</td>\n",
       "      <td>0</td>\n",
       "      <td>0</td>\n",
       "      <td>0</td>\n",
       "      <td>0</td>\n",
       "    </tr>\n",
       "    <tr>\n",
       "      <td>Michael</td>\n",
       "      <td>0</td>\n",
       "      <td>2</td>\n",
       "      <td>1</td>\n",
       "      <td>0</td>\n",
       "      <td>1</td>\n",
       "      <td>0</td>\n",
       "      <td>1</td>\n",
       "      <td>2</td>\n",
       "      <td>1</td>\n",
       "      <td>1</td>\n",
       "      <td>...</td>\n",
       "      <td>0</td>\n",
       "      <td>1</td>\n",
       "      <td>11</td>\n",
       "      <td>1</td>\n",
       "      <td>1</td>\n",
       "      <td>5</td>\n",
       "      <td>1</td>\n",
       "      <td>2</td>\n",
       "      <td>0</td>\n",
       "      <td>0</td>\n",
       "    </tr>\n",
       "    <tr>\n",
       "      <td>Pam</td>\n",
       "      <td>0</td>\n",
       "      <td>0</td>\n",
       "      <td>0</td>\n",
       "      <td>0</td>\n",
       "      <td>0</td>\n",
       "      <td>0</td>\n",
       "      <td>0</td>\n",
       "      <td>0</td>\n",
       "      <td>0</td>\n",
       "      <td>0</td>\n",
       "      <td>...</td>\n",
       "      <td>0</td>\n",
       "      <td>0</td>\n",
       "      <td>0</td>\n",
       "      <td>0</td>\n",
       "      <td>0</td>\n",
       "      <td>0</td>\n",
       "      <td>0</td>\n",
       "      <td>0</td>\n",
       "      <td>0</td>\n",
       "      <td>0</td>\n",
       "    </tr>\n",
       "    <tr>\n",
       "      <td>Stanley</td>\n",
       "      <td>0</td>\n",
       "      <td>0</td>\n",
       "      <td>0</td>\n",
       "      <td>0</td>\n",
       "      <td>0</td>\n",
       "      <td>0</td>\n",
       "      <td>0</td>\n",
       "      <td>0</td>\n",
       "      <td>0</td>\n",
       "      <td>0</td>\n",
       "      <td>...</td>\n",
       "      <td>0</td>\n",
       "      <td>0</td>\n",
       "      <td>0</td>\n",
       "      <td>0</td>\n",
       "      <td>0</td>\n",
       "      <td>0</td>\n",
       "      <td>0</td>\n",
       "      <td>0</td>\n",
       "      <td>0</td>\n",
       "      <td>0</td>\n",
       "    </tr>\n",
       "  </tbody>\n",
       "</table>\n",
       "<p>5 rows × 14956 columns</p>\n",
       "</div>"
      ],
      "text/plain": [
       "         aa  aaaaaaaa  aaaaaand  aaaaah  aaaaeeexcellent  aaaagh  aaaah  \\\n",
       "Dwight    1         6         0       1                0       1      2   \n",
       "Jim       0         0         0       0                0       0      0   \n",
       "Michael   0         2         1       0                1       0      1   \n",
       "Pam       0         0         0       0                0       0      0   \n",
       "Stanley   0         0         0       0                0       0      0   \n",
       "\n",
       "         aaaahh  aaaahhh  aaaall  ...  zombie  zombies  zone  zoning  zoo  \\\n",
       "Dwight        0        0       0  ...       3        1     3       1    3   \n",
       "Jim           0        0       0  ...       2        1     1       0    0   \n",
       "Michael       2        1       1  ...       0        1    11       1    1   \n",
       "Pam           0        0       0  ...       0        0     0       0    0   \n",
       "Stanley       0        0       0  ...       0        0     0       0    0   \n",
       "\n",
       "         zoom  zooms  zoppity  zoran  zuckerberg  \n",
       "Dwight      0      0        0      1           1  \n",
       "Jim         0      0        0      0           0  \n",
       "Michael     5      1        2      0           0  \n",
       "Pam         0      0        0      0           0  \n",
       "Stanley     0      0        0      0           0  \n",
       "\n",
       "[5 rows x 14956 columns]"
      ]
     },
     "execution_count": 43,
     "metadata": {},
     "output_type": "execute_result"
    }
   ],
   "source": [
    "from sklearn.feature_extraction.text import CountVectorizer\n",
    "\n",
    "cv = CountVectorizer(stop_words='english')\n",
    "lines_cv = cv.fit_transform(lines_clean.lines)\n",
    "lines_dtm = pd.DataFrame(lines_cv.toarray(), columns=cv.get_feature_names())\n",
    "lines_dtm.index = lines_clean.index\n",
    "lines_dtm"
   ]
  },
  {
   "cell_type": "code",
   "execution_count": 63,
   "metadata": {},
   "outputs": [],
   "source": [
    "# pickle the document-term based matrix\n",
    "lines_dtm.to_pickle('pickle/matrix.pkl')"
   ]
  },
  {
   "cell_type": "code",
   "execution_count": 44,
   "metadata": {},
   "outputs": [
    {
     "data": {
      "text/html": [
       "<div>\n",
       "<style scoped>\n",
       "    .dataframe tbody tr th:only-of-type {\n",
       "        vertical-align: middle;\n",
       "    }\n",
       "\n",
       "    .dataframe tbody tr th {\n",
       "        vertical-align: top;\n",
       "    }\n",
       "\n",
       "    .dataframe thead th {\n",
       "        text-align: right;\n",
       "    }\n",
       "</style>\n",
       "<table border=\"1\" class=\"dataframe\">\n",
       "  <thead>\n",
       "    <tr style=\"text-align: right;\">\n",
       "      <th></th>\n",
       "      <th>aback</th>\n",
       "      <th>abby</th>\n",
       "      <th>abruptly</th>\n",
       "      <th>absolutely</th>\n",
       "      <th>accent</th>\n",
       "      <th>accepts</th>\n",
       "      <th>accidentally</th>\n",
       "      <th>account</th>\n",
       "      <th>accountants</th>\n",
       "      <th>acting</th>\n",
       "      <th>...</th>\n",
       "      <th>youre</th>\n",
       "      <th>youtube</th>\n",
       "      <th>yuck</th>\n",
       "      <th>zeke</th>\n",
       "      <th>zipper</th>\n",
       "      <th>zipping</th>\n",
       "      <th>zips</th>\n",
       "      <th>zone</th>\n",
       "      <th>zooms</th>\n",
       "      <th>zwarte</th>\n",
       "    </tr>\n",
       "  </thead>\n",
       "  <tbody>\n",
       "    <tr>\n",
       "      <td>Dwight</td>\n",
       "      <td>0</td>\n",
       "      <td>2</td>\n",
       "      <td>1</td>\n",
       "      <td>0</td>\n",
       "      <td>9</td>\n",
       "      <td>0</td>\n",
       "      <td>1</td>\n",
       "      <td>1</td>\n",
       "      <td>1</td>\n",
       "      <td>1</td>\n",
       "      <td>...</td>\n",
       "      <td>3</td>\n",
       "      <td>0</td>\n",
       "      <td>0</td>\n",
       "      <td>1</td>\n",
       "      <td>1</td>\n",
       "      <td>0</td>\n",
       "      <td>0</td>\n",
       "      <td>0</td>\n",
       "      <td>1</td>\n",
       "      <td>1</td>\n",
       "    </tr>\n",
       "    <tr>\n",
       "      <td>Jim</td>\n",
       "      <td>0</td>\n",
       "      <td>3</td>\n",
       "      <td>1</td>\n",
       "      <td>0</td>\n",
       "      <td>3</td>\n",
       "      <td>0</td>\n",
       "      <td>0</td>\n",
       "      <td>0</td>\n",
       "      <td>0</td>\n",
       "      <td>0</td>\n",
       "      <td>...</td>\n",
       "      <td>0</td>\n",
       "      <td>0</td>\n",
       "      <td>0</td>\n",
       "      <td>0</td>\n",
       "      <td>0</td>\n",
       "      <td>0</td>\n",
       "      <td>0</td>\n",
       "      <td>0</td>\n",
       "      <td>0</td>\n",
       "      <td>0</td>\n",
       "    </tr>\n",
       "    <tr>\n",
       "      <td>Michael</td>\n",
       "      <td>1</td>\n",
       "      <td>1</td>\n",
       "      <td>0</td>\n",
       "      <td>1</td>\n",
       "      <td>20</td>\n",
       "      <td>1</td>\n",
       "      <td>1</td>\n",
       "      <td>0</td>\n",
       "      <td>0</td>\n",
       "      <td>1</td>\n",
       "      <td>...</td>\n",
       "      <td>0</td>\n",
       "      <td>2</td>\n",
       "      <td>1</td>\n",
       "      <td>0</td>\n",
       "      <td>1</td>\n",
       "      <td>1</td>\n",
       "      <td>2</td>\n",
       "      <td>1</td>\n",
       "      <td>3</td>\n",
       "      <td>0</td>\n",
       "    </tr>\n",
       "    <tr>\n",
       "      <td>Pam</td>\n",
       "      <td>0</td>\n",
       "      <td>0</td>\n",
       "      <td>0</td>\n",
       "      <td>0</td>\n",
       "      <td>3</td>\n",
       "      <td>1</td>\n",
       "      <td>0</td>\n",
       "      <td>0</td>\n",
       "      <td>0</td>\n",
       "      <td>0</td>\n",
       "      <td>...</td>\n",
       "      <td>0</td>\n",
       "      <td>0</td>\n",
       "      <td>0</td>\n",
       "      <td>0</td>\n",
       "      <td>0</td>\n",
       "      <td>0</td>\n",
       "      <td>0</td>\n",
       "      <td>0</td>\n",
       "      <td>0</td>\n",
       "      <td>0</td>\n",
       "    </tr>\n",
       "    <tr>\n",
       "      <td>Stanley</td>\n",
       "      <td>0</td>\n",
       "      <td>0</td>\n",
       "      <td>0</td>\n",
       "      <td>0</td>\n",
       "      <td>0</td>\n",
       "      <td>0</td>\n",
       "      <td>0</td>\n",
       "      <td>0</td>\n",
       "      <td>0</td>\n",
       "      <td>0</td>\n",
       "      <td>...</td>\n",
       "      <td>0</td>\n",
       "      <td>0</td>\n",
       "      <td>0</td>\n",
       "      <td>0</td>\n",
       "      <td>0</td>\n",
       "      <td>0</td>\n",
       "      <td>0</td>\n",
       "      <td>0</td>\n",
       "      <td>0</td>\n",
       "      <td>0</td>\n",
       "    </tr>\n",
       "  </tbody>\n",
       "</table>\n",
       "<p>5 rows × 3400 columns</p>\n",
       "</div>"
      ],
      "text/plain": [
       "         aback  abby  abruptly  absolutely  accent  accepts  accidentally  \\\n",
       "Dwight       0     2         1           0       9        0             1   \n",
       "Jim          0     3         1           0       3        0             0   \n",
       "Michael      1     1         0           1      20        1             1   \n",
       "Pam          0     0         0           0       3        1             0   \n",
       "Stanley      0     0         0           0       0        0             0   \n",
       "\n",
       "         account  accountants  acting  ...  youre  youtube  yuck  zeke  \\\n",
       "Dwight         1            1       1  ...      3        0     0     1   \n",
       "Jim            0            0       0  ...      0        0     0     0   \n",
       "Michael        0            0       1  ...      0        2     1     0   \n",
       "Pam            0            0       0  ...      0        0     0     0   \n",
       "Stanley        0            0       0  ...      0        0     0     0   \n",
       "\n",
       "         zipper  zipping  zips  zone  zooms  zwarte  \n",
       "Dwight        1        0     0     0      1       1  \n",
       "Jim           0        0     0     0      0       0  \n",
       "Michael       1        1     2     1      3       0  \n",
       "Pam           0        0     0     0      0       0  \n",
       "Stanley       0        0     0     0      0       0  \n",
       "\n",
       "[5 rows x 3400 columns]"
      ]
     },
     "execution_count": 44,
     "metadata": {},
     "output_type": "execute_result"
    }
   ],
   "source": [
    "from sklearn.feature_extraction.text import CountVectorizer\n",
    "\n",
    "cv = CountVectorizer(stop_words='english')\n",
    "actions_cv = cv.fit_transform(actions_clean.actions)\n",
    "actions_dtm = pd.DataFrame(actions_cv.toarray(), columns=cv.get_feature_names())\n",
    "actions_dtm.index = actions_clean.index\n",
    "actions_dtm"
   ]
  },
  {
   "cell_type": "markdown",
   "metadata": {},
   "source": [
    "### Top words"
   ]
  },
  {
   "cell_type": "code",
   "execution_count": 64,
   "metadata": {},
   "outputs": [
    {
     "data": {
      "text/html": [
       "<div>\n",
       "<style scoped>\n",
       "    .dataframe tbody tr th:only-of-type {\n",
       "        vertical-align: middle;\n",
       "    }\n",
       "\n",
       "    .dataframe tbody tr th {\n",
       "        vertical-align: top;\n",
       "    }\n",
       "\n",
       "    .dataframe thead th {\n",
       "        text-align: right;\n",
       "    }\n",
       "</style>\n",
       "<table border=\"1\" class=\"dataframe\">\n",
       "  <thead>\n",
       "    <tr style=\"text-align: right;\">\n",
       "      <th></th>\n",
       "      <th>Dwight</th>\n",
       "      <th>Jim</th>\n",
       "      <th>Michael</th>\n",
       "      <th>Pam</th>\n",
       "      <th>Stanley</th>\n",
       "    </tr>\n",
       "  </thead>\n",
       "  <tbody>\n",
       "    <tr>\n",
       "      <td>aa</td>\n",
       "      <td>1</td>\n",
       "      <td>0</td>\n",
       "      <td>0</td>\n",
       "      <td>0</td>\n",
       "      <td>0</td>\n",
       "    </tr>\n",
       "    <tr>\n",
       "      <td>aaaaaaaa</td>\n",
       "      <td>6</td>\n",
       "      <td>0</td>\n",
       "      <td>2</td>\n",
       "      <td>0</td>\n",
       "      <td>0</td>\n",
       "    </tr>\n",
       "    <tr>\n",
       "      <td>aaaaaand</td>\n",
       "      <td>0</td>\n",
       "      <td>0</td>\n",
       "      <td>1</td>\n",
       "      <td>0</td>\n",
       "      <td>0</td>\n",
       "    </tr>\n",
       "    <tr>\n",
       "      <td>aaaaah</td>\n",
       "      <td>1</td>\n",
       "      <td>0</td>\n",
       "      <td>0</td>\n",
       "      <td>0</td>\n",
       "      <td>0</td>\n",
       "    </tr>\n",
       "    <tr>\n",
       "      <td>aaaaeeexcellent</td>\n",
       "      <td>0</td>\n",
       "      <td>0</td>\n",
       "      <td>1</td>\n",
       "      <td>0</td>\n",
       "      <td>0</td>\n",
       "    </tr>\n",
       "  </tbody>\n",
       "</table>\n",
       "</div>"
      ],
      "text/plain": [
       "                 Dwight  Jim  Michael  Pam  Stanley\n",
       "aa                    1    0        0    0        0\n",
       "aaaaaaaa              6    0        2    0        0\n",
       "aaaaaand              0    0        1    0        0\n",
       "aaaaah                1    0        0    0        0\n",
       "aaaaeeexcellent       0    0        1    0        0"
      ]
     },
     "execution_count": 64,
     "metadata": {},
     "output_type": "execute_result"
    }
   ],
   "source": [
    "data = pd.read_pickle('pickle/matrix.pkl')\n",
    "data = data.transpose()\n",
    "data.head()"
   ]
  },
  {
   "cell_type": "code",
   "execution_count": 65,
   "metadata": {
    "scrolled": false
   },
   "outputs": [
    {
     "data": {
      "text/plain": [
       "{'Dwight': [('oh', 478),\n",
       "  ('im', 444),\n",
       "  ('know', 420),\n",
       "  ('just', 397),\n",
       "  ('dont', 354),\n",
       "  ('okay', 351),\n",
       "  ('like', 334),\n",
       "  ('jim', 326),\n",
       "  ('michael', 305),\n",
       "  ('right', 273),\n",
       "  ('youre', 255),\n",
       "  ('good', 251),\n",
       "  ('yeah', 247),\n",
       "  ('thats', 243),\n",
       "  ('yes', 237),\n",
       "  ('come', 234),\n",
       "  ('hey', 229),\n",
       "  ('going', 207),\n",
       "  ('got', 206),\n",
       "  ('want', 188),\n",
       "  ('ok', 182),\n",
       "  ('did', 180),\n",
       "  ('need', 178),\n",
       "  ('really', 178),\n",
       "  ('gonna', 165),\n",
       "  ('think', 160),\n",
       "  ('time', 155),\n",
       "  ('say', 153),\n",
       "  ('uh', 142),\n",
       "  ('let', 141)],\n",
       " 'Jim': [('just', 636),\n",
       "  ('oh', 550),\n",
       "  ('know', 548),\n",
       "  ('im', 467),\n",
       "  ('right', 422),\n",
       "  ('yeah', 408),\n",
       "  ('okay', 384),\n",
       "  ('dont', 356),\n",
       "  ('hey', 332),\n",
       "  ('really', 331),\n",
       "  ('think', 328),\n",
       "  ('thats', 312),\n",
       "  ('dwight', 292),\n",
       "  ('like', 257),\n",
       "  ('uh', 256),\n",
       "  ('good', 255),\n",
       "  ('gonna', 219),\n",
       "  ('ok', 207),\n",
       "  ('going', 205),\n",
       "  ('michael', 198),\n",
       "  ('pam', 198),\n",
       "  ('youre', 195),\n",
       "  ('did', 178),\n",
       "  ('great', 157),\n",
       "  ('want', 149),\n",
       "  ('mean', 141),\n",
       "  ('got', 138),\n",
       "  ('um', 138),\n",
       "  ('alright', 137),\n",
       "  ('time', 135)],\n",
       " 'Michael': [('know', 1365),\n",
       "  ('just', 1227),\n",
       "  ('dont', 1125),\n",
       "  ('im', 1107),\n",
       "  ('oh', 1036),\n",
       "  ('okay', 981),\n",
       "  ('like', 868),\n",
       "  ('right', 810),\n",
       "  ('going', 730),\n",
       "  ('good', 726),\n",
       "  ('thats', 676),\n",
       "  ('yeah', 628),\n",
       "  ('think', 591),\n",
       "  ('want', 571),\n",
       "  ('yes', 555),\n",
       "  ('hey', 548),\n",
       "  ('youre', 494),\n",
       "  ('ok', 481),\n",
       "  ('come', 477),\n",
       "  ('did', 434),\n",
       "  ('dwight', 414),\n",
       "  ('really', 391),\n",
       "  ('people', 381),\n",
       "  ('pam', 377),\n",
       "  ('say', 352),\n",
       "  ('gonna', 339),\n",
       "  ('uh', 331),\n",
       "  ('time', 322),\n",
       "  ('need', 318),\n",
       "  ('um', 310)],\n",
       " 'Pam': [('oh', 468),\n",
       "  ('just', 466),\n",
       "  ('yeah', 366),\n",
       "  ('im', 362),\n",
       "  ('dont', 347),\n",
       "  ('know', 337),\n",
       "  ('like', 312),\n",
       "  ('michael', 288),\n",
       "  ('okay', 288),\n",
       "  ('hey', 267),\n",
       "  ('really', 257),\n",
       "  ('think', 234),\n",
       "  ('jim', 194),\n",
       "  ('um', 187),\n",
       "  ('thats', 163),\n",
       "  ('good', 161),\n",
       "  ('going', 145),\n",
       "  ('did', 143),\n",
       "  ('want', 143),\n",
       "  ('dwight', 141),\n",
       "  ('right', 130),\n",
       "  ('youre', 127),\n",
       "  ('great', 124),\n",
       "  ('gonna', 124),\n",
       "  ('ok', 122),\n",
       "  ('yes', 119),\n",
       "  ('mean', 110),\n",
       "  ('uh', 104),\n",
       "  ('thank', 104),\n",
       "  ('come', 101)],\n",
       " 'Stanley': [('im', 75),\n",
       "  ('dont', 55),\n",
       "  ('know', 35),\n",
       "  ('like', 34),\n",
       "  ('just', 34),\n",
       "  ('oh', 32),\n",
       "  ('michael', 31),\n",
       "  ('want', 26),\n",
       "  ('did', 25),\n",
       "  ('work', 23),\n",
       "  ('got', 23),\n",
       "  ('think', 21),\n",
       "  ('going', 21),\n",
       "  ('thats', 20),\n",
       "  ('need', 18),\n",
       "  ('youre', 16),\n",
       "  ('little', 16),\n",
       "  ('day', 16),\n",
       "  ('say', 16),\n",
       "  ('good', 16),\n",
       "  ('way', 15),\n",
       "  ('years', 15),\n",
       "  ('ill', 15),\n",
       "  ('gonna', 15),\n",
       "  ('yes', 14),\n",
       "  ('christmas', 14),\n",
       "  ('mind', 14),\n",
       "  ('right', 13),\n",
       "  ('said', 12),\n",
       "  ('time', 12)]}"
      ]
     },
     "execution_count": 65,
     "metadata": {},
     "output_type": "execute_result"
    }
   ],
   "source": [
    "top_dict = {}\n",
    "for c in data.columns:\n",
    "    top = data[c].sort_values(ascending=False).head(30)\n",
    "    top_dict[c]= list(zip(top.index, top.values))\n",
    "\n",
    "top_dict"
   ]
  },
  {
   "cell_type": "code",
   "execution_count": 68,
   "metadata": {},
   "outputs": [
    {
     "name": "stdout",
     "output_type": "stream",
     "text": [
      "Dwight\n",
      "oh, im, know, just, dont, okay, like, jim, michael, right, youre, good, yeah, thats\n",
      "---\n",
      "Jim\n",
      "just, oh, know, im, right, yeah, okay, dont, hey, really, think, thats, dwight, like\n",
      "---\n",
      "Michael\n",
      "know, just, dont, im, oh, okay, like, right, going, good, thats, yeah, think, want\n",
      "---\n",
      "Pam\n",
      "oh, just, yeah, im, dont, know, like, michael, okay, hey, really, think, jim, um\n",
      "---\n",
      "Stanley\n",
      "im, dont, know, like, just, oh, michael, want, did, work, got, think, going, thats\n",
      "---\n"
     ]
    }
   ],
   "source": [
    "for character, top_words in top_dict.items():\n",
    "    print(character)\n",
    "    print(', '.join([word for word, count in top_words[0:14]]))\n",
    "    print('---')"
   ]
  },
  {
   "cell_type": "code",
   "execution_count": 69,
   "metadata": {},
   "outputs": [
    {
     "ename": "NameError",
     "evalue": "name 'data_clean' is not defined",
     "output_type": "error",
     "traceback": [
      "\u001b[0;31m---------------------------------------------------------------------------\u001b[0m",
      "\u001b[0;31mNameError\u001b[0m                                 Traceback (most recent call last)",
      "\u001b[0;32m<ipython-input-69-32e6c4a44984>\u001b[0m in \u001b[0;36m<module>\u001b[0;34m\u001b[0m\n\u001b[0;32m----> 1\u001b[0;31m \u001b[0mdata_clean\u001b[0m\u001b[0;34m.\u001b[0m\u001b[0mto_pickle\u001b[0m\u001b[0;34m(\u001b[0m\u001b[0;34m'data_clean.pkl'\u001b[0m\u001b[0;34m)\u001b[0m\u001b[0;34m\u001b[0m\u001b[0;34m\u001b[0m\u001b[0m\n\u001b[0m\u001b[1;32m      2\u001b[0m \u001b[0mpickle\u001b[0m\u001b[0;34m.\u001b[0m\u001b[0mdump\u001b[0m\u001b[0;34m(\u001b[0m\u001b[0mcv\u001b[0m\u001b[0;34m,\u001b[0m \u001b[0mopen\u001b[0m\u001b[0;34m(\u001b[0m\u001b[0;34m\"cv.pkl\"\u001b[0m\u001b[0;34m,\u001b[0m \u001b[0;34m\"wb\"\u001b[0m\u001b[0;34m)\u001b[0m\u001b[0;34m)\u001b[0m\u001b[0;34m\u001b[0m\u001b[0;34m\u001b[0m\u001b[0m\n",
      "\u001b[0;31mNameError\u001b[0m: name 'data_clean' is not defined"
     ]
    }
   ],
   "source": [
    "data_clean.to_pickle('data_clean.pkl')\n",
    "pickle.dump(cv, open(\"cv.pkl\", \"wb\"))"
   ]
  },
  {
   "cell_type": "code",
   "execution_count": null,
   "metadata": {},
   "outputs": [],
   "source": [
    "# Look at the most common top words --> add them to the stop word list\n",
    "from collections import Counter\n",
    "\n",
    "# Let's first pull out the top 30 words for each comedian\n",
    "words = []\n",
    "for comedian in data.columns:\n",
    "    top = [word for (word, count) in top_dict[comedian]]\n",
    "    for t in top:\n",
    "        words.append(t)\n",
    "        \n",
    "words"
   ]
  },
  {
   "cell_type": "markdown",
   "metadata": {},
   "source": [
    "### Bleeped words"
   ]
  },
  {
   "cell_type": "code",
   "execution_count": 49,
   "metadata": {},
   "outputs": [],
   "source": [
    "import pandas as pd\n",
    "import matplotlib.pyplot as plt\n",
    "import random"
   ]
  },
  {
   "cell_type": "code",
   "execution_count": 50,
   "metadata": {},
   "outputs": [
    {
     "data": {
      "text/plain": [
       "Dwight      6\n",
       "Jim         3\n",
       "Michael    27\n",
       "Pam         0\n",
       "Stanley     1\n",
       "dtype: int64"
      ]
     },
     "execution_count": 50,
     "metadata": {},
     "output_type": "execute_result"
    }
   ],
   "source": [
    "badwords = actions_dtm['bleep'] + lines_dtm['bleep'] + lines_dtm['bitch']\n",
    "badwords"
   ]
  },
  {
   "cell_type": "code",
   "execution_count": 54,
   "metadata": {},
   "outputs": [
    {
     "name": "stdout",
     "output_type": "stream",
     "text": [
      "Dwight\n",
      "Jim\n",
      "Michael\n",
      "Pam\n",
      "Stanley\n",
      "6\n",
      "3\n",
      "27\n",
      "0\n",
      "1\n"
     ]
    }
   ],
   "source": [
    "names = []\n",
    "for i in badwords.keys():\n",
    "    print(i)\n",
    "    names.append(i)\n",
    "count = []\n",
    "for b in badwords:\n",
    "    print(b)\n",
    "    count.append(b)"
   ]
  },
  {
   "cell_type": "code",
   "execution_count": 55,
   "metadata": {},
   "outputs": [
    {
     "data": {
      "image/png": "[encoded data removed]",
      "text/plain": [
       "<Figure size 432x288 with 1 Axes>"
      ]
     },
     "metadata": {
      "needs_background": "light"
     },
     "output_type": "display_data"
    }
   ],
   "source": [
    "plt.bar(names, count)\n",
    "plt.suptitle('Bleeped words')\n",
    "plt.xlabel('Characters')\n",
    "plt.ylabel('Bleeps')\n",
    "plt.show()"
   ]
  },
  {
   "cell_type": "code",
   "execution_count": null,
   "metadata": {},
   "outputs": [],
   "source": []
  }
 ],
 "metadata": {
  "kernelspec": {
   "display_name": "Python 3",
   "language": "python",
   "name": "python3"
  },
  "language_info": {
   "codemirror_mode": {
    "name": "ipython",
    "version": 3
   },
   "file_extension": ".py",
   "mimetype": "text/x-python",
   "name": "python",
   "nbconvert_exporter": "python",
   "pygments_lexer": "ipython3",
   "version": "3.7.4"
  }
 },
 "nbformat": 4,
 "nbformat_minor": 2
}
