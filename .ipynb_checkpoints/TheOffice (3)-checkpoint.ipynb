{
 "cells": [
  {
   "cell_type": "markdown",
   "metadata": {},
   "source": [
    "# The Office Text Generator"
   ]
  },
  {
   "cell_type": "markdown",
   "metadata": {},
   "source": [
    "## Introduction\n",
    "This notebook is for a school project on software development at KEA - Copenhagen school of design nd tecnology."
   ]
  },
  {
   "cell_type": "markdown",
   "metadata": {},
   "source": [
    "### Data Preparation\n"
   ]
  },
  {
   "cell_type": "code",
   "execution_count": 292,
   "metadata": {},
   "outputs": [],
   "source": [
    "import pandas as pd\n",
    "import os\n",
    "import re"
   ]
  },
  {
   "cell_type": "code",
   "execution_count": 293,
   "metadata": {},
   "outputs": [
    {
     "data": {
      "text/html": [
       "<div>\n",
       "<style scoped>\n",
       "    .dataframe tbody tr th:only-of-type {\n",
       "        vertical-align: middle;\n",
       "    }\n",
       "\n",
       "    .dataframe tbody tr th {\n",
       "        vertical-align: top;\n",
       "    }\n",
       "\n",
       "    .dataframe thead th {\n",
       "        text-align: right;\n",
       "    }\n",
       "</style>\n",
       "<table border=\"1\" class=\"dataframe\">\n",
       "  <thead>\n",
       "    <tr style=\"text-align: right;\">\n",
       "      <th></th>\n",
       "      <th>speaker</th>\n",
       "      <th>line_text</th>\n",
       "    </tr>\n",
       "  </thead>\n",
       "  <tbody>\n",
       "    <tr>\n",
       "      <th>0</th>\n",
       "      <td>Michael</td>\n",
       "      <td>All right Jim. Your quarterlies look very good. How are things at the library?</td>\n",
       "    </tr>\n",
       "    <tr>\n",
       "      <th>1</th>\n",
       "      <td>Jim</td>\n",
       "      <td>Oh, I told you. I couldn't close it. So...</td>\n",
       "    </tr>\n",
       "    <tr>\n",
       "      <th>2</th>\n",
       "      <td>Michael</td>\n",
       "      <td>So you've come to the master for guidance? Is this what you're saying, grasshopper?</td>\n",
       "    </tr>\n",
       "    <tr>\n",
       "      <th>3</th>\n",
       "      <td>Jim</td>\n",
       "      <td>Actually, you called me in here, but yeah.</td>\n",
       "    </tr>\n",
       "    <tr>\n",
       "      <th>4</th>\n",
       "      <td>Michael</td>\n",
       "      <td>All right. Well, let me show you how it's done.</td>\n",
       "    </tr>\n",
       "  </tbody>\n",
       "</table>\n",
       "</div>"
      ],
      "text/plain": [
       "   speaker  \\\n",
       "0  Michael   \n",
       "1      Jim   \n",
       "2  Michael   \n",
       "3      Jim   \n",
       "4  Michael   \n",
       "\n",
       "                                                                             line_text  \n",
       "0       All right Jim. Your quarterlies look very good. How are things at the library?  \n",
       "1                                           Oh, I told you. I couldn't close it. So...  \n",
       "2  So you've come to the master for guidance? Is this what you're saying, grasshopper?  \n",
       "3                                           Actually, you called me in here, but yeah.  \n",
       "4                                      All right. Well, let me show you how it's done.  "
      ]
     },
     "execution_count": 293,
     "metadata": {},
     "output_type": "execute_result"
    }
   ],
   "source": [
    "directory = os.getcwd()\n",
    "data = pd.read_excel(directory + '/the-office-lines.xlsx')\n",
    "df =  pd.DataFrame(data, columns=['speaker', 'line_text'])\n",
    "\n",
    "df.head()"
   ]
  },
  {
   "cell_type": "code",
   "execution_count": 294,
   "metadata": {},
   "outputs": [],
   "source": [
    "#mkdir Transcripts"
   ]
  },
  {
   "cell_type": "code",
   "execution_count": 295,
   "metadata": {},
   "outputs": [
    {
     "name": "stdout",
     "output_type": "stream",
     "text": [
      "Transcripts extracted from excel file\n"
     ]
    }
   ],
   "source": [
    "characters = ['Andy', 'Dwight', 'Jim', 'Michael', 'Pam']\n",
    "\n",
    "for index, row in df.iterrows():\n",
    "    if row['speaker'] in characters:\n",
    "        speaker = row['speaker']\n",
    "        with open('Transcripts/%s_transcript' %speaker + '.txt', 'a') as f:\n",
    "            f.write(str(row['line_text']))\n",
    "print('Transcripts extracted from excel file')"
   ]
  },
  {
   "cell_type": "markdown",
   "metadata": {},
   "source": [
    "#### Separating Lines and Actions"
   ]
  },
  {
   "cell_type": "code",
   "execution_count": 296,
   "metadata": {},
   "outputs": [],
   "source": [
    "import pickle"
   ]
  },
  {
   "cell_type": "code",
   "execution_count": 297,
   "metadata": {},
   "outputs": [],
   "source": [
    "#mkdir Lines\n",
    "#mkdir Actions"
   ]
  },
  {
   "cell_type": "code",
   "execution_count": 298,
   "metadata": {},
   "outputs": [],
   "source": [
    "for character in characters:\n",
    "    all_lines = open('Transcripts/%s_transcript' %character + '.txt', 'r')\n",
    "    for lines in all_lines:\n",
    "        line = re.sub(r'\\[.*?\\]', '', lines)\n",
    "        action = re.findall(r'\\[.*?\\]', lines)\n",
    "        if not len(line) == 0:\n",
    "            with open('Lines/%s_lines' %character + '.txt', 'wb') as f_line:\n",
    "                pickle.dump(str(line), f_line)\n",
    "        if not len(action) == 0:\n",
    "            with open('Actions/%s_actions' %character + '.txt', 'wb') as f_action:\n",
    "                pickle.dump(str(action), f_action)"
   ]
  },
  {
   "cell_type": "markdown",
   "metadata": {},
   "source": [
    "#### Loading the pickeled actions and line"
   ]
  },
  {
   "cell_type": "code",
   "execution_count": 299,
   "metadata": {},
   "outputs": [],
   "source": [
    "actions = {}\n",
    "lines = {}\n",
    "for i, char in enumerate(characters):\n",
    "    with open('Actions/%s_actions' %char + \".txt\", \"rb\") as file:\n",
    "        actions[char] = pickle.load(file)\n",
    "    with open('Lines/%s_lines' %char + \".txt\", \"rb\") as file:\n",
    "        lines[char] = pickle.load(file)"
   ]
  },
  {
   "cell_type": "code",
   "execution_count": 300,
   "metadata": {},
   "outputs": [
    {
     "data": {
      "text/plain": [
       "dict_keys(['Andy', 'Dwight', 'Jim', 'Michael', 'Pam'])"
      ]
     },
     "execution_count": 300,
     "metadata": {},
     "output_type": "execute_result"
    }
   ],
   "source": [
    "actions.keys()"
   ]
  },
  {
   "cell_type": "code",
   "execution_count": 301,
   "metadata": {},
   "outputs": [
    {
     "data": {
      "text/plain": [
       "dict_keys(['Andy', 'Dwight', 'Jim', 'Michael', 'Pam'])"
      ]
     },
     "execution_count": 301,
     "metadata": {},
     "output_type": "execute_result"
    }
   ],
   "source": [
    "lines.keys()"
   ]
  },
  {
   "cell_type": "markdown",
   "metadata": {},
   "source": [
    "### Data Cleaning"
   ]
  },
  {
   "cell_type": "markdown",
   "metadata": {},
   "source": [
    "##### Combine fuction"
   ]
  },
  {
   "cell_type": "code",
   "execution_count": 302,
   "metadata": {},
   "outputs": [],
   "source": [
    "import string"
   ]
  },
  {
   "cell_type": "code",
   "execution_count": 303,
   "metadata": {},
   "outputs": [],
   "source": [
    "# combine\n",
    "def combine_text(list_of_text):\n",
    "    combined_text = \"\".join(list_of_text)\n",
    "    return combined_text"
   ]
  },
  {
   "cell_type": "code",
   "execution_count": 304,
   "metadata": {},
   "outputs": [],
   "source": [
    "actions_combined = {key: [combine_text(value)] for (key, value) in actions.items()}"
   ]
  },
  {
   "cell_type": "code",
   "execution_count": 305,
   "metadata": {},
   "outputs": [],
   "source": [
    "lines_combined = {key: [combine_text(value)] for (key, value) in lines.items()}"
   ]
  },
  {
   "cell_type": "markdown",
   "metadata": {},
   "source": [
    "#### DataFram"
   ]
  },
  {
   "cell_type": "code",
   "execution_count": 306,
   "metadata": {},
   "outputs": [
    {
     "data": {
      "text/html": [
       "<div>\n",
       "<style scoped>\n",
       "    .dataframe tbody tr th:only-of-type {\n",
       "        vertical-align: middle;\n",
       "    }\n",
       "\n",
       "    .dataframe tbody tr th {\n",
       "        vertical-align: top;\n",
       "    }\n",
       "\n",
       "    .dataframe thead th {\n",
       "        text-align: right;\n",
       "    }\n",
       "</style>\n",
       "<table border=\"1\" class=\"dataframe\">\n",
       "  <thead>\n",
       "    <tr style=\"text-align: right;\">\n",
       "      <th></th>\n",
       "      <th>actions</th>\n",
       "    </tr>\n",
       "  </thead>\n",
       "  <tbody>\n",
       "    <tr>\n",
       "      <th>Andy</th>\n",
       "      <td>['[Robert smiles as Andy exits]', '[Shoves Creed with his foot, Creed grunts]', '[To Oscar]', '[to Robert California]', '[laughs]', '[sips]', '[Ji...</td>\n",
       "    </tr>\n",
       "    <tr>\n",
       "      <th>Dwight</th>\n",
       "      <td>['[singing]', '[Imitates heavy drumming]', '[Imitates heavy drumming]', '[points to Ryan]', '[new take]', '[does a martial arts move with his hand...</td>\n",
       "    </tr>\n",
       "    <tr>\n",
       "      <th>Jim</th>\n",
       "      <td>['[crosses fingers]', '[Dwight begins smashing pencils with his phone]', '[scratches head]', '[Car horn honking]', '[looks at camera]', '[Shedder ...</td>\n",
       "    </tr>\n",
       "    <tr>\n",
       "      <th>Michael</th>\n",
       "      <td>['[on the phone]', '[quick cut scene]', '[hangs up]', '[Clears throat]', '[growls]', \"[shows the camera his WORLD'S BEST BOSS mug]\", '[Strains, gr...</td>\n",
       "    </tr>\n",
       "    <tr>\n",
       "      <th>Pam</th>\n",
       "      <td>['[Laughs]', '[Laughing]', '[stirs]', '[nods toward camera]', '[laughs]', '[on phone]', '[Dwight laughs]', '[whispering]', '[on her cell phone]', ...</td>\n",
       "    </tr>\n",
       "  </tbody>\n",
       "</table>\n",
       "</div>"
      ],
      "text/plain": [
       "                                                                                                                                                       actions\n",
       "Andy     ['[Robert smiles as Andy exits]', '[Shoves Creed with his foot, Creed grunts]', '[To Oscar]', '[to Robert California]', '[laughs]', '[sips]', '[Ji...\n",
       "Dwight   ['[singing]', '[Imitates heavy drumming]', '[Imitates heavy drumming]', '[points to Ryan]', '[new take]', '[does a martial arts move with his hand...\n",
       "Jim      ['[crosses fingers]', '[Dwight begins smashing pencils with his phone]', '[scratches head]', '[Car horn honking]', '[looks at camera]', '[Shedder ...\n",
       "Michael  ['[on the phone]', '[quick cut scene]', '[hangs up]', '[Clears throat]', '[growls]', \"[shows the camera his WORLD'S BEST BOSS mug]\", '[Strains, gr...\n",
       "Pam      ['[Laughs]', '[Laughing]', '[stirs]', '[nods toward camera]', '[laughs]', '[on phone]', '[Dwight laughs]', '[whispering]', '[on her cell phone]', ..."
      ]
     },
     "execution_count": 306,
     "metadata": {},
     "output_type": "execute_result"
    }
   ],
   "source": [
    "pd.set_option('max_colwidth',150)\n",
    "\n",
    "actions_df = pd.DataFrame.from_dict(actions_combined).transpose()\n",
    "actions_df.columns = ['actions']\n",
    "actions_df = actions_df.sort_index()\n",
    "actions_df"
   ]
  },
  {
   "cell_type": "code",
   "execution_count": 307,
   "metadata": {},
   "outputs": [
    {
     "data": {
      "text/html": [
       "<div>\n",
       "<style scoped>\n",
       "    .dataframe tbody tr th:only-of-type {\n",
       "        vertical-align: middle;\n",
       "    }\n",
       "\n",
       "    .dataframe tbody tr th {\n",
       "        vertical-align: top;\n",
       "    }\n",
       "\n",
       "    .dataframe thead th {\n",
       "        text-align: right;\n",
       "    }\n",
       "</style>\n",
       "<table border=\"1\" class=\"dataframe\">\n",
       "  <thead>\n",
       "    <tr style=\"text-align: right;\">\n",
       "      <th></th>\n",
       "      <th>lines</th>\n",
       "    </tr>\n",
       "  </thead>\n",
       "  <tbody>\n",
       "    <tr>\n",
       "      <th>Andy</th>\n",
       "      <td>Robert. I said winners and losers. Is that what youre talking about?Oh, that, it might- That might actually be what Im thinking of. Can you clarif...</td>\n",
       "    </tr>\n",
       "    <tr>\n",
       "      <th>Dwight</th>\n",
       "      <td>Shall I play for you? Pa rum pump um pum  I have no gifts for you. Pa rum pump um pum Whassup!Whassup.What?Just clearing my desk. I can't concent...</td>\n",
       "    </tr>\n",
       "    <tr>\n",
       "      <th>Jim</th>\n",
       "      <td>Oh, I told you. I couldn't close it. So...Actually, you called me in here, but yeah.My job is to speak to clients on the phone about... uh, quanti...</td>\n",
       "    </tr>\n",
       "    <tr>\n",
       "      <th>Michael</th>\n",
       "      <td>All right Jim. Your quarterlies look very good. How are things at the library?So you've come to the master for guidance? Is this what you're sayin...</td>\n",
       "    </tr>\n",
       "    <tr>\n",
       "      <th>Pam</th>\n",
       "      <td>Well. I don't know.What?Uh, yeah. Just a fax.You haven't told me.Uh, yeah, the one...You put in the garbage can that was a special filing cabinet....</td>\n",
       "    </tr>\n",
       "  </tbody>\n",
       "</table>\n",
       "</div>"
      ],
      "text/plain": [
       "                                                                                                                                                         lines\n",
       "Andy     Robert. I said winners and losers. Is that what youre talking about?Oh, that, it might- That might actually be what Im thinking of. Can you clarif...\n",
       "Dwight    Shall I play for you? Pa rum pump um pum  I have no gifts for you. Pa rum pump um pum Whassup!Whassup.What?Just clearing my desk. I can't concent...\n",
       "Jim      Oh, I told you. I couldn't close it. So...Actually, you called me in here, but yeah.My job is to speak to clients on the phone about... uh, quanti...\n",
       "Michael  All right Jim. Your quarterlies look very good. How are things at the library?So you've come to the master for guidance? Is this what you're sayin...\n",
       "Pam      Well. I don't know.What?Uh, yeah. Just a fax.You haven't told me.Uh, yeah, the one...You put in the garbage can that was a special filing cabinet...."
      ]
     },
     "execution_count": 307,
     "metadata": {},
     "output_type": "execute_result"
    }
   ],
   "source": [
    "# pandas dataframe\n",
    "pd.set_option('max_colwidth',150)\n",
    "\n",
    "lines_df = pd.DataFrame.from_dict(lines_combined).transpose()\n",
    "lines_df.columns = ['lines']\n",
    "lines_df = lines_df.sort_index()\n",
    "lines_df"
   ]
  },
  {
   "cell_type": "markdown",
   "metadata": {},
   "source": [
    "#### Cleaning actions fuction\n",
    "First round"
   ]
  },
  {
   "cell_type": "code",
   "execution_count": 308,
   "metadata": {},
   "outputs": [],
   "source": [
    "# cleaing technique round 1\n",
    "def clean_first_round(text):\n",
    "    text = text.lower()\n",
    "    text = re.sub(\"[']\", '', text)\n",
    "    text = re.sub('\\w*\\d\\w*', '', text)\n",
    "    text = re.sub('[%s]' % re.escape(string.punctuation), ' ', text)\n",
    "      \n",
    "    return text\n",
    "\n",
    "first_round = lambda x: clean_first_round(x)"
   ]
  },
  {
   "cell_type": "code",
   "execution_count": 309,
   "metadata": {},
   "outputs": [],
   "source": [
    "actions_clean = pd.DataFrame(actions_df.actions.apply(first_round))"
   ]
  },
  {
   "cell_type": "code",
   "execution_count": 310,
   "metadata": {},
   "outputs": [],
   "source": [
    "lines_clean = pd.DataFrame(lines_df.lines.apply(first_round))"
   ]
  },
  {
   "cell_type": "markdown",
   "metadata": {},
   "source": [
    "second round"
   ]
  },
  {
   "cell_type": "code",
   "execution_count": 311,
   "metadata": {},
   "outputs": [],
   "source": [
    "def clean_actions_round2(text):\n",
    "    text = re.sub(\"[,]\", '', text)\n",
    "    text = re.sub('[\"]', '', text)\n",
    "    \n",
    "    return text\n",
    "\n",
    "actions_round2 = lambda x: clean_actions_round2(x)"
   ]
  },
  {
   "cell_type": "code",
   "execution_count": 312,
   "metadata": {},
   "outputs": [],
   "source": [
    "actions_clean = pd.DataFrame(actions_clean.actions.apply(actions_round2))"
   ]
  },
  {
   "cell_type": "code",
   "execution_count": 313,
   "metadata": {},
   "outputs": [],
   "source": [
    "# cleaing technique round 2\n",
    "def clean_lines_round2(text):\n",
    "    text = re.sub('[‘’“”…]', '', text)\n",
    "    text = re.sub('\\n', '', text)\n",
    "   \n",
    "    return text\n",
    "\n",
    "lines_round2 = lambda x: clean_lines_round2(x)"
   ]
  },
  {
   "cell_type": "code",
   "execution_count": 314,
   "metadata": {},
   "outputs": [],
   "source": [
    "lines_clean = pd.DataFrame(lines_clean.lines.apply(lines_round2))"
   ]
  },
  {
   "cell_type": "code",
   "execution_count": 315,
   "metadata": {},
   "outputs": [],
   "source": [
    "lines_clean.to_pickle(\"pickle/lines_clean.pkl\")"
   ]
  },
  {
   "cell_type": "markdown",
   "metadata": {},
   "source": [
    "#### Orginize Lines Data\n",
    "Corpus lines\n"
   ]
  },
  {
   "cell_type": "code",
   "execution_count": 316,
   "metadata": {},
   "outputs": [],
   "source": [
    "#mkdir pickle"
   ]
  },
  {
   "cell_type": "code",
   "execution_count": 317,
   "metadata": {},
   "outputs": [
    {
     "data": {
      "text/html": [
       "<div>\n",
       "<style scoped>\n",
       "    .dataframe tbody tr th:only-of-type {\n",
       "        vertical-align: middle;\n",
       "    }\n",
       "\n",
       "    .dataframe tbody tr th {\n",
       "        vertical-align: top;\n",
       "    }\n",
       "\n",
       "    .dataframe thead th {\n",
       "        text-align: right;\n",
       "    }\n",
       "</style>\n",
       "<table border=\"1\" class=\"dataframe\">\n",
       "  <thead>\n",
       "    <tr style=\"text-align: right;\">\n",
       "      <th></th>\n",
       "      <th>lines</th>\n",
       "      <th>Characters</th>\n",
       "    </tr>\n",
       "  </thead>\n",
       "  <tbody>\n",
       "    <tr>\n",
       "      <th>Andy</th>\n",
       "      <td>robert  i said winners and losers  is that what youre talking about oh  that  it might  that might actually be what im thinking of  can you clarif...</td>\n",
       "      <td>Andy Bernard</td>\n",
       "    </tr>\n",
       "    <tr>\n",
       "      <th>Dwight</th>\n",
       "      <td>shall i play for you  pa rum pump um pum  i have no gifts for you  pa rum pump um pum whassup whassup what just clearing my desk  i cant concentr...</td>\n",
       "      <td>Dwight Schrute</td>\n",
       "    </tr>\n",
       "    <tr>\n",
       "      <th>Jim</th>\n",
       "      <td>oh  i told you  i couldnt close it  so   actually  you called me in here  but yeah my job is to speak to clients on the phone about    uh  quantit...</td>\n",
       "      <td>Jim Halpert</td>\n",
       "    </tr>\n",
       "    <tr>\n",
       "      <th>Michael</th>\n",
       "      <td>all right jim  your quarterlies look very good  how are things at the library so youve come to the master for guidance  is this what youre saying ...</td>\n",
       "      <td>Michael Scott</td>\n",
       "    </tr>\n",
       "    <tr>\n",
       "      <th>Pam</th>\n",
       "      <td>well  i dont know what uh  yeah  just a fax you havent told me uh  yeah  the one   you put in the garbage can that was a special filing cabinet i ...</td>\n",
       "      <td>Pam Beesly</td>\n",
       "    </tr>\n",
       "  </tbody>\n",
       "</table>\n",
       "</div>"
      ],
      "text/plain": [
       "                                                                                                                                                         lines  \\\n",
       "Andy     robert  i said winners and losers  is that what youre talking about oh  that  it might  that might actually be what im thinking of  can you clarif...   \n",
       "Dwight    shall i play for you  pa rum pump um pum  i have no gifts for you  pa rum pump um pum whassup whassup what just clearing my desk  i cant concentr...   \n",
       "Jim      oh  i told you  i couldnt close it  so   actually  you called me in here  but yeah my job is to speak to clients on the phone about    uh  quantit...   \n",
       "Michael  all right jim  your quarterlies look very good  how are things at the library so youve come to the master for guidance  is this what youre saying ...   \n",
       "Pam      well  i dont know what uh  yeah  just a fax you havent told me uh  yeah  the one   you put in the garbage can that was a special filing cabinet i ...   \n",
       "\n",
       "             Characters  \n",
       "Andy       Andy Bernard  \n",
       "Dwight   Dwight Schrute  \n",
       "Jim         Jim Halpert  \n",
       "Michael   Michael Scott  \n",
       "Pam          Pam Beesly  "
      ]
     },
     "execution_count": 317,
     "metadata": {},
     "output_type": "execute_result"
    }
   ],
   "source": [
    "char_names = ['Andy Bernard', 'Dwight Schrute', 'Jim Halpert', 'Michael Scott', 'Pam Beesly']\n",
    "lines_clean['Characters'] = char_names\n",
    "lines_clean"
   ]
  },
  {
   "cell_type": "markdown",
   "metadata": {},
   "source": [
    "> SKAL VI BRUGE DET CLEANET DATA?? HVORFOR CLEANER VI DET SÅ HVIS NEJ?"
   ]
  },
  {
   "cell_type": "code",
   "execution_count": 318,
   "metadata": {},
   "outputs": [],
   "source": [
    "lines_df.to_pickle(\"pickle/lines_corpus.pkl\")"
   ]
  },
  {
   "cell_type": "markdown",
   "metadata": {},
   "source": [
    "#### Document-Term Matrix"
   ]
  },
  {
   "cell_type": "code",
   "execution_count": 333,
   "metadata": {},
   "outputs": [
    {
     "data": {
      "text/html": [
       "<div>\n",
       "<style scoped>\n",
       "    .dataframe tbody tr th:only-of-type {\n",
       "        vertical-align: middle;\n",
       "    }\n",
       "\n",
       "    .dataframe tbody tr th {\n",
       "        vertical-align: top;\n",
       "    }\n",
       "\n",
       "    .dataframe thead th {\n",
       "        text-align: right;\n",
       "    }\n",
       "</style>\n",
       "<table border=\"1\" class=\"dataframe\">\n",
       "  <thead>\n",
       "    <tr style=\"text-align: right;\">\n",
       "      <th></th>\n",
       "      <th>aa</th>\n",
       "      <th>aaaaaaaa</th>\n",
       "      <th>aaaaaand</th>\n",
       "      <th>aaaaah</th>\n",
       "      <th>aaaaeeexcellent</th>\n",
       "      <th>aaaagh</th>\n",
       "      <th>aaaah</th>\n",
       "      <th>aaaahh</th>\n",
       "      <th>aaaahhh</th>\n",
       "      <th>aaaall</th>\n",
       "      <th>...</th>\n",
       "      <th>zombie</th>\n",
       "      <th>zombies</th>\n",
       "      <th>zone</th>\n",
       "      <th>zoning</th>\n",
       "      <th>zoo</th>\n",
       "      <th>zoom</th>\n",
       "      <th>zooms</th>\n",
       "      <th>zoppity</th>\n",
       "      <th>zoran</th>\n",
       "      <th>zuckerberg</th>\n",
       "    </tr>\n",
       "  </thead>\n",
       "  <tbody>\n",
       "    <tr>\n",
       "      <th>Andy</th>\n",
       "      <td>0</td>\n",
       "      <td>0</td>\n",
       "      <td>0</td>\n",
       "      <td>0</td>\n",
       "      <td>0</td>\n",
       "      <td>0</td>\n",
       "      <td>0</td>\n",
       "      <td>0</td>\n",
       "      <td>0</td>\n",
       "      <td>0</td>\n",
       "      <td>...</td>\n",
       "      <td>0</td>\n",
       "      <td>0</td>\n",
       "      <td>1</td>\n",
       "      <td>1</td>\n",
       "      <td>0</td>\n",
       "      <td>0</td>\n",
       "      <td>0</td>\n",
       "      <td>0</td>\n",
       "      <td>0</td>\n",
       "      <td>0</td>\n",
       "    </tr>\n",
       "    <tr>\n",
       "      <th>Dwight</th>\n",
       "      <td>1</td>\n",
       "      <td>6</td>\n",
       "      <td>0</td>\n",
       "      <td>1</td>\n",
       "      <td>0</td>\n",
       "      <td>1</td>\n",
       "      <td>2</td>\n",
       "      <td>0</td>\n",
       "      <td>0</td>\n",
       "      <td>0</td>\n",
       "      <td>...</td>\n",
       "      <td>3</td>\n",
       "      <td>1</td>\n",
       "      <td>3</td>\n",
       "      <td>1</td>\n",
       "      <td>3</td>\n",
       "      <td>0</td>\n",
       "      <td>0</td>\n",
       "      <td>0</td>\n",
       "      <td>1</td>\n",
       "      <td>1</td>\n",
       "    </tr>\n",
       "    <tr>\n",
       "      <th>Jim</th>\n",
       "      <td>0</td>\n",
       "      <td>0</td>\n",
       "      <td>0</td>\n",
       "      <td>0</td>\n",
       "      <td>0</td>\n",
       "      <td>0</td>\n",
       "      <td>0</td>\n",
       "      <td>0</td>\n",
       "      <td>0</td>\n",
       "      <td>0</td>\n",
       "      <td>...</td>\n",
       "      <td>2</td>\n",
       "      <td>1</td>\n",
       "      <td>1</td>\n",
       "      <td>0</td>\n",
       "      <td>0</td>\n",
       "      <td>0</td>\n",
       "      <td>0</td>\n",
       "      <td>0</td>\n",
       "      <td>0</td>\n",
       "      <td>0</td>\n",
       "    </tr>\n",
       "    <tr>\n",
       "      <th>Michael</th>\n",
       "      <td>0</td>\n",
       "      <td>2</td>\n",
       "      <td>1</td>\n",
       "      <td>0</td>\n",
       "      <td>1</td>\n",
       "      <td>0</td>\n",
       "      <td>1</td>\n",
       "      <td>2</td>\n",
       "      <td>1</td>\n",
       "      <td>1</td>\n",
       "      <td>...</td>\n",
       "      <td>0</td>\n",
       "      <td>1</td>\n",
       "      <td>11</td>\n",
       "      <td>1</td>\n",
       "      <td>1</td>\n",
       "      <td>5</td>\n",
       "      <td>1</td>\n",
       "      <td>2</td>\n",
       "      <td>0</td>\n",
       "      <td>0</td>\n",
       "    </tr>\n",
       "    <tr>\n",
       "      <th>Pam</th>\n",
       "      <td>0</td>\n",
       "      <td>0</td>\n",
       "      <td>0</td>\n",
       "      <td>0</td>\n",
       "      <td>0</td>\n",
       "      <td>0</td>\n",
       "      <td>0</td>\n",
       "      <td>0</td>\n",
       "      <td>0</td>\n",
       "      <td>0</td>\n",
       "      <td>...</td>\n",
       "      <td>0</td>\n",
       "      <td>0</td>\n",
       "      <td>0</td>\n",
       "      <td>0</td>\n",
       "      <td>0</td>\n",
       "      <td>0</td>\n",
       "      <td>0</td>\n",
       "      <td>0</td>\n",
       "      <td>0</td>\n",
       "      <td>0</td>\n",
       "    </tr>\n",
       "  </tbody>\n",
       "</table>\n",
       "<p>5 rows × 15518 columns</p>\n",
       "</div>"
      ],
      "text/plain": [
       "         aa  aaaaaaaa  aaaaaand  aaaaah  aaaaeeexcellent  aaaagh  aaaah  \\\n",
       "Andy      0         0         0       0                0       0      0   \n",
       "Dwight    1         6         0       1                0       1      2   \n",
       "Jim       0         0         0       0                0       0      0   \n",
       "Michael   0         2         1       0                1       0      1   \n",
       "Pam       0         0         0       0                0       0      0   \n",
       "\n",
       "         aaaahh  aaaahhh  aaaall  ...  zombie  zombies  zone  zoning  zoo  \\\n",
       "Andy          0        0       0  ...       0        0     1       1    0   \n",
       "Dwight        0        0       0  ...       3        1     3       1    3   \n",
       "Jim           0        0       0  ...       2        1     1       0    0   \n",
       "Michael       2        1       1  ...       0        1    11       1    1   \n",
       "Pam           0        0       0  ...       0        0     0       0    0   \n",
       "\n",
       "         zoom  zooms  zoppity  zoran  zuckerberg  \n",
       "Andy        0      0        0      0           0  \n",
       "Dwight      0      0        0      1           1  \n",
       "Jim         0      0        0      0           0  \n",
       "Michael     5      1        2      0           0  \n",
       "Pam         0      0        0      0           0  \n",
       "\n",
       "[5 rows x 15518 columns]"
      ]
     },
     "execution_count": 333,
     "metadata": {},
     "output_type": "execute_result"
    }
   ],
   "source": [
    "from sklearn.feature_extraction.text import CountVectorizer\n",
    "\n",
    "cv = CountVectorizer(stop_words='english')\n",
    "lines_cv = cv.fit_transform(lines_clean.lines)\n",
    "lines_dtm = pd.DataFrame(lines_cv.toarray(), columns=cv.get_feature_names())\n",
    "lines_dtm.index = lines_clean.index\n",
    "lines_dtm"
   ]
  },
  {
   "cell_type": "code",
   "execution_count": 334,
   "metadata": {},
   "outputs": [
    {
     "data": {
      "text/html": [
       "<div>\n",
       "<style scoped>\n",
       "    .dataframe tbody tr th:only-of-type {\n",
       "        vertical-align: middle;\n",
       "    }\n",
       "\n",
       "    .dataframe tbody tr th {\n",
       "        vertical-align: top;\n",
       "    }\n",
       "\n",
       "    .dataframe thead th {\n",
       "        text-align: right;\n",
       "    }\n",
       "</style>\n",
       "<table border=\"1\" class=\"dataframe\">\n",
       "  <thead>\n",
       "    <tr style=\"text-align: right;\">\n",
       "      <th></th>\n",
       "      <th>aback</th>\n",
       "      <th>abby</th>\n",
       "      <th>abruptly</th>\n",
       "      <th>absolutely</th>\n",
       "      <th>accent</th>\n",
       "      <th>accepts</th>\n",
       "      <th>accidentally</th>\n",
       "      <th>account</th>\n",
       "      <th>accountants</th>\n",
       "      <th>accounting</th>\n",
       "      <th>...</th>\n",
       "      <th>youre</th>\n",
       "      <th>youtube</th>\n",
       "      <th>yuck</th>\n",
       "      <th>zeke</th>\n",
       "      <th>zipper</th>\n",
       "      <th>zipping</th>\n",
       "      <th>zips</th>\n",
       "      <th>zone</th>\n",
       "      <th>zooms</th>\n",
       "      <th>zwarte</th>\n",
       "    </tr>\n",
       "  </thead>\n",
       "  <tbody>\n",
       "    <tr>\n",
       "      <th>Andy</th>\n",
       "      <td>0</td>\n",
       "      <td>0</td>\n",
       "      <td>0</td>\n",
       "      <td>0</td>\n",
       "      <td>4</td>\n",
       "      <td>0</td>\n",
       "      <td>0</td>\n",
       "      <td>0</td>\n",
       "      <td>0</td>\n",
       "      <td>1</td>\n",
       "      <td>...</td>\n",
       "      <td>0</td>\n",
       "      <td>0</td>\n",
       "      <td>0</td>\n",
       "      <td>0</td>\n",
       "      <td>0</td>\n",
       "      <td>0</td>\n",
       "      <td>0</td>\n",
       "      <td>0</td>\n",
       "      <td>1</td>\n",
       "      <td>0</td>\n",
       "    </tr>\n",
       "    <tr>\n",
       "      <th>Dwight</th>\n",
       "      <td>0</td>\n",
       "      <td>2</td>\n",
       "      <td>1</td>\n",
       "      <td>0</td>\n",
       "      <td>9</td>\n",
       "      <td>0</td>\n",
       "      <td>1</td>\n",
       "      <td>1</td>\n",
       "      <td>1</td>\n",
       "      <td>0</td>\n",
       "      <td>...</td>\n",
       "      <td>3</td>\n",
       "      <td>0</td>\n",
       "      <td>0</td>\n",
       "      <td>1</td>\n",
       "      <td>1</td>\n",
       "      <td>0</td>\n",
       "      <td>0</td>\n",
       "      <td>0</td>\n",
       "      <td>1</td>\n",
       "      <td>1</td>\n",
       "    </tr>\n",
       "    <tr>\n",
       "      <th>Jim</th>\n",
       "      <td>0</td>\n",
       "      <td>3</td>\n",
       "      <td>1</td>\n",
       "      <td>0</td>\n",
       "      <td>3</td>\n",
       "      <td>0</td>\n",
       "      <td>0</td>\n",
       "      <td>0</td>\n",
       "      <td>0</td>\n",
       "      <td>0</td>\n",
       "      <td>...</td>\n",
       "      <td>0</td>\n",
       "      <td>0</td>\n",
       "      <td>0</td>\n",
       "      <td>0</td>\n",
       "      <td>0</td>\n",
       "      <td>0</td>\n",
       "      <td>0</td>\n",
       "      <td>0</td>\n",
       "      <td>0</td>\n",
       "      <td>0</td>\n",
       "    </tr>\n",
       "    <tr>\n",
       "      <th>Michael</th>\n",
       "      <td>1</td>\n",
       "      <td>1</td>\n",
       "      <td>0</td>\n",
       "      <td>1</td>\n",
       "      <td>20</td>\n",
       "      <td>1</td>\n",
       "      <td>1</td>\n",
       "      <td>0</td>\n",
       "      <td>0</td>\n",
       "      <td>0</td>\n",
       "      <td>...</td>\n",
       "      <td>0</td>\n",
       "      <td>2</td>\n",
       "      <td>1</td>\n",
       "      <td>0</td>\n",
       "      <td>1</td>\n",
       "      <td>1</td>\n",
       "      <td>2</td>\n",
       "      <td>1</td>\n",
       "      <td>3</td>\n",
       "      <td>0</td>\n",
       "    </tr>\n",
       "    <tr>\n",
       "      <th>Pam</th>\n",
       "      <td>0</td>\n",
       "      <td>0</td>\n",
       "      <td>0</td>\n",
       "      <td>0</td>\n",
       "      <td>3</td>\n",
       "      <td>1</td>\n",
       "      <td>0</td>\n",
       "      <td>0</td>\n",
       "      <td>0</td>\n",
       "      <td>0</td>\n",
       "      <td>...</td>\n",
       "      <td>0</td>\n",
       "      <td>0</td>\n",
       "      <td>0</td>\n",
       "      <td>0</td>\n",
       "      <td>0</td>\n",
       "      <td>0</td>\n",
       "      <td>0</td>\n",
       "      <td>0</td>\n",
       "      <td>0</td>\n",
       "      <td>0</td>\n",
       "    </tr>\n",
       "  </tbody>\n",
       "</table>\n",
       "<p>5 rows × 3465 columns</p>\n",
       "</div>"
      ],
      "text/plain": [
       "         aback  abby  abruptly  absolutely  accent  accepts  accidentally  \\\n",
       "Andy         0     0         0           0       4        0             0   \n",
       "Dwight       0     2         1           0       9        0             1   \n",
       "Jim          0     3         1           0       3        0             0   \n",
       "Michael      1     1         0           1      20        1             1   \n",
       "Pam          0     0         0           0       3        1             0   \n",
       "\n",
       "         account  accountants  accounting  ...  youre  youtube  yuck  zeke  \\\n",
       "Andy           0            0           1  ...      0        0     0     0   \n",
       "Dwight         1            1           0  ...      3        0     0     1   \n",
       "Jim            0            0           0  ...      0        0     0     0   \n",
       "Michael        0            0           0  ...      0        2     1     0   \n",
       "Pam            0            0           0  ...      0        0     0     0   \n",
       "\n",
       "         zipper  zipping  zips  zone  zooms  zwarte  \n",
       "Andy          0        0     0     0      1       0  \n",
       "Dwight        1        0     0     0      1       1  \n",
       "Jim           0        0     0     0      0       0  \n",
       "Michael       1        1     2     1      3       0  \n",
       "Pam           0        0     0     0      0       0  \n",
       "\n",
       "[5 rows x 3465 columns]"
      ]
     },
     "execution_count": 334,
     "metadata": {},
     "output_type": "execute_result"
    }
   ],
   "source": [
    "from sklearn.feature_extraction.text import CountVectorizer\n",
    "\n",
    "cv = CountVectorizer(stop_words=stop_words)\n",
    "actions_cv = cv.fit_transform(actions_clean.actions)\n",
    "actions_dtm = pd.DataFrame(actions_cv.toarray(), columns=cv.get_feature_names())\n",
    "actions_dtm.index = actions_clean.index\n",
    "actions_dtm"
   ]
  },
  {
   "cell_type": "code",
   "execution_count": 335,
   "metadata": {},
   "outputs": [],
   "source": [
    "lines_dtm.to_pickle(\"pickle/lines_dtm.pkl\")\n",
    "actions_dtm.to_pickle(\"pickle/actions_dtm.pkl\")"
   ]
  },
  {
   "cell_type": "markdown",
   "metadata": {},
   "source": [
    "#### Stopword\n"
   ]
  },
  {
   "cell_type": "markdown",
   "metadata": {},
   "source": [
    "from nltk.corpus import stopwords\n",
    "stop_words=set(stopwords.words(\"english\"))\n",
    "stop_words"
   ]
  },
  {
   "cell_type": "markdown",
   "metadata": {},
   "source": [
    "filtered=[]\n",
    "for line in lines_dtm.keys():\n",
    "    if line not in stop_words:\n",
    "        filtered.append(line)\n",
    "print(filtered)"
   ]
  },
  {
   "cell_type": "markdown",
   "metadata": {},
   "source": [
    "#### Stemming\n"
   ]
  },
  {
   "cell_type": "markdown",
   "metadata": {},
   "source": [
    "from nltk.stem.snowball import SnowballStemmer\n",
    "stemmer = SnowballStemmer(\"english\")\n"
   ]
  },
  {
   "cell_type": "markdown",
   "metadata": {},
   "source": [
    "\n",
    "from nltk.stem import PorterStemmer\n",
    "from nltk.tokenize import sent_tokenize, word_tokenize\n",
    "\n",
    "ps = PorterStemmer()\n",
    "\n",
    "stemmed_words=[]\n",
    "for w in filtered:\n",
    "    stemmed_words.append(ps.stem(w))\n",
    "\n",
    "print(\"Filtered Sentence:\",filtered)\n"
   ]
  },
  {
   "cell_type": "markdown",
   "metadata": {},
   "source": [
    "print(\"Stemmed Sentence:\",stemmed_words)"
   ]
  },
  {
   "cell_type": "markdown",
   "metadata": {},
   "source": [
    "## Exploratory Data Analysis"
   ]
  },
  {
   "cell_type": "code",
   "execution_count": 403,
   "metadata": {},
   "outputs": [
    {
     "data": {
      "text/html": [
       "<div>\n",
       "<style scoped>\n",
       "    .dataframe tbody tr th:only-of-type {\n",
       "        vertical-align: middle;\n",
       "    }\n",
       "\n",
       "    .dataframe tbody tr th {\n",
       "        vertical-align: top;\n",
       "    }\n",
       "\n",
       "    .dataframe thead th {\n",
       "        text-align: right;\n",
       "    }\n",
       "</style>\n",
       "<table border=\"1\" class=\"dataframe\">\n",
       "  <thead>\n",
       "    <tr style=\"text-align: right;\">\n",
       "      <th></th>\n",
       "      <th>Andy</th>\n",
       "      <th>Dwight</th>\n",
       "      <th>Jim</th>\n",
       "      <th>Michael</th>\n",
       "      <th>Pam</th>\n",
       "    </tr>\n",
       "  </thead>\n",
       "  <tbody>\n",
       "    <tr>\n",
       "      <th>aa</th>\n",
       "      <td>0</td>\n",
       "      <td>1</td>\n",
       "      <td>0</td>\n",
       "      <td>0</td>\n",
       "      <td>0</td>\n",
       "    </tr>\n",
       "    <tr>\n",
       "      <th>aaaaaaaa</th>\n",
       "      <td>0</td>\n",
       "      <td>6</td>\n",
       "      <td>0</td>\n",
       "      <td>2</td>\n",
       "      <td>0</td>\n",
       "    </tr>\n",
       "    <tr>\n",
       "      <th>aaaaaand</th>\n",
       "      <td>0</td>\n",
       "      <td>0</td>\n",
       "      <td>0</td>\n",
       "      <td>1</td>\n",
       "      <td>0</td>\n",
       "    </tr>\n",
       "    <tr>\n",
       "      <th>aaaaah</th>\n",
       "      <td>0</td>\n",
       "      <td>1</td>\n",
       "      <td>0</td>\n",
       "      <td>0</td>\n",
       "      <td>0</td>\n",
       "    </tr>\n",
       "    <tr>\n",
       "      <th>aaaaeeexcellent</th>\n",
       "      <td>0</td>\n",
       "      <td>0</td>\n",
       "      <td>0</td>\n",
       "      <td>1</td>\n",
       "      <td>0</td>\n",
       "    </tr>\n",
       "  </tbody>\n",
       "</table>\n",
       "</div>"
      ],
      "text/plain": [
       "                 Andy  Dwight  Jim  Michael  Pam\n",
       "aa                  0       1    0        0    0\n",
       "aaaaaaaa            0       6    0        2    0\n",
       "aaaaaand            0       0    0        1    0\n",
       "aaaaah              0       1    0        0    0\n",
       "aaaaeeexcellent     0       0    0        1    0"
      ]
     },
     "execution_count": 403,
     "metadata": {},
     "output_type": "execute_result"
    }
   ],
   "source": [
    "#lines = pd.read_pickle('pickle/lines_dtm.pkl')\n",
    "lines = lines_dtm\n",
    "lines = lines.transpose()\n",
    "lines.head()"
   ]
  },
  {
   "cell_type": "code",
   "execution_count": 404,
   "metadata": {},
   "outputs": [],
   "source": [
    "actions = actions_dtm\n",
    "actions = actions.transpose()"
   ]
  },
  {
   "cell_type": "markdown",
   "metadata": {},
   "source": [
    "### Most Common Word"
   ]
  },
  {
   "cell_type": "code",
   "execution_count": 405,
   "metadata": {},
   "outputs": [
    {
     "data": {
      "text/plain": [
       "{'Andy': [('just', 200),\n",
       "  ('im', 190),\n",
       "  ('know', 146),\n",
       "  ('yeah', 123),\n",
       "  ('like', 122),\n",
       "  ('right', 110),\n",
       "  ('dont', 104),\n",
       "  ('oh', 91),\n",
       "  ('guys', 80),\n",
       "  ('youre', 78),\n",
       "  ('got', 75),\n",
       "  ('going', 74),\n",
       "  ('hey', 74),\n",
       "  ('thats', 73),\n",
       "  ('think', 68),\n",
       "  ('really', 67),\n",
       "  ('good', 63),\n",
       "  ('gonna', 62),\n",
       "  ('uh', 57),\n",
       "  ('time', 56),\n",
       "  ('want', 55),\n",
       "  ('mean', 53),\n",
       "  ('need', 53),\n",
       "  ('did', 53),\n",
       "  ('great', 51),\n",
       "  ('say', 50),\n",
       "  ('ok', 49),\n",
       "  ('erin', 49),\n",
       "  ('yes', 47),\n",
       "  ('thank', 46)],\n",
       " 'Dwight': [('im', 492),\n",
       "  ('oh', 475),\n",
       "  ('know', 420),\n",
       "  ('dont', 402),\n",
       "  ('just', 395),\n",
       "  ('okay', 350),\n",
       "  ('like', 333),\n",
       "  ('jim', 320),\n",
       "  ('youre', 307),\n",
       "  ('michael', 305),\n",
       "  ('thats', 282),\n",
       "  ('right', 273),\n",
       "  ('good', 249),\n",
       "  ('yeah', 247),\n",
       "  ('come', 234),\n",
       "  ('yes', 234),\n",
       "  ('hey', 229),\n",
       "  ('going', 207),\n",
       "  ('got', 206),\n",
       "  ('want', 188),\n",
       "  ('ok', 182),\n",
       "  ('did', 180),\n",
       "  ('need', 178),\n",
       "  ('really', 178),\n",
       "  ('gonna', 165),\n",
       "  ('think', 160),\n",
       "  ('time', 155),\n",
       "  ('say', 153),\n",
       "  ('lets', 145),\n",
       "  ('hes', 143)],\n",
       " 'Jim': [('just', 635),\n",
       "  ('know', 548),\n",
       "  ('oh', 546),\n",
       "  ('im', 526),\n",
       "  ('right', 421),\n",
       "  ('yeah', 408),\n",
       "  ('dont', 404),\n",
       "  ('okay', 383),\n",
       "  ('thats', 347),\n",
       "  ('really', 330),\n",
       "  ('hey', 330),\n",
       "  ('think', 328),\n",
       "  ('dwight', 290),\n",
       "  ('like', 257),\n",
       "  ('good', 255),\n",
       "  ('uh', 253),\n",
       "  ('youre', 219),\n",
       "  ('gonna', 218),\n",
       "  ('ok', 207),\n",
       "  ('going', 205),\n",
       "  ('pam', 198),\n",
       "  ('michael', 198),\n",
       "  ('did', 178),\n",
       "  ('great', 157),\n",
       "  ('want', 149),\n",
       "  ('mean', 141),\n",
       "  ('got', 138),\n",
       "  ('alright', 137),\n",
       "  ('um', 136),\n",
       "  ('time', 135)],\n",
       " 'Michael': [('know', 1365),\n",
       "  ('just', 1227),\n",
       "  ('dont', 1125),\n",
       "  ('im', 1107),\n",
       "  ('oh', 1036),\n",
       "  ('okay', 981),\n",
       "  ('like', 868),\n",
       "  ('right', 810),\n",
       "  ('going', 730),\n",
       "  ('good', 726),\n",
       "  ('thats', 677),\n",
       "  ('yeah', 628),\n",
       "  ('think', 591),\n",
       "  ('want', 571),\n",
       "  ('yes', 555),\n",
       "  ('hey', 548),\n",
       "  ('youre', 494),\n",
       "  ('ok', 481),\n",
       "  ('come', 477),\n",
       "  ('did', 434),\n",
       "  ('dwight', 414),\n",
       "  ('really', 391),\n",
       "  ('people', 381),\n",
       "  ('pam', 377),\n",
       "  ('say', 352),\n",
       "  ('gonna', 339),\n",
       "  ('uh', 331),\n",
       "  ('time', 322),\n",
       "  ('need', 318),\n",
       "  ('um', 310)],\n",
       " 'Pam': [('oh', 465),\n",
       "  ('just', 461),\n",
       "  ('im', 422),\n",
       "  ('dont', 371),\n",
       "  ('yeah', 365),\n",
       "  ('know', 337),\n",
       "  ('like', 312),\n",
       "  ('okay', 288),\n",
       "  ('michael', 288),\n",
       "  ('hey', 267),\n",
       "  ('really', 257),\n",
       "  ('think', 234),\n",
       "  ('jim', 190),\n",
       "  ('um', 186),\n",
       "  ('thats', 174),\n",
       "  ('good', 161),\n",
       "  ('going', 145),\n",
       "  ('did', 143),\n",
       "  ('want', 143),\n",
       "  ('dwight', 141),\n",
       "  ('youre', 140),\n",
       "  ('right', 130),\n",
       "  ('gonna', 124),\n",
       "  ('great', 124),\n",
       "  ('ok', 122),\n",
       "  ('yes', 119),\n",
       "  ('mean', 110),\n",
       "  ('thank', 104),\n",
       "  ('uh', 104),\n",
       "  ('hes', 103)]}"
      ]
     },
     "execution_count": 405,
     "metadata": {},
     "output_type": "execute_result"
    }
   ],
   "source": [
    "top_dict = {}\n",
    "for c in lines.columns:\n",
    "    top = lines[c].sort_values(ascending=False).head(30)\n",
    "    top_dict[c]= list(zip(top.index, top.values))\n",
    "\n",
    "top_dict"
   ]
  },
  {
   "cell_type": "code",
   "execution_count": 406,
   "metadata": {},
   "outputs": [
    {
     "name": "stdout",
     "output_type": "stream",
     "text": [
      "Andy\n",
      "just, im, know, yeah, like, right, dont, oh, guys, youre, got, going, hey, thats, think\n",
      "---\n",
      "Dwight\n",
      "im, oh, know, dont, just, okay, like, jim, youre, michael, thats, right, good, yeah, come\n",
      "---\n",
      "Jim\n",
      "just, know, oh, im, right, yeah, dont, okay, thats, really, hey, think, dwight, like, good\n",
      "---\n",
      "Michael\n",
      "know, just, dont, im, oh, okay, like, right, going, good, thats, yeah, think, want, yes\n",
      "---\n",
      "Pam\n",
      "oh, just, im, dont, yeah, know, like, okay, michael, hey, really, think, jim, um, thats\n",
      "---\n"
     ]
    }
   ],
   "source": [
    "# Print the top 15 words said by each character\n",
    "for character, top_words in top_dict.items():\n",
    "    print(character)\n",
    "    print(', '.join([word for word, count in top_words[:15]]))\n",
    "    print('---')"
   ]
  },
  {
   "cell_type": "code",
   "execution_count": 407,
   "metadata": {},
   "outputs": [],
   "source": [
    "# Look at the most common top words --> add them to the stop word list\n",
    "from collections import Counter\n",
    "\n",
    "# Let's first pull out the top 30 words for each character\n",
    "words = []\n",
    "for character in lines.columns:\n",
    "    top = [word for (word, count) in top_dict[character]]\n",
    "    for t in top:\n",
    "        words.append(t)\n",
    "        "
   ]
  },
  {
   "cell_type": "code",
   "execution_count": 408,
   "metadata": {},
   "outputs": [
    {
     "data": {
      "text/plain": [
       "[('just', 5),\n",
       " ('im', 5),\n",
       " ('know', 5),\n",
       " ('yeah', 5),\n",
       " ('like', 5),\n",
       " ('right', 5),\n",
       " ('dont', 5),\n",
       " ('oh', 5),\n",
       " ('youre', 5),\n",
       " ('going', 5),\n",
       " ('hey', 5),\n",
       " ('thats', 5),\n",
       " ('think', 5),\n",
       " ('really', 5),\n",
       " ('good', 5),\n",
       " ('gonna', 5),\n",
       " ('want', 5),\n",
       " ('did', 5),\n",
       " ('ok', 5),\n",
       " ('uh', 4),\n",
       " ('time', 4),\n",
       " ('yes', 4),\n",
       " ('okay', 4),\n",
       " ('got', 3),\n",
       " ('mean', 3),\n",
       " ('need', 3),\n",
       " ('great', 3),\n",
       " ('say', 3),\n",
       " ('michael', 3),\n",
       " ('dwight', 3),\n",
       " ('um', 3),\n",
       " ('thank', 2),\n",
       " ('jim', 2),\n",
       " ('come', 2),\n",
       " ('hes', 2),\n",
       " ('pam', 2),\n",
       " ('guys', 1),\n",
       " ('erin', 1),\n",
       " ('lets', 1),\n",
       " ('alright', 1),\n",
       " ('people', 1)]"
      ]
     },
     "execution_count": 408,
     "metadata": {},
     "output_type": "execute_result"
    }
   ],
   "source": [
    "# Let's aggregate this list and identify the most common words along with how many routines they occur in\n",
    "Counter(words).most_common()"
   ]
  },
  {
   "cell_type": "code",
   "execution_count": 409,
   "metadata": {},
   "outputs": [
    {
     "data": {
      "text/plain": [
       "['just',\n",
       " 'im',\n",
       " 'know',\n",
       " 'yeah',\n",
       " 'like',\n",
       " 'right',\n",
       " 'dont',\n",
       " 'oh',\n",
       " 'youre',\n",
       " 'going',\n",
       " 'hey',\n",
       " 'thats',\n",
       " 'think',\n",
       " 'really',\n",
       " 'good',\n",
       " 'gonna',\n",
       " 'want',\n",
       " 'did',\n",
       " 'ok',\n",
       " 'uh',\n",
       " 'time',\n",
       " 'yes',\n",
       " 'okay']"
      ]
     },
     "execution_count": 409,
     "metadata": {},
     "output_type": "execute_result"
    }
   ],
   "source": [
    "# If more than half of the characters have it as a top word, exclude it from the list\n",
    "add_stop_words = [word for word, count in Counter(words).most_common() if count > 3]\n",
    "add_stop_words"
   ]
  },
  {
   "cell_type": "code",
   "execution_count": 410,
   "metadata": {},
   "outputs": [],
   "source": [
    "\n",
    "newStopWords = [ 'wimowheh', 'ok', 'okay', 'two', 'on', 'one', 'ago', 'aa', 'aaaaaaaa', 'aaaaah', 'aaaaaand','aaaagh', 'aaaahhh', 'aaaall', 'aaaarrhh','aaagh','aaah','aaahhh', 'aaand', 'aaannnnddd','aah', 'aaaah' , 'aaaahh','aaaaeeexcellent', 'aahch', 'ab']\n",
    "1\n",
    "for i in newStopWords:\n",
    "    add_stop_words.append(i)\n"
   ]
  },
  {
   "cell_type": "code",
   "execution_count": 411,
   "metadata": {},
   "outputs": [
    {
     "data": {
      "text/html": [
       "<div>\n",
       "<style scoped>\n",
       "    .dataframe tbody tr th:only-of-type {\n",
       "        vertical-align: middle;\n",
       "    }\n",
       "\n",
       "    .dataframe tbody tr th {\n",
       "        vertical-align: top;\n",
       "    }\n",
       "\n",
       "    .dataframe thead th {\n",
       "        text-align: right;\n",
       "    }\n",
       "</style>\n",
       "<table border=\"1\" class=\"dataframe\">\n",
       "  <thead>\n",
       "    <tr style=\"text-align: right;\">\n",
       "      <th></th>\n",
       "      <th>aandy</th>\n",
       "      <th>aaron</th>\n",
       "      <th>abandon</th>\n",
       "      <th>abandoned</th>\n",
       "      <th>abandoning</th>\n",
       "      <th>abbey</th>\n",
       "      <th>abbreviating</th>\n",
       "      <th>abby</th>\n",
       "      <th>abdomen</th>\n",
       "      <th>abducted</th>\n",
       "      <th>...</th>\n",
       "      <th>zombie</th>\n",
       "      <th>zombies</th>\n",
       "      <th>zone</th>\n",
       "      <th>zoning</th>\n",
       "      <th>zoo</th>\n",
       "      <th>zoom</th>\n",
       "      <th>zooms</th>\n",
       "      <th>zoppity</th>\n",
       "      <th>zoran</th>\n",
       "      <th>zuckerberg</th>\n",
       "    </tr>\n",
       "  </thead>\n",
       "  <tbody>\n",
       "    <tr>\n",
       "      <th>Andy</th>\n",
       "      <td>0</td>\n",
       "      <td>1</td>\n",
       "      <td>1</td>\n",
       "      <td>0</td>\n",
       "      <td>0</td>\n",
       "      <td>0</td>\n",
       "      <td>0</td>\n",
       "      <td>0</td>\n",
       "      <td>0</td>\n",
       "      <td>0</td>\n",
       "      <td>...</td>\n",
       "      <td>0</td>\n",
       "      <td>0</td>\n",
       "      <td>1</td>\n",
       "      <td>1</td>\n",
       "      <td>0</td>\n",
       "      <td>0</td>\n",
       "      <td>0</td>\n",
       "      <td>0</td>\n",
       "      <td>0</td>\n",
       "      <td>0</td>\n",
       "    </tr>\n",
       "    <tr>\n",
       "      <th>Dwight</th>\n",
       "      <td>0</td>\n",
       "      <td>0</td>\n",
       "      <td>2</td>\n",
       "      <td>0</td>\n",
       "      <td>1</td>\n",
       "      <td>0</td>\n",
       "      <td>1</td>\n",
       "      <td>1</td>\n",
       "      <td>1</td>\n",
       "      <td>0</td>\n",
       "      <td>...</td>\n",
       "      <td>3</td>\n",
       "      <td>1</td>\n",
       "      <td>3</td>\n",
       "      <td>1</td>\n",
       "      <td>3</td>\n",
       "      <td>0</td>\n",
       "      <td>0</td>\n",
       "      <td>0</td>\n",
       "      <td>1</td>\n",
       "      <td>1</td>\n",
       "    </tr>\n",
       "    <tr>\n",
       "      <th>Jim</th>\n",
       "      <td>1</td>\n",
       "      <td>0</td>\n",
       "      <td>0</td>\n",
       "      <td>0</td>\n",
       "      <td>1</td>\n",
       "      <td>1</td>\n",
       "      <td>0</td>\n",
       "      <td>2</td>\n",
       "      <td>0</td>\n",
       "      <td>0</td>\n",
       "      <td>...</td>\n",
       "      <td>2</td>\n",
       "      <td>1</td>\n",
       "      <td>1</td>\n",
       "      <td>0</td>\n",
       "      <td>0</td>\n",
       "      <td>0</td>\n",
       "      <td>0</td>\n",
       "      <td>0</td>\n",
       "      <td>0</td>\n",
       "      <td>0</td>\n",
       "    </tr>\n",
       "    <tr>\n",
       "      <th>Michael</th>\n",
       "      <td>0</td>\n",
       "      <td>1</td>\n",
       "      <td>0</td>\n",
       "      <td>2</td>\n",
       "      <td>0</td>\n",
       "      <td>0</td>\n",
       "      <td>0</td>\n",
       "      <td>0</td>\n",
       "      <td>0</td>\n",
       "      <td>2</td>\n",
       "      <td>...</td>\n",
       "      <td>0</td>\n",
       "      <td>1</td>\n",
       "      <td>11</td>\n",
       "      <td>1</td>\n",
       "      <td>1</td>\n",
       "      <td>5</td>\n",
       "      <td>1</td>\n",
       "      <td>2</td>\n",
       "      <td>0</td>\n",
       "      <td>0</td>\n",
       "    </tr>\n",
       "    <tr>\n",
       "      <th>Pam</th>\n",
       "      <td>0</td>\n",
       "      <td>0</td>\n",
       "      <td>1</td>\n",
       "      <td>1</td>\n",
       "      <td>0</td>\n",
       "      <td>1</td>\n",
       "      <td>0</td>\n",
       "      <td>2</td>\n",
       "      <td>0</td>\n",
       "      <td>0</td>\n",
       "      <td>...</td>\n",
       "      <td>0</td>\n",
       "      <td>0</td>\n",
       "      <td>0</td>\n",
       "      <td>0</td>\n",
       "      <td>0</td>\n",
       "      <td>0</td>\n",
       "      <td>0</td>\n",
       "      <td>0</td>\n",
       "      <td>0</td>\n",
       "      <td>0</td>\n",
       "    </tr>\n",
       "  </tbody>\n",
       "</table>\n",
       "<p>5 rows × 15474 columns</p>\n",
       "</div>"
      ],
      "text/plain": [
       "         aandy  aaron  abandon  abandoned  abandoning  abbey  abbreviating  \\\n",
       "Andy         0      1        1          0           0      0             0   \n",
       "Dwight       0      0        2          0           1      0             1   \n",
       "Jim          1      0        0          0           1      1             0   \n",
       "Michael      0      1        0          2           0      0             0   \n",
       "Pam          0      0        1          1           0      1             0   \n",
       "\n",
       "         abby  abdomen  abducted  ...  zombie  zombies  zone  zoning  zoo  \\\n",
       "Andy        0        0         0  ...       0        0     1       1    0   \n",
       "Dwight      1        1         0  ...       3        1     3       1    3   \n",
       "Jim         2        0         0  ...       2        1     1       0    0   \n",
       "Michael     0        0         2  ...       0        1    11       1    1   \n",
       "Pam         2        0         0  ...       0        0     0       0    0   \n",
       "\n",
       "         zoom  zooms  zoppity  zoran  zuckerberg  \n",
       "Andy        0      0        0      0           0  \n",
       "Dwight      0      0        0      1           1  \n",
       "Jim         0      0        0      0           0  \n",
       "Michael     5      1        2      0           0  \n",
       "Pam         0      0        0      0           0  \n",
       "\n",
       "[5 rows x 15474 columns]"
      ]
     },
     "execution_count": 411,
     "metadata": {},
     "output_type": "execute_result"
    }
   ],
   "source": [
    "\n",
    "\n",
    "# Let's update our document-term matrix with the new list of stop words\n",
    "from sklearn.feature_extraction import text \n",
    "from sklearn.feature_extraction.text import CountVectorizer\n",
    "\n",
    "# Read in cleaned data\n",
    "#lines_clean = pd.read_pickle('pickle/lines_clean.pkl')\n",
    "\n",
    "\n",
    "# Add new stop words\n",
    "stop_words = text.ENGLISH_STOP_WORDS.union(add_stop_words)\n",
    "\n",
    "# Recreate document-term matrix\n",
    "cv = CountVectorizer(stop_words=stop_words)\n",
    "lines_cv = cv.fit_transform(lines_clean.lines)\n",
    "lines_stop = pd.DataFrame(lines_cv.toarray(), columns=cv.get_feature_names())\n",
    "lines_stop.index = lines_clean.index\n",
    "\n",
    "# Pickle it for later use\n",
    "import pickle\n",
    "pickle.dump(cv, open(\"pickle/cv_stop.pkl\", \"wb\"))\n",
    "lines_stop.to_pickle(\"pickle/dtm_stop.pkl\")\n",
    "lines_stop"
   ]
  },
  {
   "cell_type": "code",
   "execution_count": 412,
   "metadata": {},
   "outputs": [],
   "source": [
    "# Let's make some word clouds!\n",
    "from wordcloud import WordCloud\n",
    "\n",
    "wc = WordCloud(stopwords=stop_words, background_color=\"white\", colormap=\"Dark2\", max_font_size=150, random_state=42)"
   ]
  },
  {
   "cell_type": "code",
   "execution_count": 413,
   "metadata": {},
   "outputs": [
    {
     "data": {
      "image/png": "[encoded data removed]",
      "text/plain": [
       "<Figure size 2160x1080 with 5 Axes>"
      ]
     },
     "metadata": {
      "needs_background": "light"
     },
     "output_type": "display_data"
    }
   ],
   "source": [
    "# Reset the output dimensions\n",
    "import matplotlib.pyplot as plt\n",
    "\n",
    "plt.rcParams['figure.figsize'] = [30, 15]\n",
    "\n",
    "full_names = ['Andy Bernard', 'Dwight Schrute', 'Jim Halpert', 'Michael Scott', 'Pam Beesly']\n",
    "\n",
    "# Create subplots for each comedian\n",
    "for index, character in enumerate(lines.columns):\n",
    "    wc.generate(lines_clean.lines[character])\n",
    "    \n",
    "    plt.subplot(3, 5, index+1)\n",
    "    plt.imshow(wc, interpolation=\"bilinear\")\n",
    "    plt.axis(\"off\")\n",
    "    plt.title(full_names[index])\n",
    "    \n",
    "plt.show()"
   ]
  },
  {
   "cell_type": "markdown",
   "metadata": {},
   "source": [
    "### Number of Words\n"
   ]
  },
  {
   "cell_type": "code",
   "execution_count": 414,
   "metadata": {},
   "outputs": [
    {
     "data": {
      "text/html": [
       "<div>\n",
       "<style scoped>\n",
       "    .dataframe tbody tr th:only-of-type {\n",
       "        vertical-align: middle;\n",
       "    }\n",
       "\n",
       "    .dataframe tbody tr th {\n",
       "        vertical-align: top;\n",
       "    }\n",
       "\n",
       "    .dataframe thead th {\n",
       "        text-align: right;\n",
       "    }\n",
       "</style>\n",
       "<table border=\"1\" class=\"dataframe\">\n",
       "  <thead>\n",
       "    <tr style=\"text-align: right;\">\n",
       "      <th></th>\n",
       "      <th>character</th>\n",
       "      <th>unique_words</th>\n",
       "    </tr>\n",
       "  </thead>\n",
       "  <tbody>\n",
       "    <tr>\n",
       "      <th>0</th>\n",
       "      <td>Andy Bernard</td>\n",
       "      <td>3035</td>\n",
       "    </tr>\n",
       "    <tr>\n",
       "      <th>4</th>\n",
       "      <td>Pam Beesly</td>\n",
       "      <td>3981</td>\n",
       "    </tr>\n",
       "    <tr>\n",
       "      <th>2</th>\n",
       "      <td>Jim Halpert</td>\n",
       "      <td>4769</td>\n",
       "    </tr>\n",
       "    <tr>\n",
       "      <th>1</th>\n",
       "      <td>Dwight Schrute</td>\n",
       "      <td>8127</td>\n",
       "    </tr>\n",
       "    <tr>\n",
       "      <th>3</th>\n",
       "      <td>Michael Scott</td>\n",
       "      <td>9393</td>\n",
       "    </tr>\n",
       "  </tbody>\n",
       "</table>\n",
       "</div>"
      ],
      "text/plain": [
       "        character  unique_words\n",
       "0    Andy Bernard          3035\n",
       "4      Pam Beesly          3981\n",
       "2     Jim Halpert          4769\n",
       "1  Dwight Schrute          8127\n",
       "3   Michael Scott          9393"
      ]
     },
     "execution_count": 414,
     "metadata": {},
     "output_type": "execute_result"
    }
   ],
   "source": [
    "# Find the number of unique words that each comedian uses\n",
    "\n",
    "# Identify the non-zero items in the document-term matrix, meaning that the word occurs at least once\n",
    "unique_list = []\n",
    "for character in lines.columns:\n",
    "    uniques = lines[character].to_numpy().nonzero()[0].size\n",
    "    unique_list.append(uniques)\n",
    "\n",
    "# Create a new dataframe that contains this unique word count\n",
    "lines_words = pd.DataFrame(list(zip(full_names, unique_list)), columns=['character', 'unique_words'])\n",
    "lines_unique_sort = lines_words.sort_values(by='unique_words')\n",
    "lines_unique_sort"
   ]
  },
  {
   "cell_type": "code",
   "execution_count": 415,
   "metadata": {},
   "outputs": [
    {
     "data": {
      "text/html": [
       "<div>\n",
       "<style scoped>\n",
       "    .dataframe tbody tr th:only-of-type {\n",
       "        vertical-align: middle;\n",
       "    }\n",
       "\n",
       "    .dataframe tbody tr th {\n",
       "        vertical-align: top;\n",
       "    }\n",
       "\n",
       "    .dataframe thead th {\n",
       "        text-align: right;\n",
       "    }\n",
       "</style>\n",
       "<table border=\"1\" class=\"dataframe\">\n",
       "  <thead>\n",
       "    <tr style=\"text-align: right;\">\n",
       "      <th></th>\n",
       "      <th>character</th>\n",
       "      <th>words</th>\n",
       "    </tr>\n",
       "  </thead>\n",
       "  <tbody>\n",
       "    <tr>\n",
       "      <th>0</th>\n",
       "      <td>Andy Bernard</td>\n",
       "      <td>21877</td>\n",
       "    </tr>\n",
       "    <tr>\n",
       "      <th>4</th>\n",
       "      <td>Pam Beesly</td>\n",
       "      <td>47345</td>\n",
       "    </tr>\n",
       "    <tr>\n",
       "      <th>2</th>\n",
       "      <td>Jim Halpert</td>\n",
       "      <td>62318</td>\n",
       "    </tr>\n",
       "    <tr>\n",
       "      <th>1</th>\n",
       "      <td>Dwight Schrute</td>\n",
       "      <td>83586</td>\n",
       "    </tr>\n",
       "    <tr>\n",
       "      <th>3</th>\n",
       "      <td>Michael Scott</td>\n",
       "      <td>167556</td>\n",
       "    </tr>\n",
       "  </tbody>\n",
       "</table>\n",
       "</div>"
      ],
      "text/plain": [
       "        character   words\n",
       "0    Andy Bernard   21877\n",
       "4      Pam Beesly   47345\n",
       "2     Jim Halpert   62318\n",
       "1  Dwight Schrute   83586\n",
       "3   Michael Scott  167556"
      ]
     },
     "execution_count": 415,
     "metadata": {},
     "output_type": "execute_result"
    }
   ],
   "source": [
    "all_words = lines_clean.lines.apply(lambda x : len(x.split()))\n",
    "\n",
    "all_words = pd.DataFrame(list(zip(full_names, all_words)), columns=['character', 'words'])\n",
    "all_words_sort = all_words.sort_values(by='words')\n",
    "all_words_sort"
   ]
  },
  {
   "cell_type": "code",
   "execution_count": 427,
   "metadata": {},
   "outputs": [
    {
     "data": {
      "image/png": "[encoded data removed]",
      "text/plain": [
       "<Figure size 720x576 with 1 Axes>"
      ]
     },
     "metadata": {
      "needs_background": "light"
     },
     "output_type": "display_data"
    }
   ],
   "source": [
    "import matplotlib\n",
    "import matplotlib.pyplot as plt\n",
    "import numpy as np\n",
    "plt.rcParams.update({'font.size': 15})\n",
    "\n",
    "\n",
    "labels = lines_unique_sort.character\n",
    "all_means = all_words_sort.words\n",
    "unq_means = lines_unique_sort.unique_words\n",
    "\n",
    "\n",
    "x = np.arange(len(all_words))  # the label locations\n",
    "width = 0.35  # the width of the bars\n",
    "\n",
    "fig, ax = plt.subplots()\n",
    "rects1 = ax.bar(x - width/2, all_means, width, label='All words')\n",
    "rects2 = ax.bar(x + width/2, unq_means, width, label='Unique words')\n",
    "\n",
    "# Add some text for labels, title and custom x-axis tick labels, etc.\n",
    "ax.set_ylabel('Words')\n",
    "ax.set_title('Amount of unique words and all words', fontsize=40)\n",
    "ax.set_xticks(x)\n",
    "ax.set_xticklabels(labels)\n",
    "ax.legend()\n",
    "\n",
    "def autolabel(rects):\n",
    "    \"\"\"Attach a text label above each bar in *rects*, displaying its height.\"\"\"\n",
    "    for rect in rects:\n",
    "        height = rect.get_height()\n",
    "        ax.annotate('{}'.format(height),\n",
    "                    xy=(rect.get_x() + rect.get_width() / 2, height),\n",
    "                    xytext=(0, 3),  # 3 points vertical offset\n",
    "                    textcoords=\"offset points\",\n",
    "                    ha='center', va='bottom')\n",
    "        \n",
    "\n",
    "autolabel(rects1)\n",
    "autolabel(rects2)\n",
    "\n",
    "plt.show()"
   ]
  },
  {
   "cell_type": "markdown",
   "metadata": {},
   "source": [
    "We can't really conclude anything from this, as Michael Scott probably also has the most lines in the show..."
   ]
  },
  {
   "cell_type": "markdown",
   "metadata": {},
   "source": [
    "### Amount of Profanity "
   ]
  },
  {
   "cell_type": "code",
   "execution_count": 417,
   "metadata": {},
   "outputs": [],
   "source": [
    "lines_bad_words = lines.transpose()[['bleep', 'bitch']]\n",
    "\n",
    "lines_profanity = pd.concat([lines_bad_words.bleep, lines_bad_words.bitch], axis=1)\n",
    "lines_profanity.columns = ['bleep', 'bitch']\n"
   ]
  },
  {
   "cell_type": "code",
   "execution_count": 418,
   "metadata": {},
   "outputs": [],
   "source": [
    "# Let's isolate bad words in the actions\n",
    "actions_bad_words = actions.transpose()[['bleep']]\n",
    "\n",
    "actions_profanity = pd.concat([actions_bad_words.bleep], axis=1)\n",
    "actions_profanity.columns = ['bleep']\n"
   ]
  },
  {
   "cell_type": "code",
   "execution_count": 419,
   "metadata": {},
   "outputs": [],
   "source": [
    "# Profanity overall\n",
    "lines_bad_words = lines.transpose()[['bleep', 'bitch']]\n",
    "actions_bad_words = actions.transpose()[['bleep']]\n",
    "\n",
    "profanity = pd.concat([lines_bad_words.bleep + actions_bad_words.bleep, lines_bad_words.bitch], axis=1)\n",
    "profanity.columns = ['bleep', 'bitch']\n"
   ]
  },
  {
   "cell_type": "code",
   "execution_count": 420,
   "metadata": {},
   "outputs": [],
   "source": [
    "prof = profanity['bleep'] + profanity['bitch']\n",
    "names = []\n",
    "count = []\n",
    "for key, value in prof.items():\n",
    "    names.append(key)\n",
    "    count.append(value)"
   ]
  },
  {
   "cell_type": "code",
   "execution_count": 421,
   "metadata": {},
   "outputs": [
    {
     "data": {
      "image/png": "[encoded data removed]",
      "text/plain": [
       "<Figure size 2160x1080 with 1 Axes>"
      ]
     },
     "metadata": {
      "needs_background": "light"
     },
     "output_type": "display_data"
    }
   ],
   "source": [
    "plt.bar(names, count)\n",
    "plt.suptitle('Bleeped words')\n",
    "plt.xlabel('Characters')\n",
    "plt.ylabel('Bleeps')\n",
    "plt.show()"
   ]
  },
  {
   "cell_type": "code",
   "execution_count": 500,
   "metadata": {},
   "outputs": [
    {
     "data": {
      "text/html": [
       "<div>\n",
       "<style scoped>\n",
       "    .dataframe tbody tr th:only-of-type {\n",
       "        vertical-align: middle;\n",
       "    }\n",
       "\n",
       "    .dataframe tbody tr th {\n",
       "        vertical-align: top;\n",
       "    }\n",
       "\n",
       "    .dataframe thead th {\n",
       "        text-align: right;\n",
       "    }\n",
       "</style>\n",
       "<table border=\"1\" class=\"dataframe\">\n",
       "  <thead>\n",
       "    <tr style=\"text-align: right;\">\n",
       "      <th></th>\n",
       "      <th>character</th>\n",
       "      <th>profanity</th>\n",
       "      <th>unique words</th>\n",
       "      <th>word count</th>\n",
       "    </tr>\n",
       "  </thead>\n",
       "  <tbody>\n",
       "    <tr>\n",
       "      <th>0</th>\n",
       "      <td>Andy Bernard</td>\n",
       "      <td>9</td>\n",
       "      <td>3035</td>\n",
       "      <td>21877</td>\n",
       "    </tr>\n",
       "    <tr>\n",
       "      <th>1</th>\n",
       "      <td>Dwight Schrute</td>\n",
       "      <td>6</td>\n",
       "      <td>8127</td>\n",
       "      <td>83586</td>\n",
       "    </tr>\n",
       "    <tr>\n",
       "      <th>2</th>\n",
       "      <td>Jim Halpert</td>\n",
       "      <td>3</td>\n",
       "      <td>4769</td>\n",
       "      <td>62318</td>\n",
       "    </tr>\n",
       "    <tr>\n",
       "      <th>3</th>\n",
       "      <td>Michael Scott</td>\n",
       "      <td>27</td>\n",
       "      <td>9393</td>\n",
       "      <td>167556</td>\n",
       "    </tr>\n",
       "    <tr>\n",
       "      <th>4</th>\n",
       "      <td>Pam Beesly</td>\n",
       "      <td>0</td>\n",
       "      <td>3981</td>\n",
       "      <td>47345</td>\n",
       "    </tr>\n",
       "  </tbody>\n",
       "</table>\n",
       "</div>"
      ],
      "text/plain": [
       "        character  profanity  unique words  word count\n",
       "0    Andy Bernard          9          3035       21877\n",
       "1  Dwight Schrute          6          8127       83586\n",
       "2     Jim Halpert          3          4769       62318\n",
       "3   Michael Scott         27          9393      167556\n",
       "4      Pam Beesly          0          3981       47345"
      ]
     },
     "execution_count": 500,
     "metadata": {},
     "output_type": "execute_result"
    }
   ],
   "source": [
    "wordcount = lines_clean.lines.apply(lambda x : len(x.split()))\n",
    "wordcount_pd = pd.DataFrame(list(zip(full_names, count,unique_list,  wordcount)), columns=['character','profanity', 'unique words', 'word count'])\n",
    "wordcount_pd\n"
   ]
  },
  {
   "cell_type": "markdown",
   "metadata": {},
   "source": [
    "## Sentiment Analysis\n",
    "### Sentiment of Routine"
   ]
  },
  {
   "cell_type": "code",
   "execution_count": 423,
   "metadata": {},
   "outputs": [
    {
     "data": {
      "text/html": [
       "<div>\n",
       "<style scoped>\n",
       "    .dataframe tbody tr th:only-of-type {\n",
       "        vertical-align: middle;\n",
       "    }\n",
       "\n",
       "    .dataframe tbody tr th {\n",
       "        vertical-align: top;\n",
       "    }\n",
       "\n",
       "    .dataframe thead th {\n",
       "        text-align: right;\n",
       "    }\n",
       "</style>\n",
       "<table border=\"1\" class=\"dataframe\">\n",
       "  <thead>\n",
       "    <tr style=\"text-align: right;\">\n",
       "      <th></th>\n",
       "      <th>lines</th>\n",
       "      <th>Characters</th>\n",
       "    </tr>\n",
       "  </thead>\n",
       "  <tbody>\n",
       "    <tr>\n",
       "      <th>Andy</th>\n",
       "      <td>Robert. I said winners and losers. Is that what youre talking about?Oh, that, it might- That might actually be what Im thinking of. Can you clarif...</td>\n",
       "      <td>Andy Bernard</td>\n",
       "    </tr>\n",
       "    <tr>\n",
       "      <th>Dwight</th>\n",
       "      <td>Shall I play for you? Pa rum pump um pum  I have no gifts for you. Pa rum pump um pum Whassup!Whassup.What?Just clearing my desk. I can't concent...</td>\n",
       "      <td>Dwight Schrute</td>\n",
       "    </tr>\n",
       "    <tr>\n",
       "      <th>Jim</th>\n",
       "      <td>Oh, I told you. I couldn't close it. So...Actually, you called me in here, but yeah.My job is to speak to clients on the phone about... uh, quanti...</td>\n",
       "      <td>Jim Halpert</td>\n",
       "    </tr>\n",
       "    <tr>\n",
       "      <th>Michael</th>\n",
       "      <td>All right Jim. Your quarterlies look very good. How are things at the library?So you've come to the master for guidance? Is this what you're sayin...</td>\n",
       "      <td>Michael Scott</td>\n",
       "    </tr>\n",
       "    <tr>\n",
       "      <th>Pam</th>\n",
       "      <td>Well. I don't know.What?Uh, yeah. Just a fax.You haven't told me.Uh, yeah, the one...You put in the garbage can that was a special filing cabinet....</td>\n",
       "      <td>Pam Beesly</td>\n",
       "    </tr>\n",
       "  </tbody>\n",
       "</table>\n",
       "</div>"
      ],
      "text/plain": [
       "                                                                                                                                                         lines  \\\n",
       "Andy     Robert. I said winners and losers. Is that what youre talking about?Oh, that, it might- That might actually be what Im thinking of. Can you clarif...   \n",
       "Dwight    Shall I play for you? Pa rum pump um pum  I have no gifts for you. Pa rum pump um pum Whassup!Whassup.What?Just clearing my desk. I can't concent...   \n",
       "Jim      Oh, I told you. I couldn't close it. So...Actually, you called me in here, but yeah.My job is to speak to clients on the phone about... uh, quanti...   \n",
       "Michael  All right Jim. Your quarterlies look very good. How are things at the library?So you've come to the master for guidance? Is this what you're sayin...   \n",
       "Pam      Well. I don't know.What?Uh, yeah. Just a fax.You haven't told me.Uh, yeah, the one...You put in the garbage can that was a special filing cabinet....   \n",
       "\n",
       "             Characters  \n",
       "Andy       Andy Bernard  \n",
       "Dwight   Dwight Schrute  \n",
       "Jim         Jim Halpert  \n",
       "Michael   Michael Scott  \n",
       "Pam          Pam Beesly  "
      ]
     },
     "execution_count": 423,
     "metadata": {},
     "output_type": "execute_result"
    }
   ],
   "source": [
    "import pandas as pd\n",
    "\n",
    "char_names = ['Andy Bernard', 'Dwight Schrute', 'Jim Halpert', 'Michael Scott', 'Pam Beesly']\n",
    "lines['Characters'] = char_names\n",
    "lines"
   ]
  },
  {
   "cell_type": "code",
   "execution_count": 424,
   "metadata": {},
   "outputs": [
    {
     "data": {
      "text/html": [
       "<div>\n",
       "<style scoped>\n",
       "    .dataframe tbody tr th:only-of-type {\n",
       "        vertical-align: middle;\n",
       "    }\n",
       "\n",
       "    .dataframe tbody tr th {\n",
       "        vertical-align: top;\n",
       "    }\n",
       "\n",
       "    .dataframe thead th {\n",
       "        text-align: right;\n",
       "    }\n",
       "</style>\n",
       "<table border=\"1\" class=\"dataframe\">\n",
       "  <thead>\n",
       "    <tr style=\"text-align: right;\">\n",
       "      <th></th>\n",
       "      <th>lines</th>\n",
       "      <th>Characters</th>\n",
       "      <th>polarity</th>\n",
       "      <th>subjectivity</th>\n",
       "    </tr>\n",
       "  </thead>\n",
       "  <tbody>\n",
       "    <tr>\n",
       "      <th>Andy</th>\n",
       "      <td>Robert. I said winners and losers. Is that what youre talking about?Oh, that, it might- That might actually be what Im thinking of. Can you clarif...</td>\n",
       "      <td>Andy Bernard</td>\n",
       "      <td>0.130747</td>\n",
       "      <td>0.532648</td>\n",
       "    </tr>\n",
       "    <tr>\n",
       "      <th>Dwight</th>\n",
       "      <td>Shall I play for you? Pa rum pump um pum  I have no gifts for you. Pa rum pump um pum Whassup!Whassup.What?Just clearing my desk. I can't concent...</td>\n",
       "      <td>Dwight Schrute</td>\n",
       "      <td>0.141048</td>\n",
       "      <td>0.505843</td>\n",
       "    </tr>\n",
       "    <tr>\n",
       "      <th>Jim</th>\n",
       "      <td>Oh, I told you. I couldn't close it. So...Actually, you called me in here, but yeah.My job is to speak to clients on the phone about... uh, quanti...</td>\n",
       "      <td>Jim Halpert</td>\n",
       "      <td>0.140890</td>\n",
       "      <td>0.529351</td>\n",
       "    </tr>\n",
       "    <tr>\n",
       "      <th>Michael</th>\n",
       "      <td>All right Jim. Your quarterlies look very good. How are things at the library?So you've come to the master for guidance? Is this what you're sayin...</td>\n",
       "      <td>Michael Scott</td>\n",
       "      <td>0.167168</td>\n",
       "      <td>0.521001</td>\n",
       "    </tr>\n",
       "    <tr>\n",
       "      <th>Pam</th>\n",
       "      <td>Well. I don't know.What?Uh, yeah. Just a fax.You haven't told me.Uh, yeah, the one...You put in the garbage can that was a special filing cabinet....</td>\n",
       "      <td>Pam Beesly</td>\n",
       "      <td>0.148947</td>\n",
       "      <td>0.526456</td>\n",
       "    </tr>\n",
       "  </tbody>\n",
       "</table>\n",
       "</div>"
      ],
      "text/plain": [
       "                                                                                                                                                         lines  \\\n",
       "Andy     Robert. I said winners and losers. Is that what youre talking about?Oh, that, it might- That might actually be what Im thinking of. Can you clarif...   \n",
       "Dwight    Shall I play for you? Pa rum pump um pum  I have no gifts for you. Pa rum pump um pum Whassup!Whassup.What?Just clearing my desk. I can't concent...   \n",
       "Jim      Oh, I told you. I couldn't close it. So...Actually, you called me in here, but yeah.My job is to speak to clients on the phone about... uh, quanti...   \n",
       "Michael  All right Jim. Your quarterlies look very good. How are things at the library?So you've come to the master for guidance? Is this what you're sayin...   \n",
       "Pam      Well. I don't know.What?Uh, yeah. Just a fax.You haven't told me.Uh, yeah, the one...You put in the garbage can that was a special filing cabinet....   \n",
       "\n",
       "             Characters  polarity  subjectivity  \n",
       "Andy       Andy Bernard  0.130747      0.532648  \n",
       "Dwight   Dwight Schrute  0.141048      0.505843  \n",
       "Jim         Jim Halpert  0.140890      0.529351  \n",
       "Michael   Michael Scott  0.167168      0.521001  \n",
       "Pam          Pam Beesly  0.148947      0.526456  "
      ]
     },
     "execution_count": 424,
     "metadata": {},
     "output_type": "execute_result"
    }
   ],
   "source": [
    "# Create quick lambda functions to find the polarity and subjectivity of each routine\n",
    "from textblob import TextBlob\n",
    "\n",
    "pol = lambda x: TextBlob(x).sentiment.polarity\n",
    "sub = lambda x: TextBlob(x).sentiment.subjectivity\n",
    "\n",
    "lines['polarity'] = lines['lines'].apply(pol)\n",
    "lines['subjectivity'] = lines['lines'].apply(sub)\n",
    "lines"
   ]
  },
  {
   "cell_type": "code",
   "execution_count": 428,
   "metadata": {},
   "outputs": [
    {
     "data": {
      "image/png": "[encoded data removed]",
      "text/plain": [
       "<Figure size 720x576 with 1 Axes>"
      ]
     },
     "metadata": {
      "needs_background": "light"
     },
     "output_type": "display_data"
    }
   ],
   "source": [
    "# Let's plot the results\n",
    "import matplotlib.pyplot as plt\n",
    "\n",
    "plt.rcParams['figure.figsize'] = [10, 8]\n",
    "\n",
    "for index, character in enumerate(lines.index):\n",
    "    x = lines.polarity.loc[character]\n",
    "    y = lines.subjectivity.loc[character]\n",
    "    plt.scatter(x, y, color='blue')\n",
    "    plt.text(x+.001, y+.001, lines['Characters'][index], fontsize=10)\n",
    "    plt.xlim(-.01, .22) \n",
    "    \n",
    "plt.title('Sentiment Analysis', fontsize=20)\n",
    "plt.xlabel('<-- Negative -------- Positive -->', fontsize=15)\n",
    "plt.ylabel('<-- Facts -------- Opinions -->', fontsize=15)\n",
    "\n",
    "plt.show()"
   ]
  },
  {
   "cell_type": "markdown",
   "metadata": {},
   "source": [
    "### Sentiment of Routine Over Time\n",
    "Instead of looking at the overall sentiment, let's see if there's anything interesting about the sentiment over time throughout each routine."
   ]
  },
  {
   "cell_type": "code",
   "execution_count": 432,
   "metadata": {},
   "outputs": [],
   "source": [
    "# Split each routine into 10 parts\n",
    "import numpy as np\n",
    "import math\n",
    "\n",
    "def split_text(text, n=10):\n",
    "    '''Takes in a string of text and splits into n equal parts, with a default of 10 equal parts.'''\n",
    "\n",
    "    # Calculate length of text, the size of each chunk of text and the starting points of each chunk of text\n",
    "    length = len(text)\n",
    "    size = math.floor(length / n)\n",
    "    start = np.arange(0, length, size)\n",
    "    \n",
    "    # Pull out equally sized pieces of text and put it into a list\n",
    "    split_list = []\n",
    "    for piece in range(n):\n",
    "        split_list.append(text[start[piece]:start[piece]+size])\n",
    "    return split_list\n",
    "#lines"
   ]
  },
  {
   "cell_type": "code",
   "execution_count": 434,
   "metadata": {},
   "outputs": [],
   "source": [
    "# Let's create a list to hold all of the pieces of text\n",
    "list_pieces = []\n",
    "for t in lines.lines:\n",
    "    split = split_text(t)\n",
    "    list_pieces.append(split)\n",
    "    \n",
    "#list_pieces"
   ]
  },
  {
   "cell_type": "code",
   "execution_count": 436,
   "metadata": {},
   "outputs": [],
   "source": [
    "# Calculate the polarity for each piece of text\n",
    "\n",
    "polarity_transcript = []\n",
    "for lp in list_pieces:\n",
    "    polarity_piece = []\n",
    "    for p in lp:\n",
    "        polarity_piece.append(TextBlob(p).sentiment.polarity)\n",
    "    polarity_transcript.append(polarity_piece)\n",
    "    \n",
    "#polarity_transcript"
   ]
  },
  {
   "cell_type": "code",
   "execution_count": 437,
   "metadata": {},
   "outputs": [
    {
     "data": {
      "image/png": "[encoded data removed]",
      "text/plain": [
       "<Figure size 720x576 with 1 Axes>"
      ]
     },
     "metadata": {
      "needs_background": "light"
     },
     "output_type": "display_data"
    }
   ],
   "source": [
    "# Show the plot for one character\n",
    "plt.plot(polarity_transcript[0])\n",
    "plt.title(lines['Characters'].index[0])\n",
    "plt.show()"
   ]
  },
  {
   "cell_type": "code",
   "execution_count": 439,
   "metadata": {},
   "outputs": [
    {
     "data": {
      "image/png": "[encoded data removed]",
      "text/plain": [
       "<Figure size 1152x864 with 5 Axes>"
      ]
     },
     "metadata": {
      "needs_background": "light"
     },
     "output_type": "display_data"
    }
   ],
   "source": [
    "# Show the plot for all characters\n",
    "plt.rcParams['figure.figsize'] = [16, 12]\n",
    "plt.rcParams.update({'font.size': 10})\n",
    "for index, character in enumerate(lines.index):    \n",
    "    plt.subplot(3, 4, index+1)\n",
    "    plt.plot(polarity_transcript[index])\n",
    "    plt.plot(np.arange(0,10), np.zeros(10))\n",
    "    plt.title(lines['Characters'][index])\n",
    "    plt.ylim(bottom=-.2, top=.3)\n",
    "    \n",
    "plt.show()"
   ]
  },
  {
   "cell_type": "markdown",
   "metadata": {},
   "source": [
    "## Topic Modeling"
   ]
  },
  {
   "cell_type": "code",
   "execution_count": 440,
   "metadata": {},
   "outputs": [
    {
     "data": {
      "text/html": [
       "<div>\n",
       "<style scoped>\n",
       "    .dataframe tbody tr th:only-of-type {\n",
       "        vertical-align: middle;\n",
       "    }\n",
       "\n",
       "    .dataframe tbody tr th {\n",
       "        vertical-align: top;\n",
       "    }\n",
       "\n",
       "    .dataframe thead th {\n",
       "        text-align: right;\n",
       "    }\n",
       "</style>\n",
       "<table border=\"1\" class=\"dataframe\">\n",
       "  <thead>\n",
       "    <tr style=\"text-align: right;\">\n",
       "      <th></th>\n",
       "      <th>aandy</th>\n",
       "      <th>aaron</th>\n",
       "      <th>abandon</th>\n",
       "      <th>abandoned</th>\n",
       "      <th>abandoning</th>\n",
       "      <th>abbey</th>\n",
       "      <th>abbreviating</th>\n",
       "      <th>abby</th>\n",
       "      <th>abdomen</th>\n",
       "      <th>abducted</th>\n",
       "      <th>...</th>\n",
       "      <th>zombie</th>\n",
       "      <th>zombies</th>\n",
       "      <th>zone</th>\n",
       "      <th>zoning</th>\n",
       "      <th>zoo</th>\n",
       "      <th>zoom</th>\n",
       "      <th>zooms</th>\n",
       "      <th>zoppity</th>\n",
       "      <th>zoran</th>\n",
       "      <th>zuckerberg</th>\n",
       "    </tr>\n",
       "  </thead>\n",
       "  <tbody>\n",
       "    <tr>\n",
       "      <th>Andy</th>\n",
       "      <td>0</td>\n",
       "      <td>1</td>\n",
       "      <td>1</td>\n",
       "      <td>0</td>\n",
       "      <td>0</td>\n",
       "      <td>0</td>\n",
       "      <td>0</td>\n",
       "      <td>0</td>\n",
       "      <td>0</td>\n",
       "      <td>0</td>\n",
       "      <td>...</td>\n",
       "      <td>0</td>\n",
       "      <td>0</td>\n",
       "      <td>1</td>\n",
       "      <td>1</td>\n",
       "      <td>0</td>\n",
       "      <td>0</td>\n",
       "      <td>0</td>\n",
       "      <td>0</td>\n",
       "      <td>0</td>\n",
       "      <td>0</td>\n",
       "    </tr>\n",
       "    <tr>\n",
       "      <th>Dwight</th>\n",
       "      <td>0</td>\n",
       "      <td>0</td>\n",
       "      <td>2</td>\n",
       "      <td>0</td>\n",
       "      <td>1</td>\n",
       "      <td>0</td>\n",
       "      <td>1</td>\n",
       "      <td>1</td>\n",
       "      <td>1</td>\n",
       "      <td>0</td>\n",
       "      <td>...</td>\n",
       "      <td>3</td>\n",
       "      <td>1</td>\n",
       "      <td>3</td>\n",
       "      <td>1</td>\n",
       "      <td>3</td>\n",
       "      <td>0</td>\n",
       "      <td>0</td>\n",
       "      <td>0</td>\n",
       "      <td>1</td>\n",
       "      <td>1</td>\n",
       "    </tr>\n",
       "    <tr>\n",
       "      <th>Jim</th>\n",
       "      <td>1</td>\n",
       "      <td>0</td>\n",
       "      <td>0</td>\n",
       "      <td>0</td>\n",
       "      <td>1</td>\n",
       "      <td>1</td>\n",
       "      <td>0</td>\n",
       "      <td>2</td>\n",
       "      <td>0</td>\n",
       "      <td>0</td>\n",
       "      <td>...</td>\n",
       "      <td>2</td>\n",
       "      <td>1</td>\n",
       "      <td>1</td>\n",
       "      <td>0</td>\n",
       "      <td>0</td>\n",
       "      <td>0</td>\n",
       "      <td>0</td>\n",
       "      <td>0</td>\n",
       "      <td>0</td>\n",
       "      <td>0</td>\n",
       "    </tr>\n",
       "    <tr>\n",
       "      <th>Michael</th>\n",
       "      <td>0</td>\n",
       "      <td>1</td>\n",
       "      <td>0</td>\n",
       "      <td>2</td>\n",
       "      <td>0</td>\n",
       "      <td>0</td>\n",
       "      <td>0</td>\n",
       "      <td>0</td>\n",
       "      <td>0</td>\n",
       "      <td>2</td>\n",
       "      <td>...</td>\n",
       "      <td>0</td>\n",
       "      <td>1</td>\n",
       "      <td>11</td>\n",
       "      <td>1</td>\n",
       "      <td>1</td>\n",
       "      <td>5</td>\n",
       "      <td>1</td>\n",
       "      <td>2</td>\n",
       "      <td>0</td>\n",
       "      <td>0</td>\n",
       "    </tr>\n",
       "    <tr>\n",
       "      <th>Pam</th>\n",
       "      <td>0</td>\n",
       "      <td>0</td>\n",
       "      <td>1</td>\n",
       "      <td>1</td>\n",
       "      <td>0</td>\n",
       "      <td>1</td>\n",
       "      <td>0</td>\n",
       "      <td>2</td>\n",
       "      <td>0</td>\n",
       "      <td>0</td>\n",
       "      <td>...</td>\n",
       "      <td>0</td>\n",
       "      <td>0</td>\n",
       "      <td>0</td>\n",
       "      <td>0</td>\n",
       "      <td>0</td>\n",
       "      <td>0</td>\n",
       "      <td>0</td>\n",
       "      <td>0</td>\n",
       "      <td>0</td>\n",
       "      <td>0</td>\n",
       "    </tr>\n",
       "  </tbody>\n",
       "</table>\n",
       "<p>5 rows × 15474 columns</p>\n",
       "</div>"
      ],
      "text/plain": [
       "         aandy  aaron  abandon  abandoned  abandoning  abbey  abbreviating  \\\n",
       "Andy         0      1        1          0           0      0             0   \n",
       "Dwight       0      0        2          0           1      0             1   \n",
       "Jim          1      0        0          0           1      1             0   \n",
       "Michael      0      1        0          2           0      0             0   \n",
       "Pam          0      0        1          1           0      1             0   \n",
       "\n",
       "         abby  abdomen  abducted  ...  zombie  zombies  zone  zoning  zoo  \\\n",
       "Andy        0        0         0  ...       0        0     1       1    0   \n",
       "Dwight      1        1         0  ...       3        1     3       1    3   \n",
       "Jim         2        0         0  ...       2        1     1       0    0   \n",
       "Michael     0        0         2  ...       0        1    11       1    1   \n",
       "Pam         2        0         0  ...       0        0     0       0    0   \n",
       "\n",
       "         zoom  zooms  zoppity  zoran  zuckerberg  \n",
       "Andy        0      0        0      0           0  \n",
       "Dwight      0      0        0      1           1  \n",
       "Jim         0      0        0      0           0  \n",
       "Michael     5      1        2      0           0  \n",
       "Pam         0      0        0      0           0  \n",
       "\n",
       "[5 rows x 15474 columns]"
      ]
     },
     "execution_count": 440,
     "metadata": {},
     "output_type": "execute_result"
    }
   ],
   "source": [
    "# Let's read in our document-term matrix\n",
    "import pandas as pd\n",
    "import pickle\n",
    "\n",
    "data = pd.read_pickle('pickle/dtm_stop.pkl')\n",
    "data"
   ]
  },
  {
   "cell_type": "code",
   "execution_count": 441,
   "metadata": {},
   "outputs": [
    {
     "name": "stderr",
     "output_type": "stream",
     "text": [
      "unable to import 'smart_open.gcs', disabling that module\n"
     ]
    }
   ],
   "source": [
    "# Import the necessary modules for LDA with gensim\n",
    "# Terminal / Anaconda Navigator: conda install -c conda-forge gensim\n",
    "from gensim import matutils, models\n",
    "import scipy.sparse\n",
    "\n",
    "# import logging\n",
    "# logging.basicConfig(format='%(asctime)s : %(levelname)s : %(message)s', level=logging.INFO)"
   ]
  },
  {
   "cell_type": "code",
   "execution_count": 442,
   "metadata": {},
   "outputs": [
    {
     "data": {
      "text/html": [
       "<div>\n",
       "<style scoped>\n",
       "    .dataframe tbody tr th:only-of-type {\n",
       "        vertical-align: middle;\n",
       "    }\n",
       "\n",
       "    .dataframe tbody tr th {\n",
       "        vertical-align: top;\n",
       "    }\n",
       "\n",
       "    .dataframe thead th {\n",
       "        text-align: right;\n",
       "    }\n",
       "</style>\n",
       "<table border=\"1\" class=\"dataframe\">\n",
       "  <thead>\n",
       "    <tr style=\"text-align: right;\">\n",
       "      <th></th>\n",
       "      <th>Andy</th>\n",
       "      <th>Dwight</th>\n",
       "      <th>Jim</th>\n",
       "      <th>Michael</th>\n",
       "      <th>Pam</th>\n",
       "    </tr>\n",
       "  </thead>\n",
       "  <tbody>\n",
       "    <tr>\n",
       "      <th>aandy</th>\n",
       "      <td>0</td>\n",
       "      <td>0</td>\n",
       "      <td>1</td>\n",
       "      <td>0</td>\n",
       "      <td>0</td>\n",
       "    </tr>\n",
       "    <tr>\n",
       "      <th>aaron</th>\n",
       "      <td>1</td>\n",
       "      <td>0</td>\n",
       "      <td>0</td>\n",
       "      <td>1</td>\n",
       "      <td>0</td>\n",
       "    </tr>\n",
       "    <tr>\n",
       "      <th>abandon</th>\n",
       "      <td>1</td>\n",
       "      <td>2</td>\n",
       "      <td>0</td>\n",
       "      <td>0</td>\n",
       "      <td>1</td>\n",
       "    </tr>\n",
       "    <tr>\n",
       "      <th>abandoned</th>\n",
       "      <td>0</td>\n",
       "      <td>0</td>\n",
       "      <td>0</td>\n",
       "      <td>2</td>\n",
       "      <td>1</td>\n",
       "    </tr>\n",
       "    <tr>\n",
       "      <th>abandoning</th>\n",
       "      <td>0</td>\n",
       "      <td>1</td>\n",
       "      <td>1</td>\n",
       "      <td>0</td>\n",
       "      <td>0</td>\n",
       "    </tr>\n",
       "  </tbody>\n",
       "</table>\n",
       "</div>"
      ],
      "text/plain": [
       "            Andy  Dwight  Jim  Michael  Pam\n",
       "aandy          0       0    1        0    0\n",
       "aaron          1       0    0        1    0\n",
       "abandon        1       2    0        0    1\n",
       "abandoned      0       0    0        2    1\n",
       "abandoning     0       1    1        0    0"
      ]
     },
     "execution_count": 442,
     "metadata": {},
     "output_type": "execute_result"
    }
   ],
   "source": [
    "tdm = data.transpose()\n",
    "tdm.head()"
   ]
  },
  {
   "cell_type": "code",
   "execution_count": 443,
   "metadata": {},
   "outputs": [],
   "source": [
    "# We're going to put the term-document matrix into a new gensim format, from df --> sparse matrix --> gensim corpus\n",
    "sparse_counts = scipy.sparse.csr_matrix(tdm)\n",
    "corpus = matutils.Sparse2Corpus(sparse_counts)"
   ]
  },
  {
   "cell_type": "code",
   "execution_count": 444,
   "metadata": {},
   "outputs": [],
   "source": [
    "# Gensim also requires dictionary of the all terms and their respective location in the term-document matrix\n",
    "cv = pickle.load(open(\"pickle/cv_stop.pkl\", \"rb\"))\n",
    "id2word = dict((v, k) for k, v in cv.vocabulary_.items())"
   ]
  },
  {
   "cell_type": "markdown",
   "metadata": {},
   "source": [
    "Now that we have the corpus (term-document matrix) and id2word (dictionary of location: term), we need to specify two other parameters - the number of topics and the number of passes. Let's start the number of topics at 2, see if the results make sense, and increase the number from there."
   ]
  },
  {
   "cell_type": "code",
   "execution_count": 445,
   "metadata": {},
   "outputs": [
    {
     "data": {
      "text/plain": [
       "[(0,\n",
       "  '0.008*\"michael\" + 0.007*\"jim\" + 0.005*\"got\" + 0.005*\"come\" + 0.004*\"dwight\" + 0.004*\"need\" + 0.003*\"lets\" + 0.003*\"ill\" + 0.003*\"wait\" + 0.003*\"hes\"'),\n",
       " (1,\n",
       "  '0.007*\"dwight\" + 0.007*\"come\" + 0.006*\"michael\" + 0.006*\"um\" + 0.006*\"pam\" + 0.005*\"got\" + 0.005*\"say\" + 0.005*\"great\" + 0.005*\"people\" + 0.005*\"jim\"')]"
      ]
     },
     "execution_count": 445,
     "metadata": {},
     "output_type": "execute_result"
    }
   ],
   "source": [
    "# Now that we have the corpus (term-document matrix) and id2word (dictionary of location: term),\n",
    "# we need to specify two other parameters as well - the number of topics and the number of passes\n",
    "lda = models.LdaModel(corpus=corpus, id2word=id2word, num_topics=2, passes=10)\n",
    "lda.print_topics()"
   ]
  },
  {
   "cell_type": "code",
   "execution_count": 446,
   "metadata": {},
   "outputs": [
    {
     "data": {
      "text/plain": [
       "[(0,\n",
       "  '0.008*\"dwight\" + 0.007*\"come\" + 0.006*\"michael\" + 0.006*\"um\" + 0.006*\"pam\" + 0.005*\"great\" + 0.005*\"say\" + 0.005*\"people\" + 0.005*\"got\" + 0.005*\"jim\"'),\n",
       " (1,\n",
       "  '0.006*\"guys\" + 0.005*\"got\" + 0.004*\"mean\" + 0.004*\"need\" + 0.004*\"erin\" + 0.004*\"great\" + 0.003*\"say\" + 0.003*\"thank\" + 0.003*\"alright\" + 0.003*\"come\"'),\n",
       " (2,\n",
       "  '0.008*\"michael\" + 0.008*\"jim\" + 0.006*\"come\" + 0.006*\"got\" + 0.005*\"need\" + 0.004*\"say\" + 0.004*\"lets\" + 0.004*\"dwight\" + 0.004*\"hes\" + 0.004*\"ill\"')]"
      ]
     },
     "execution_count": 446,
     "metadata": {},
     "output_type": "execute_result"
    }
   ],
   "source": [
    "# LDA for num_topics = 3\n",
    "lda = models.LdaModel(corpus=corpus, id2word=id2word, num_topics=3, passes=10)\n",
    "lda.print_topics()"
   ]
  },
  {
   "cell_type": "code",
   "execution_count": 447,
   "metadata": {},
   "outputs": [
    {
     "data": {
      "text/plain": [
       "[(0,\n",
       "  '0.009*\"jim\" + 0.008*\"michael\" + 0.006*\"come\" + 0.006*\"got\" + 0.005*\"need\" + 0.004*\"say\" + 0.004*\"lets\" + 0.004*\"hes\" + 0.004*\"ill\" + 0.004*\"make\"'),\n",
       " (1,\n",
       "  '0.001*\"michael\" + 0.001*\"jim\" + 0.001*\"people\" + 0.001*\"say\" + 0.001*\"pam\" + 0.001*\"need\" + 0.001*\"great\" + 0.000*\"look\" + 0.000*\"dwight\" + 0.000*\"little\"'),\n",
       " (2,\n",
       "  '0.010*\"michael\" + 0.007*\"jim\" + 0.007*\"um\" + 0.006*\"dwight\" + 0.006*\"great\" + 0.006*\"got\" + 0.006*\"mean\" + 0.005*\"thank\" + 0.005*\"come\" + 0.005*\"guys\"'),\n",
       " (3,\n",
       "  '0.008*\"dwight\" + 0.007*\"come\" + 0.007*\"pam\" + 0.005*\"people\" + 0.005*\"say\" + 0.005*\"um\" + 0.005*\"got\" + 0.005*\"great\" + 0.005*\"lets\" + 0.005*\"need\"')]"
      ]
     },
     "execution_count": 447,
     "metadata": {},
     "output_type": "execute_result"
    }
   ],
   "source": [
    "# LDA for num_topics = 4\n",
    "lda = models.LdaModel(corpus=corpus, id2word=id2word, num_topics=4, passes=10)\n",
    "lda.print_topics()"
   ]
  },
  {
   "cell_type": "markdown",
   "metadata": {},
   "source": [
    "### Attempt 2\n",
    "These topics aren't looking too great. We've tried modifying our parameters. Let's try modifying our terms list as well."
   ]
  },
  {
   "cell_type": "code",
   "execution_count": 448,
   "metadata": {},
   "outputs": [],
   "source": [
    "# Let's create a function to pull out nouns from a string of text\n",
    "from nltk import word_tokenize, pos_tag\n",
    "\n",
    "def nouns(text):\n",
    "    '''Given a string of text, tokenize the text and pull out only the nouns.'''\n",
    "    is_noun = lambda pos: pos[:2] == 'NN'\n",
    "    tokenized = word_tokenize(text)\n",
    "    all_nouns = [word for (word, pos) in pos_tag(tokenized) if is_noun(pos)] \n",
    "    return ' '.join(all_nouns)"
   ]
  },
  {
   "cell_type": "code",
   "execution_count": 462,
   "metadata": {},
   "outputs": [
    {
     "data": {
      "text/html": [
       "<div>\n",
       "<style scoped>\n",
       "    .dataframe tbody tr th:only-of-type {\n",
       "        vertical-align: middle;\n",
       "    }\n",
       "\n",
       "    .dataframe tbody tr th {\n",
       "        vertical-align: top;\n",
       "    }\n",
       "\n",
       "    .dataframe thead th {\n",
       "        text-align: right;\n",
       "    }\n",
       "</style>\n",
       "<table border=\"1\" class=\"dataframe\">\n",
       "  <thead>\n",
       "    <tr style=\"text-align: right;\">\n",
       "      <th></th>\n",
       "      <th>lines</th>\n",
       "    </tr>\n",
       "  </thead>\n",
       "  <tbody>\n",
       "    <tr>\n",
       "      <th>Andy</th>\n",
       "      <td>robert  i said winners and losers  is that what youre talking about oh  that  it might  that might actually be what im thinking of  can you clarif...</td>\n",
       "    </tr>\n",
       "    <tr>\n",
       "      <th>Dwight</th>\n",
       "      <td>shall i play for you  pa rum pump um pum  i have no gifts for you  pa rum pump um pum whassup whassup what just clearing my desk  i cant concentr...</td>\n",
       "    </tr>\n",
       "    <tr>\n",
       "      <th>Jim</th>\n",
       "      <td>oh  i told you  i couldnt close it  so   actually  you called me in here  but yeah my job is to speak to clients on the phone about    uh  quantit...</td>\n",
       "    </tr>\n",
       "    <tr>\n",
       "      <th>Michael</th>\n",
       "      <td>all right jim  your quarterlies look very good  how are things at the library so youve come to the master for guidance  is this what youre saying ...</td>\n",
       "    </tr>\n",
       "    <tr>\n",
       "      <th>Pam</th>\n",
       "      <td>well  i dont know what uh  yeah  just a fax you havent told me uh  yeah  the one   you put in the garbage can that was a special filing cabinet i ...</td>\n",
       "    </tr>\n",
       "  </tbody>\n",
       "</table>\n",
       "</div>"
      ],
      "text/plain": [
       "                                                                                                                                                         lines\n",
       "Andy     robert  i said winners and losers  is that what youre talking about oh  that  it might  that might actually be what im thinking of  can you clarif...\n",
       "Dwight    shall i play for you  pa rum pump um pum  i have no gifts for you  pa rum pump um pum whassup whassup what just clearing my desk  i cant concentr...\n",
       "Jim      oh  i told you  i couldnt close it  so   actually  you called me in here  but yeah my job is to speak to clients on the phone about    uh  quantit...\n",
       "Michael  all right jim  your quarterlies look very good  how are things at the library so youve come to the master for guidance  is this what youre saying ...\n",
       "Pam      well  i dont know what uh  yeah  just a fax you havent told me uh  yeah  the one   you put in the garbage can that was a special filing cabinet i ..."
      ]
     },
     "execution_count": 462,
     "metadata": {},
     "output_type": "execute_result"
    }
   ],
   "source": [
    "# Read in the cleaned data, before the CountVectorizer step\n",
    "data_clean = pd.read_pickle('pickle/lines_clean.pkl')\n",
    "data_clean"
   ]
  },
  {
   "cell_type": "code",
   "execution_count": 463,
   "metadata": {},
   "outputs": [
    {
     "data": {
      "text/html": [
       "<div>\n",
       "<style scoped>\n",
       "    .dataframe tbody tr th:only-of-type {\n",
       "        vertical-align: middle;\n",
       "    }\n",
       "\n",
       "    .dataframe tbody tr th {\n",
       "        vertical-align: top;\n",
       "    }\n",
       "\n",
       "    .dataframe thead th {\n",
       "        text-align: right;\n",
       "    }\n",
       "</style>\n",
       "<table border=\"1\" class=\"dataframe\">\n",
       "  <thead>\n",
       "    <tr style=\"text-align: right;\">\n",
       "      <th></th>\n",
       "      <th>lines</th>\n",
       "    </tr>\n",
       "  </thead>\n",
       "  <tbody>\n",
       "    <tr>\n",
       "      <th>Andy</th>\n",
       "      <td>robert i winners losers youre oh thinking im i time talk things people information job manager pen list list hes grump sales numbers anyone office...</td>\n",
       "    </tr>\n",
       "    <tr>\n",
       "      <th>Dwight</th>\n",
       "      <td>play pump pum i gifts pump pum whassup desk i spilling edge word syllables demarcation safety violation i i problem i i interview i im manager i u...</td>\n",
       "    </tr>\n",
       "    <tr>\n",
       "      <th>Jim</th>\n",
       "      <td>oh i job clients phone quantities type paper whassup i years nothing care yes stop mr davis something minutes desk downsizing thing i information ...</td>\n",
       "    </tr>\n",
       "    <tr>\n",
       "      <th>Michael</th>\n",
       "      <td>jim quarterlies things library master guidance youre id office manager hello scott i manager dunder paper products manager manger deal thank sir y...</td>\n",
       "    </tr>\n",
       "    <tr>\n",
       "      <th>Pam</th>\n",
       "      <td>yeah fax garbage filing cabinet i question cat party sunday scott i thing i girls dream receptionist i illustrations oil pencil um jim dunder miff...</td>\n",
       "    </tr>\n",
       "  </tbody>\n",
       "</table>\n",
       "</div>"
      ],
      "text/plain": [
       "                                                                                                                                                         lines\n",
       "Andy     robert i winners losers youre oh thinking im i time talk things people information job manager pen list list hes grump sales numbers anyone office...\n",
       "Dwight   play pump pum i gifts pump pum whassup desk i spilling edge word syllables demarcation safety violation i i problem i i interview i im manager i u...\n",
       "Jim      oh i job clients phone quantities type paper whassup i years nothing care yes stop mr davis something minutes desk downsizing thing i information ...\n",
       "Michael  jim quarterlies things library master guidance youre id office manager hello scott i manager dunder paper products manager manger deal thank sir y...\n",
       "Pam      yeah fax garbage filing cabinet i question cat party sunday scott i thing i girls dream receptionist i illustrations oil pencil um jim dunder miff..."
      ]
     },
     "execution_count": 463,
     "metadata": {},
     "output_type": "execute_result"
    }
   ],
   "source": [
    "# Apply the nouns function to the transcripts to filter only on nouns\n",
    "data_nouns = pd.DataFrame(lines_clean.lines.apply(nouns))\n",
    "data_nouns"
   ]
  },
  {
   "cell_type": "code",
   "execution_count": 465,
   "metadata": {},
   "outputs": [
    {
     "data": {
      "text/html": [
       "<div>\n",
       "<style scoped>\n",
       "    .dataframe tbody tr th:only-of-type {\n",
       "        vertical-align: middle;\n",
       "    }\n",
       "\n",
       "    .dataframe tbody tr th {\n",
       "        vertical-align: top;\n",
       "    }\n",
       "\n",
       "    .dataframe thead th {\n",
       "        text-align: right;\n",
       "    }\n",
       "</style>\n",
       "<table border=\"1\" class=\"dataframe\">\n",
       "  <thead>\n",
       "    <tr style=\"text-align: right;\">\n",
       "      <th></th>\n",
       "      <th>aaron</th>\n",
       "      <th>abbey</th>\n",
       "      <th>abby</th>\n",
       "      <th>abilities</th>\n",
       "      <th>ability</th>\n",
       "      <th>abnormal</th>\n",
       "      <th>aboard</th>\n",
       "      <th>abode</th>\n",
       "      <th>abort</th>\n",
       "      <th>abouthe</th>\n",
       "      <th>...</th>\n",
       "      <th>zit</th>\n",
       "      <th>zits</th>\n",
       "      <th>zombie</th>\n",
       "      <th>zombies</th>\n",
       "      <th>zone</th>\n",
       "      <th>zoo</th>\n",
       "      <th>zoom</th>\n",
       "      <th>zooms</th>\n",
       "      <th>zoppity</th>\n",
       "      <th>zuckerberg</th>\n",
       "    </tr>\n",
       "  </thead>\n",
       "  <tbody>\n",
       "    <tr>\n",
       "      <th>Andy</th>\n",
       "      <td>1</td>\n",
       "      <td>0</td>\n",
       "      <td>0</td>\n",
       "      <td>0</td>\n",
       "      <td>0</td>\n",
       "      <td>0</td>\n",
       "      <td>0</td>\n",
       "      <td>0</td>\n",
       "      <td>0</td>\n",
       "      <td>0</td>\n",
       "      <td>...</td>\n",
       "      <td>0</td>\n",
       "      <td>0</td>\n",
       "      <td>0</td>\n",
       "      <td>0</td>\n",
       "      <td>1</td>\n",
       "      <td>0</td>\n",
       "      <td>0</td>\n",
       "      <td>0</td>\n",
       "      <td>0</td>\n",
       "      <td>0</td>\n",
       "    </tr>\n",
       "    <tr>\n",
       "      <th>Dwight</th>\n",
       "      <td>0</td>\n",
       "      <td>0</td>\n",
       "      <td>0</td>\n",
       "      <td>1</td>\n",
       "      <td>2</td>\n",
       "      <td>0</td>\n",
       "      <td>0</td>\n",
       "      <td>0</td>\n",
       "      <td>1</td>\n",
       "      <td>1</td>\n",
       "      <td>...</td>\n",
       "      <td>1</td>\n",
       "      <td>0</td>\n",
       "      <td>3</td>\n",
       "      <td>1</td>\n",
       "      <td>2</td>\n",
       "      <td>3</td>\n",
       "      <td>0</td>\n",
       "      <td>0</td>\n",
       "      <td>0</td>\n",
       "      <td>1</td>\n",
       "    </tr>\n",
       "    <tr>\n",
       "      <th>Jim</th>\n",
       "      <td>0</td>\n",
       "      <td>1</td>\n",
       "      <td>2</td>\n",
       "      <td>0</td>\n",
       "      <td>0</td>\n",
       "      <td>0</td>\n",
       "      <td>0</td>\n",
       "      <td>0</td>\n",
       "      <td>0</td>\n",
       "      <td>0</td>\n",
       "      <td>...</td>\n",
       "      <td>0</td>\n",
       "      <td>0</td>\n",
       "      <td>1</td>\n",
       "      <td>1</td>\n",
       "      <td>1</td>\n",
       "      <td>0</td>\n",
       "      <td>0</td>\n",
       "      <td>0</td>\n",
       "      <td>0</td>\n",
       "      <td>0</td>\n",
       "    </tr>\n",
       "    <tr>\n",
       "      <th>Michael</th>\n",
       "      <td>1</td>\n",
       "      <td>0</td>\n",
       "      <td>0</td>\n",
       "      <td>1</td>\n",
       "      <td>6</td>\n",
       "      <td>1</td>\n",
       "      <td>1</td>\n",
       "      <td>1</td>\n",
       "      <td>0</td>\n",
       "      <td>0</td>\n",
       "      <td>...</td>\n",
       "      <td>1</td>\n",
       "      <td>1</td>\n",
       "      <td>0</td>\n",
       "      <td>1</td>\n",
       "      <td>7</td>\n",
       "      <td>1</td>\n",
       "      <td>2</td>\n",
       "      <td>1</td>\n",
       "      <td>2</td>\n",
       "      <td>0</td>\n",
       "    </tr>\n",
       "    <tr>\n",
       "      <th>Pam</th>\n",
       "      <td>0</td>\n",
       "      <td>0</td>\n",
       "      <td>0</td>\n",
       "      <td>0</td>\n",
       "      <td>0</td>\n",
       "      <td>0</td>\n",
       "      <td>0</td>\n",
       "      <td>0</td>\n",
       "      <td>0</td>\n",
       "      <td>0</td>\n",
       "      <td>...</td>\n",
       "      <td>0</td>\n",
       "      <td>0</td>\n",
       "      <td>0</td>\n",
       "      <td>0</td>\n",
       "      <td>0</td>\n",
       "      <td>0</td>\n",
       "      <td>0</td>\n",
       "      <td>0</td>\n",
       "      <td>0</td>\n",
       "      <td>0</td>\n",
       "    </tr>\n",
       "  </tbody>\n",
       "</table>\n",
       "<p>5 rows × 9695 columns</p>\n",
       "</div>"
      ],
      "text/plain": [
       "         aaron  abbey  abby  abilities  ability  abnormal  aboard  abode  \\\n",
       "Andy         1      0     0          0        0         0       0      0   \n",
       "Dwight       0      0     0          1        2         0       0      0   \n",
       "Jim          0      1     2          0        0         0       0      0   \n",
       "Michael      1      0     0          1        6         1       1      1   \n",
       "Pam          0      0     0          0        0         0       0      0   \n",
       "\n",
       "         abort  abouthe  ...  zit  zits  zombie  zombies  zone  zoo  zoom  \\\n",
       "Andy         0        0  ...    0     0       0        0     1    0     0   \n",
       "Dwight       1        1  ...    1     0       3        1     2    3     0   \n",
       "Jim          0        0  ...    0     0       1        1     1    0     0   \n",
       "Michael      0        0  ...    1     1       0        1     7    1     2   \n",
       "Pam          0        0  ...    0     0       0        0     0    0     0   \n",
       "\n",
       "         zooms  zoppity  zuckerberg  \n",
       "Andy         0        0           0  \n",
       "Dwight       0        0           1  \n",
       "Jim          0        0           0  \n",
       "Michael      1        2           0  \n",
       "Pam          0        0           0  \n",
       "\n",
       "[5 rows x 9695 columns]"
      ]
     },
     "execution_count": 465,
     "metadata": {},
     "output_type": "execute_result"
    }
   ],
   "source": [
    "# Create a new document-term matrix using only nouns\n",
    "from sklearn.feature_extraction import text\n",
    "from sklearn.feature_extraction.text import CountVectorizer\n",
    "\n",
    "# Re-add the additional stop words since we are recreating the document-term matrix\n",
    "add_stop_words = ['like', 'im', 'know', 'just', 'dont', 'thats', 'right', 'people',\n",
    "                  'youre', 'got', 'gonna', 'time', 'think', 'yeah', 'said']\n",
    "stop_words = text.ENGLISH_STOP_WORDS.union(add_stop_words + newStopWords)\n",
    "\n",
    "# Recreate a document-term matrix with only nouns\n",
    "cvn = CountVectorizer(stop_words=stop_words)\n",
    "data_cvn = cvn.fit_transform(data_nouns.lines)\n",
    "data_dtmn = pd.DataFrame(data_cvn.toarray(), columns=cvn.get_feature_names())\n",
    "data_dtmn.index = data_nouns.index\n",
    "data_dtmn"
   ]
  },
  {
   "cell_type": "code",
   "execution_count": 466,
   "metadata": {},
   "outputs": [],
   "source": [
    "# Create the gensim corpus\n",
    "corpusn = matutils.Sparse2Corpus(scipy.sparse.csr_matrix(data_dtmn.transpose()))\n",
    "\n",
    "# Create the vocabulary dictionary\n",
    "id2wordn = dict((v, k) for k, v in cvn.vocabulary_.items())"
   ]
  },
  {
   "cell_type": "code",
   "execution_count": 467,
   "metadata": {},
   "outputs": [
    {
     "data": {
      "text/plain": [
       "[(0,\n",
       "  '0.010*\"jim\" + 0.008*\"michael\" + 0.006*\"hey\" + 0.006*\"way\" + 0.006*\"man\" + 0.005*\"thing\" + 0.005*\"office\" + 0.005*\"hes\" + 0.004*\"gon\" + 0.004*\"paper\"'),\n",
       " (1,\n",
       "  '0.012*\"hey\" + 0.008*\"day\" + 0.008*\"michael\" + 0.008*\"thing\" + 0.007*\"jim\" + 0.007*\"dwight\" + 0.007*\"pam\" + 0.007*\"way\" + 0.006*\"office\" + 0.006*\"man\"')]"
      ]
     },
     "execution_count": 467,
     "metadata": {},
     "output_type": "execute_result"
    }
   ],
   "source": [
    "# Let's start with 2 topics\n",
    "ldan = models.LdaModel(corpus=corpusn, num_topics=2, id2word=id2wordn, passes=10)\n",
    "ldan.print_topics()"
   ]
  },
  {
   "cell_type": "code",
   "execution_count": 468,
   "metadata": {},
   "outputs": [
    {
     "data": {
      "text/plain": [
       "[(0,\n",
       "  '0.009*\"hey\" + 0.008*\"jim\" + 0.007*\"man\" + 0.007*\"thing\" + 0.007*\"way\" + 0.007*\"pam\" + 0.007*\"day\" + 0.007*\"michael\" + 0.006*\"office\" + 0.006*\"lets\"'),\n",
       " (1,\n",
       "  '0.001*\"hey\" + 0.001*\"jim\" + 0.001*\"way\" + 0.001*\"man\" + 0.000*\"thing\" + 0.000*\"lets\" + 0.000*\"everybody\" + 0.000*\"office\" + 0.000*\"pam\" + 0.000*\"job\"'),\n",
       " (2,\n",
       "  '0.015*\"hey\" + 0.011*\"michael\" + 0.009*\"jim\" + 0.008*\"dwight\" + 0.008*\"day\" + 0.007*\"thing\" + 0.007*\"way\" + 0.006*\"hes\" + 0.006*\"gon\" + 0.006*\"god\"')]"
      ]
     },
     "execution_count": 468,
     "metadata": {},
     "output_type": "execute_result"
    }
   ],
   "source": [
    "# Let's try topics = 3\n",
    "ldan = models.LdaModel(corpus=corpusn, num_topics=3, id2word=id2wordn, passes=10)\n",
    "ldan.print_topics()"
   ]
  },
  {
   "cell_type": "code",
   "execution_count": 469,
   "metadata": {},
   "outputs": [
    {
     "data": {
      "text/plain": [
       "[(0,\n",
       "  '0.007*\"guys\" + 0.007*\"hey\" + 0.005*\"day\" + 0.005*\"thing\" + 0.004*\"way\" + 0.004*\"office\" + 0.004*\"gon\" + 0.004*\"erin\" + 0.004*\"man\" + 0.004*\"lot\"'),\n",
       " (1,\n",
       "  '0.016*\"michael\" + 0.014*\"hey\" + 0.014*\"jim\" + 0.008*\"hes\" + 0.007*\"god\" + 0.007*\"day\" + 0.006*\"way\" + 0.006*\"kind\" + 0.006*\"office\" + 0.006*\"dwight\"'),\n",
       " (2,\n",
       "  '0.011*\"michael\" + 0.010*\"hey\" + 0.009*\"jim\" + 0.008*\"man\" + 0.007*\"way\" + 0.007*\"thing\" + 0.007*\"pam\" + 0.006*\"gon\" + 0.006*\"day\" + 0.006*\"hes\"'),\n",
       " (3,\n",
       "  '0.010*\"hey\" + 0.008*\"day\" + 0.008*\"everybody\" + 0.008*\"thing\" + 0.007*\"pam\" + 0.007*\"way\" + 0.007*\"man\" + 0.007*\"office\" + 0.006*\"jim\" + 0.006*\"lets\"')]"
      ]
     },
     "execution_count": 469,
     "metadata": {},
     "output_type": "execute_result"
    }
   ],
   "source": [
    "# Let's try 4 topics\n",
    "ldan = models.LdaModel(corpus=corpusn, num_topics=4, id2word=id2wordn, passes=10)\n",
    "ldan.print_topics()"
   ]
  },
  {
   "cell_type": "markdown",
   "metadata": {},
   "source": [
    "### Attempt 3"
   ]
  },
  {
   "cell_type": "code",
   "execution_count": 470,
   "metadata": {},
   "outputs": [],
   "source": [
    "# Let's create a function to pull out nouns from a string of text\n",
    "def nouns_adj(text):\n",
    "    '''Given a string of text, tokenize the text and pull out only the nouns and adjectives.'''\n",
    "    is_noun_adj = lambda pos: pos[:2] == 'NN' or pos[:2] == 'JJ'\n",
    "    tokenized = word_tokenize(text)\n",
    "    nouns_adj = [word for (word, pos) in pos_tag(tokenized) if is_noun_adj(pos)] \n",
    "    return ' '.join(nouns_adj)"
   ]
  },
  {
   "cell_type": "code",
   "execution_count": 471,
   "metadata": {},
   "outputs": [
    {
     "data": {
      "text/html": [
       "<div>\n",
       "<style scoped>\n",
       "    .dataframe tbody tr th:only-of-type {\n",
       "        vertical-align: middle;\n",
       "    }\n",
       "\n",
       "    .dataframe tbody tr th {\n",
       "        vertical-align: top;\n",
       "    }\n",
       "\n",
       "    .dataframe thead th {\n",
       "        text-align: right;\n",
       "    }\n",
       "</style>\n",
       "<table border=\"1\" class=\"dataframe\">\n",
       "  <thead>\n",
       "    <tr style=\"text-align: right;\">\n",
       "      <th></th>\n",
       "      <th>lines</th>\n",
       "    </tr>\n",
       "  </thead>\n",
       "  <tbody>\n",
       "    <tr>\n",
       "      <th>Andy</th>\n",
       "      <td>robert i winners losers youre oh im thinking im i time i talk things worse people i faulty information job regional manager please pen list new li...</td>\n",
       "    </tr>\n",
       "    <tr>\n",
       "      <th>Dwight</th>\n",
       "      <td>play rum pump um pum i gifts rum pump um pum whassup desk i spilling edge word syllables demarcation safety violation i organ i problem i i interv...</td>\n",
       "    </tr>\n",
       "    <tr>\n",
       "      <th>Jim</th>\n",
       "      <td>oh i close job clients phone uh quantities type copier paper whassup i years nothing care yes stop ridiculous sure mr davis right something minute...</td>\n",
       "    </tr>\n",
       "    <tr>\n",
       "      <th>Michael</th>\n",
       "      <td>right jim quarterlies good things library master guidance youre grasshopper id office manager hello michael scott i regional manager dunder paper ...</td>\n",
       "    </tr>\n",
       "    <tr>\n",
       "      <th>Pam</th>\n",
       "      <td>i uh yeah fax uh garbage special filing cabinet i important question cat party sunday mr scott i worst thing i dont many little girls dream recept...</td>\n",
       "    </tr>\n",
       "  </tbody>\n",
       "</table>\n",
       "</div>"
      ],
      "text/plain": [
       "                                                                                                                                                         lines\n",
       "Andy     robert i winners losers youre oh im thinking im i time i talk things worse people i faulty information job regional manager please pen list new li...\n",
       "Dwight   play rum pump um pum i gifts rum pump um pum whassup desk i spilling edge word syllables demarcation safety violation i organ i problem i i interv...\n",
       "Jim      oh i close job clients phone uh quantities type copier paper whassup i years nothing care yes stop ridiculous sure mr davis right something minute...\n",
       "Michael  right jim quarterlies good things library master guidance youre grasshopper id office manager hello michael scott i regional manager dunder paper ...\n",
       "Pam      i uh yeah fax uh garbage special filing cabinet i important question cat party sunday mr scott i worst thing i dont many little girls dream recept..."
      ]
     },
     "execution_count": 471,
     "metadata": {},
     "output_type": "execute_result"
    }
   ],
   "source": [
    "# Apply the nouns function to the transcripts to filter only on nouns\n",
    "data_nouns_adj = pd.DataFrame(data_clean.lines.apply(nouns_adj))\n",
    "data_nouns_adj"
   ]
  },
  {
   "cell_type": "code",
   "execution_count": 472,
   "metadata": {},
   "outputs": [
    {
     "data": {
      "text/html": [
       "<div>\n",
       "<style scoped>\n",
       "    .dataframe tbody tr th:only-of-type {\n",
       "        vertical-align: middle;\n",
       "    }\n",
       "\n",
       "    .dataframe tbody tr th {\n",
       "        vertical-align: top;\n",
       "    }\n",
       "\n",
       "    .dataframe thead th {\n",
       "        text-align: right;\n",
       "    }\n",
       "</style>\n",
       "<table border=\"1\" class=\"dataframe\">\n",
       "  <thead>\n",
       "    <tr style=\"text-align: right;\">\n",
       "      <th></th>\n",
       "      <th>aaron</th>\n",
       "      <th>abbey</th>\n",
       "      <th>abby</th>\n",
       "      <th>abdomen</th>\n",
       "      <th>abercrombie</th>\n",
       "      <th>abilities</th>\n",
       "      <th>ability</th>\n",
       "      <th>abnormal</th>\n",
       "      <th>aboard</th>\n",
       "      <th>abode</th>\n",
       "      <th>...</th>\n",
       "      <th>zit</th>\n",
       "      <th>zits</th>\n",
       "      <th>zombie</th>\n",
       "      <th>zombies</th>\n",
       "      <th>zone</th>\n",
       "      <th>zoo</th>\n",
       "      <th>zoom</th>\n",
       "      <th>zooms</th>\n",
       "      <th>zoppity</th>\n",
       "      <th>zuckerberg</th>\n",
       "    </tr>\n",
       "  </thead>\n",
       "  <tbody>\n",
       "    <tr>\n",
       "      <th>Andy</th>\n",
       "      <td>1</td>\n",
       "      <td>0</td>\n",
       "      <td>0</td>\n",
       "      <td>0</td>\n",
       "      <td>0</td>\n",
       "      <td>0</td>\n",
       "      <td>0</td>\n",
       "      <td>0</td>\n",
       "      <td>0</td>\n",
       "      <td>0</td>\n",
       "      <td>...</td>\n",
       "      <td>0</td>\n",
       "      <td>0</td>\n",
       "      <td>0</td>\n",
       "      <td>0</td>\n",
       "      <td>1</td>\n",
       "      <td>0</td>\n",
       "      <td>0</td>\n",
       "      <td>0</td>\n",
       "      <td>0</td>\n",
       "      <td>0</td>\n",
       "    </tr>\n",
       "    <tr>\n",
       "      <th>Dwight</th>\n",
       "      <td>0</td>\n",
       "      <td>0</td>\n",
       "      <td>0</td>\n",
       "      <td>1</td>\n",
       "      <td>0</td>\n",
       "      <td>1</td>\n",
       "      <td>2</td>\n",
       "      <td>0</td>\n",
       "      <td>0</td>\n",
       "      <td>0</td>\n",
       "      <td>...</td>\n",
       "      <td>1</td>\n",
       "      <td>0</td>\n",
       "      <td>3</td>\n",
       "      <td>1</td>\n",
       "      <td>2</td>\n",
       "      <td>3</td>\n",
       "      <td>0</td>\n",
       "      <td>0</td>\n",
       "      <td>0</td>\n",
       "      <td>1</td>\n",
       "    </tr>\n",
       "    <tr>\n",
       "      <th>Jim</th>\n",
       "      <td>0</td>\n",
       "      <td>1</td>\n",
       "      <td>2</td>\n",
       "      <td>0</td>\n",
       "      <td>0</td>\n",
       "      <td>0</td>\n",
       "      <td>0</td>\n",
       "      <td>0</td>\n",
       "      <td>0</td>\n",
       "      <td>0</td>\n",
       "      <td>...</td>\n",
       "      <td>0</td>\n",
       "      <td>0</td>\n",
       "      <td>2</td>\n",
       "      <td>1</td>\n",
       "      <td>1</td>\n",
       "      <td>0</td>\n",
       "      <td>0</td>\n",
       "      <td>0</td>\n",
       "      <td>0</td>\n",
       "      <td>0</td>\n",
       "    </tr>\n",
       "    <tr>\n",
       "      <th>Michael</th>\n",
       "      <td>1</td>\n",
       "      <td>0</td>\n",
       "      <td>0</td>\n",
       "      <td>0</td>\n",
       "      <td>0</td>\n",
       "      <td>1</td>\n",
       "      <td>6</td>\n",
       "      <td>2</td>\n",
       "      <td>1</td>\n",
       "      <td>1</td>\n",
       "      <td>...</td>\n",
       "      <td>1</td>\n",
       "      <td>1</td>\n",
       "      <td>0</td>\n",
       "      <td>1</td>\n",
       "      <td>7</td>\n",
       "      <td>1</td>\n",
       "      <td>2</td>\n",
       "      <td>1</td>\n",
       "      <td>2</td>\n",
       "      <td>0</td>\n",
       "    </tr>\n",
       "    <tr>\n",
       "      <th>Pam</th>\n",
       "      <td>0</td>\n",
       "      <td>0</td>\n",
       "      <td>0</td>\n",
       "      <td>0</td>\n",
       "      <td>1</td>\n",
       "      <td>0</td>\n",
       "      <td>0</td>\n",
       "      <td>0</td>\n",
       "      <td>0</td>\n",
       "      <td>0</td>\n",
       "      <td>...</td>\n",
       "      <td>0</td>\n",
       "      <td>0</td>\n",
       "      <td>0</td>\n",
       "      <td>0</td>\n",
       "      <td>0</td>\n",
       "      <td>0</td>\n",
       "      <td>0</td>\n",
       "      <td>0</td>\n",
       "      <td>0</td>\n",
       "      <td>0</td>\n",
       "    </tr>\n",
       "  </tbody>\n",
       "</table>\n",
       "<p>5 rows × 11281 columns</p>\n",
       "</div>"
      ],
      "text/plain": [
       "         aaron  abbey  abby  abdomen  abercrombie  abilities  ability  \\\n",
       "Andy         1      0     0        0            0          0        0   \n",
       "Dwight       0      0     0        1            0          1        2   \n",
       "Jim          0      1     2        0            0          0        0   \n",
       "Michael      1      0     0        0            0          1        6   \n",
       "Pam          0      0     0        0            1          0        0   \n",
       "\n",
       "         abnormal  aboard  abode  ...  zit  zits  zombie  zombies  zone  zoo  \\\n",
       "Andy            0       0      0  ...    0     0       0        0     1    0   \n",
       "Dwight          0       0      0  ...    1     0       3        1     2    3   \n",
       "Jim             0       0      0  ...    0     0       2        1     1    0   \n",
       "Michael         2       1      1  ...    1     1       0        1     7    1   \n",
       "Pam             0       0      0  ...    0     0       0        0     0    0   \n",
       "\n",
       "         zoom  zooms  zoppity  zuckerberg  \n",
       "Andy        0      0        0           0  \n",
       "Dwight      0      0        0           1  \n",
       "Jim         0      0        0           0  \n",
       "Michael     2      1        2           0  \n",
       "Pam         0      0        0           0  \n",
       "\n",
       "[5 rows x 11281 columns]"
      ]
     },
     "execution_count": 472,
     "metadata": {},
     "output_type": "execute_result"
    }
   ],
   "source": [
    "# Create a new document-term matrix using only nouns and adjectives, also remove common words with max_df\n",
    "cvna = CountVectorizer(stop_words=stop_words, max_df=.8)\n",
    "data_cvna = cvna.fit_transform(data_nouns_adj.lines)\n",
    "data_dtmna = pd.DataFrame(data_cvna.toarray(), columns=cvna.get_feature_names())\n",
    "data_dtmna.index = data_nouns_adj.index\n",
    "data_dtmna"
   ]
  },
  {
   "cell_type": "code",
   "execution_count": 474,
   "metadata": {},
   "outputs": [],
   "source": [
    "# Create the gensim corpus\n",
    "corpusna = matutils.Sparse2Corpus(scipy.sparse.csr_matrix(data_dtmna.transpose()))\n",
    "\n",
    "# Create the vocabulary dictionary\n",
    "id2wordna = dict((v, k) for k, v in cvna.vocabulary_.items())"
   ]
  },
  {
   "cell_type": "code",
   "execution_count": 475,
   "metadata": {},
   "outputs": [
    {
     "data": {
      "text/plain": [
       "[(0,\n",
       "  '0.003*\"scott\" + 0.002*\"black\" + 0.002*\"boom\" + 0.002*\"clients\" + 0.002*\"york\" + 0.002*\"date\" + 0.001*\"packer\" + 0.001*\"blah\" + 0.001*\"smart\" + 0.001*\"busy\"'),\n",
       " (1,\n",
       "  '0.003*\"wedding\" + 0.003*\"roy\" + 0.002*\"date\" + 0.002*\"hospital\" + 0.002*\"art\" + 0.002*\"york\" + 0.001*\"scott\" + 0.001*\"building\" + 0.001*\"karen\" + 0.001*\"prank\"')]"
      ]
     },
     "execution_count": 475,
     "metadata": {},
     "output_type": "execute_result"
    }
   ],
   "source": [
    "# Let's start with 2 topics\n",
    "ldana = models.LdaModel(corpus=corpusna, num_topics=2, id2word=id2wordna, passes=10)\n",
    "ldana.print_topics()"
   ]
  },
  {
   "cell_type": "code",
   "execution_count": 476,
   "metadata": {},
   "outputs": [
    {
     "data": {
      "text/plain": [
       "[(0,\n",
       "  '0.002*\"wedding\" + 0.002*\"date\" + 0.002*\"black\" + 0.002*\"roy\" + 0.002*\"building\" + 0.002*\"mose\" + 0.002*\"hospital\" + 0.002*\"scott\" + 0.001*\"jims\" + 0.001*\"clients\"'),\n",
       " (1,\n",
       "  '0.004*\"scott\" + 0.002*\"york\" + 0.002*\"packer\" + 0.002*\"blah\" + 0.002*\"clients\" + 0.002*\"black\" + 0.001*\"date\" + 0.001*\"fat\" + 0.001*\"smart\" + 0.001*\"boom\"'),\n",
       " (2,\n",
       "  '0.000*\"scott\" + 0.000*\"black\" + 0.000*\"date\" + 0.000*\"wedding\" + 0.000*\"hospital\" + 0.000*\"york\" + 0.000*\"clients\" + 0.000*\"busy\" + 0.000*\"smart\" + 0.000*\"roy\"')]"
      ]
     },
     "execution_count": 476,
     "metadata": {},
     "output_type": "execute_result"
    }
   ],
   "source": [
    "# Let's try 3 topics\n",
    "ldana = models.LdaModel(corpus=corpusna, num_topics=3, id2word=id2wordna, passes=10)\n",
    "ldana.print_topics()"
   ]
  },
  {
   "cell_type": "code",
   "execution_count": 477,
   "metadata": {},
   "outputs": [
    {
     "data": {
      "text/plain": [
       "[(0,\n",
       "  '0.005*\"scott\" + 0.003*\"york\" + 0.002*\"packer\" + 0.002*\"black\" + 0.002*\"clients\" + 0.002*\"blah\" + 0.002*\"date\" + 0.002*\"smart\" + 0.002*\"boom\" + 0.002*\"fat\"'),\n",
       " (1,\n",
       "  '0.000*\"scott\" + 0.000*\"wedding\" + 0.000*\"black\" + 0.000*\"york\" + 0.000*\"clients\" + 0.000*\"date\" + 0.000*\"roy\" + 0.000*\"hospital\" + 0.000*\"building\" + 0.000*\"boom\"'),\n",
       " (2,\n",
       "  '0.000*\"scott\" + 0.000*\"black\" + 0.000*\"date\" + 0.000*\"clients\" + 0.000*\"boom\" + 0.000*\"york\" + 0.000*\"smart\" + 0.000*\"hospital\" + 0.000*\"wedding\" + 0.000*\"roy\"'),\n",
       " (3,\n",
       "  '0.002*\"wedding\" + 0.002*\"date\" + 0.002*\"black\" + 0.002*\"roy\" + 0.002*\"building\" + 0.002*\"hospital\" + 0.002*\"mose\" + 0.001*\"jims\" + 0.001*\"scott\" + 0.001*\"clients\"')]"
      ]
     },
     "execution_count": 477,
     "metadata": {},
     "output_type": "execute_result"
    }
   ],
   "source": [
    "# Let's try 4 topics\n",
    "ldana = models.LdaModel(corpus=corpusna, num_topics=4, id2word=id2wordna, passes=10)\n",
    "ldana.print_topics()"
   ]
  },
  {
   "cell_type": "markdown",
   "metadata": {},
   "source": [
    "## Identify Topics in Each Document\n",
    "Out of the 9 topic models we looked at, the nouns and adjectives, 4 topic one made the most sense. So let's pull that down here and run it through some more iterations to get more fine-tuned topics."
   ]
  },
  {
   "cell_type": "code",
   "execution_count": 478,
   "metadata": {},
   "outputs": [
    {
     "data": {
      "text/plain": [
       "[(0,\n",
       "  '0.004*\"wedding\" + 0.003*\"roy\" + 0.002*\"jims\" + 0.002*\"art\" + 0.002*\"mural\" + 0.002*\"date\" + 0.002*\"chair\" + 0.002*\"building\" + 0.002*\"tuna\" + 0.001*\"da\"'),\n",
       " (1,\n",
       "  '0.002*\"black\" + 0.002*\"mose\" + 0.002*\"date\" + 0.002*\"clients\" + 0.002*\"power\" + 0.001*\"building\" + 0.001*\"boom\" + 0.001*\"decision\" + 0.001*\"smart\" + 0.001*\"hospital\"'),\n",
       " (2,\n",
       "  '0.000*\"scott\" + 0.000*\"date\" + 0.000*\"hospital\" + 0.000*\"wedding\" + 0.000*\"building\" + 0.000*\"york\" + 0.000*\"clients\" + 0.000*\"busy\" + 0.000*\"roy\" + 0.000*\"black\"'),\n",
       " (3,\n",
       "  '0.005*\"scott\" + 0.003*\"york\" + 0.002*\"packer\" + 0.002*\"black\" + 0.002*\"clients\" + 0.002*\"blah\" + 0.002*\"date\" + 0.002*\"smart\" + 0.002*\"boom\" + 0.002*\"fat\"')]"
      ]
     },
     "execution_count": 478,
     "metadata": {},
     "output_type": "execute_result"
    }
   ],
   "source": [
    "# Our final LDA model (for now)\n",
    "ldana = models.LdaModel(corpus=corpusna, num_topics=4, id2word=id2wordna, passes=60)\n",
    "ldana.print_topics()"
   ]
  },
  {
   "cell_type": "markdown",
   "metadata": {},
   "source": [
    "These topics look shit... We need to try and get some better ones."
   ]
  },
  {
   "cell_type": "code",
   "execution_count": 479,
   "metadata": {},
   "outputs": [
    {
     "data": {
      "text/plain": [
       "[(0, 'Andy'), (1, 'Dwight'), (1, 'Jim'), (3, 'Michael'), (0, 'Pam')]"
      ]
     },
     "execution_count": 479,
     "metadata": {},
     "output_type": "execute_result"
    }
   ],
   "source": [
    "# Let's take a look at which topics each transcript contains\n",
    "corpus_transformed = ldana[corpusna]\n",
    "list(zip([a for [(a,b)] in corpus_transformed], data_dtmna.index))"
   ]
  },
  {
   "cell_type": "markdown",
   "metadata": {},
   "source": [
    "# Text Generation\n",
    "## Select Text to Imitate\n",
    "In this notebook, we're specifically going to generate text in the style of Dwight Schrute, so as a first step, let's extract the text from his lines."
   ]
  },
  {
   "cell_type": "code",
   "execution_count": 481,
   "metadata": {},
   "outputs": [
    {
     "data": {
      "text/html": [
       "<div>\n",
       "<style scoped>\n",
       "    .dataframe tbody tr th:only-of-type {\n",
       "        vertical-align: middle;\n",
       "    }\n",
       "\n",
       "    .dataframe tbody tr th {\n",
       "        vertical-align: top;\n",
       "    }\n",
       "\n",
       "    .dataframe thead th {\n",
       "        text-align: right;\n",
       "    }\n",
       "</style>\n",
       "<table border=\"1\" class=\"dataframe\">\n",
       "  <thead>\n",
       "    <tr style=\"text-align: right;\">\n",
       "      <th></th>\n",
       "      <th>lines</th>\n",
       "    </tr>\n",
       "  </thead>\n",
       "  <tbody>\n",
       "    <tr>\n",
       "      <th>Andy</th>\n",
       "      <td>Robert. I said winners and losers. Is that what youre talking about?Oh, that, it might- That might actually be what Im thinking of. Can you clarif...</td>\n",
       "    </tr>\n",
       "    <tr>\n",
       "      <th>Dwight</th>\n",
       "      <td>Shall I play for you? Pa rum pump um pum  I have no gifts for you. Pa rum pump um pum Whassup!Whassup.What?Just clearing my desk. I can't concent...</td>\n",
       "    </tr>\n",
       "    <tr>\n",
       "      <th>Jim</th>\n",
       "      <td>Oh, I told you. I couldn't close it. So...Actually, you called me in here, but yeah.My job is to speak to clients on the phone about... uh, quanti...</td>\n",
       "    </tr>\n",
       "    <tr>\n",
       "      <th>Michael</th>\n",
       "      <td>All right Jim. Your quarterlies look very good. How are things at the library?So you've come to the master for guidance? Is this what you're sayin...</td>\n",
       "    </tr>\n",
       "    <tr>\n",
       "      <th>Pam</th>\n",
       "      <td>Well. I don't know.What?Uh, yeah. Just a fax.You haven't told me.Uh, yeah, the one...You put in the garbage can that was a special filing cabinet....</td>\n",
       "    </tr>\n",
       "  </tbody>\n",
       "</table>\n",
       "</div>"
      ],
      "text/plain": [
       "                                                                                                                                                         lines\n",
       "Andy     Robert. I said winners and losers. Is that what youre talking about?Oh, that, it might- That might actually be what Im thinking of. Can you clarif...\n",
       "Dwight    Shall I play for you? Pa rum pump um pum  I have no gifts for you. Pa rum pump um pum Whassup!Whassup.What?Just clearing my desk. I can't concent...\n",
       "Jim      Oh, I told you. I couldn't close it. So...Actually, you called me in here, but yeah.My job is to speak to clients on the phone about... uh, quanti...\n",
       "Michael  All right Jim. Your quarterlies look very good. How are things at the library?So you've come to the master for guidance? Is this what you're sayin...\n",
       "Pam      Well. I don't know.What?Uh, yeah. Just a fax.You haven't told me.Uh, yeah, the one...You put in the garbage can that was a special filing cabinet...."
      ]
     },
     "execution_count": 481,
     "metadata": {},
     "output_type": "execute_result"
    }
   ],
   "source": [
    "# Read in the corpus, including punctuation!\n",
    "import pandas as pd\n",
    "\n",
    "data = pd.read_pickle('pickle/lines_corpus.pkl')\n",
    "data"
   ]
  },
  {
   "cell_type": "code",
   "execution_count": 487,
   "metadata": {},
   "outputs": [],
   "source": [
    "pam_text = data.lines.loc['Pam']\n",
    "dwight_text = data.lines.loc['Dwight']"
   ]
  },
  {
   "cell_type": "markdown",
   "metadata": {},
   "source": [
    "## Build a Markov Chain Function\n",
    "We are going to build a simple Markov chain function that creates a dictionary:\n",
    "\n",
    "The keys should be all of the words in the corpus\n",
    "The values should be a list of the words that follow the keys\n"
   ]
  },
  {
   "cell_type": "code",
   "execution_count": 488,
   "metadata": {},
   "outputs": [],
   "source": [
    "from collections import defaultdict\n",
    "\n",
    "def markov_chain(text):\n",
    "    '''The input is a string of text and the output will be a dictionary with each word as\n",
    "       a key and each value as the list of words that come after the key in the text.'''\n",
    "    \n",
    "    # Tokenize the text by word, though including punctuation\n",
    "    words = text.split(' ')\n",
    "    \n",
    "    # Initialize a default dictionary to hold all of the words and next words\n",
    "    m_dict = defaultdict(list)\n",
    "    \n",
    "    # Create a zipped list of all of the word pairs and put them in word: list of next words format\n",
    "    for current_word, next_word in zip(words[0:-1], words[1:]):\n",
    "        m_dict[current_word].append(next_word)\n",
    "\n",
    "    # Convert the default dict back into a dictionary\n",
    "    m_dict = dict(m_dict)\n",
    "    return m_dict"
   ]
  },
  {
   "cell_type": "code",
   "execution_count": 490,
   "metadata": {},
   "outputs": [],
   "source": [
    "# Create the dictionary for Dwight's and Pam's lines\n",
    "dwight_dict = markov_chain(dwight_text)\n",
    "pam_dict = markov_chain(pam_text)"
   ]
  },
  {
   "cell_type": "markdown",
   "metadata": {},
   "source": [
    "## Create a Text Generator\n",
    "We're going to create a function that generates sentences. It will take two things as inputs:\n",
    "* The dictionary we just created\n",
    "* The number of words we want generated\n"
   ]
  },
  {
   "cell_type": "code",
   "execution_count": 491,
   "metadata": {},
   "outputs": [],
   "source": [
    "import random\n",
    "\n",
    "def generate_sentence(chain, count=10):\n",
    "    '''Input a dictionary in the format of key = current word, value = list of next words\n",
    "       along with the number of words you would like to see in your generated sentence.'''\n",
    "\n",
    "    # Capitalize the first word\n",
    "    word1 = random.choice(list(chain.keys()))\n",
    "    sentence = word1.capitalize()\n",
    "\n",
    "    # Generate the second word from the value list. Set the new word as the first word. Repeat.\n",
    "    for i in range(count-1):\n",
    "        word2 = random.choice(chain[word1])\n",
    "        word1 = word2\n",
    "        sentence += ' ' + word2\n",
    "\n",
    "    # End it with a period\n",
    "    sentence += '.'\n",
    "    return(sentence)"
   ]
  },
  {
   "cell_type": "code",
   "execution_count": 497,
   "metadata": {},
   "outputs": [
    {
     "data": {
      "text/plain": [
       "\"Outside to sow my lips aren't qualified to you have.\""
      ]
     },
     "execution_count": 497,
     "metadata": {},
     "output_type": "execute_result"
    }
   ],
   "source": [
    "generate_sentence(dwight_dict)"
   ]
  },
  {
   "cell_type": "markdown",
   "metadata": {},
   "source": [
    "###### Here are some of Dwight's generated sentences:\n",
    "\n",
    "> 'Singing audition.I put it with some gluhwein, enjoy laughing at?Are you tell you, so doing.'\n",
    "\n",
    "> 'Seriously? Oh, wow, Pam was not here, come in tune with Esther now. There are.'\n",
    "\n",
    "> 'Michael! really funny, Jim! Yes. I don't care, Pam? 'Cause Ryan to enter here! To intimidate my heart. OK.'\n",
    "\n",
    "> 'Hmmm?  You live here at a practitioner of experiencing the roast skunk. Angela? Would you.'\n",
    "\n",
    "> 'Motivated by Weyer-Hammer Paper Incorporated. Awards, multiple Dundies. She had your office? That guy is over! Now.'\n",
    "\n",
    "> 'And... boom.  Groin punch, hip bone! Don't.'\n",
    "\n",
    "> 'Halpert!stop forgetting things.MR. JAMES HALPERT!Stop forgetting.'"
   ]
  },
  {
   "cell_type": "code",
   "execution_count": 498,
   "metadata": {},
   "outputs": [
    {
     "data": {
      "text/plain": [
       "'Fast in an Office Administrator thing, besides not interested at.'"
      ]
     },
     "execution_count": 498,
     "metadata": {},
     "output_type": "execute_result"
    }
   ],
   "source": [
    "generate_sentence(pam_dict)"
   ]
  },
  {
   "cell_type": "markdown",
   "metadata": {},
   "source": [
    "###### Here are some of Pam's generated lines\n",
    "\n",
    "> 'Rule about him-- or Philadelphia.Okay.Thanks.Hi, nice meal with Ryan?Michael, you have a great time.'\n",
    "\n",
    "> 'Dollars.you know, when they put your phone call, he is.Is it on---...noooo It's actually fire.'\n",
    "\n",
    "> 'Terrified of his early attempts at you, but that would.'\n",
    "\n",
    "> 'Cici has feelings too, and stuff. And on top of that.'\n",
    "\n",
    "> 'Fast in an Office Administrator thing, besides not interested at.'"
   ]
  },
  {
   "cell_type": "code",
   "execution_count": null,
   "metadata": {},
   "outputs": [],
   "source": []
  }
 ],
 "metadata": {
  "kernelspec": {
   "display_name": "Python 3",
   "language": "python",
   "name": "python3"
  },
  "language_info": {
   "codemirror_mode": {
    "name": "ipython",
    "version": 3
   },
   "file_extension": ".py",
   "mimetype": "text/x-python",
   "name": "python",
   "nbconvert_exporter": "python",
   "pygments_lexer": "ipython3",
   "version": "3.7.6"
  }
 },
 "nbformat": 4,
 "nbformat_minor": 2
}
