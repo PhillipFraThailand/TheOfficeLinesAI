{
 "cells": [
  {
   "cell_type": "markdown",
   "metadata": {},
   "source": [
    "# The Office Text Generator"
   ]
  },
  {
   "cell_type": "markdown",
   "metadata": {},
   "source": [
    "## Introduction\n",
    "This notebook is for a school project on software development at KEA - Copenhagen school of design nd tecnology."
   ]
  },
  {
   "cell_type": "markdown",
   "metadata": {},
   "source": [
    "### Data Preparation\n"
   ]
  },
  {
   "cell_type": "code",
   "execution_count": 1,
   "metadata": {},
   "outputs": [],
   "source": [
    "import pandas as pd\n",
    "import os\n",
    "import re"
   ]
  },
  {
   "cell_type": "code",
   "execution_count": 2,
   "metadata": {},
   "outputs": [
    {
     "data": {
      "text/html": [
       "<div>\n",
       "<style scoped>\n",
       "    .dataframe tbody tr th:only-of-type {\n",
       "        vertical-align: middle;\n",
       "    }\n",
       "\n",
       "    .dataframe tbody tr th {\n",
       "        vertical-align: top;\n",
       "    }\n",
       "\n",
       "    .dataframe thead th {\n",
       "        text-align: right;\n",
       "    }\n",
       "</style>\n",
       "<table border=\"1\" class=\"dataframe\">\n",
       "  <thead>\n",
       "    <tr style=\"text-align: right;\">\n",
       "      <th></th>\n",
       "      <th>speaker</th>\n",
       "      <th>line_text</th>\n",
       "    </tr>\n",
       "  </thead>\n",
       "  <tbody>\n",
       "    <tr>\n",
       "      <th>0</th>\n",
       "      <td>Michael</td>\n",
       "      <td>All right Jim. Your quarterlies look very good...</td>\n",
       "    </tr>\n",
       "    <tr>\n",
       "      <th>1</th>\n",
       "      <td>Jim</td>\n",
       "      <td>Oh, I told you. I couldn't close it. So...</td>\n",
       "    </tr>\n",
       "    <tr>\n",
       "      <th>2</th>\n",
       "      <td>Michael</td>\n",
       "      <td>So you've come to the master for guidance? Is ...</td>\n",
       "    </tr>\n",
       "    <tr>\n",
       "      <th>3</th>\n",
       "      <td>Jim</td>\n",
       "      <td>Actually, you called me in here, but yeah.</td>\n",
       "    </tr>\n",
       "    <tr>\n",
       "      <th>4</th>\n",
       "      <td>Michael</td>\n",
       "      <td>All right. Well, let me show you how it's done.</td>\n",
       "    </tr>\n",
       "  </tbody>\n",
       "</table>\n",
       "</div>"
      ],
      "text/plain": [
       "   speaker                                          line_text\n",
       "0  Michael  All right Jim. Your quarterlies look very good...\n",
       "1      Jim         Oh, I told you. I couldn't close it. So...\n",
       "2  Michael  So you've come to the master for guidance? Is ...\n",
       "3      Jim         Actually, you called me in here, but yeah.\n",
       "4  Michael    All right. Well, let me show you how it's done."
      ]
     },
     "execution_count": 2,
     "metadata": {},
     "output_type": "execute_result"
    }
   ],
   "source": [
    "directory = os.getcwd()\n",
    "data = pd.read_excel(directory + '/the-office-lines.xlsx')\n",
    "df =  pd.DataFrame(data, columns=['speaker', 'line_text'])\n",
    "\n",
    "df.head()"
   ]
  },
  {
   "cell_type": "code",
   "execution_count": 3,
   "metadata": {},
   "outputs": [],
   "source": [
    "mkdir Transcripts"
   ]
  },
  {
   "cell_type": "code",
   "execution_count": 4,
   "metadata": {},
   "outputs": [
    {
     "name": "stdout",
     "output_type": "stream",
     "text": [
      "Transcripts extracted from excel file\n"
     ]
    }
   ],
   "source": [
    "characters = ['Andy', 'Dwight', 'Jim', 'Michael', 'Pam']\n",
    "\n",
    "for index, row in df.iterrows():\n",
    "    if row['speaker'] in characters:\n",
    "        speaker = row['speaker']\n",
    "        with open('Transcripts/%s_transcript' %speaker + '.txt', 'a') as f:\n",
    "            f.write(str(row['line_text']))\n",
    "print('Transcripts extracted from excel file')"
   ]
  },
  {
   "cell_type": "markdown",
   "metadata": {},
   "source": [
    "#### Separating Lines and Actions"
   ]
  },
  {
   "cell_type": "code",
   "execution_count": 5,
   "metadata": {},
   "outputs": [],
   "source": [
    "import pickle"
   ]
  },
  {
   "cell_type": "code",
   "execution_count": 6,
   "metadata": {},
   "outputs": [],
   "source": [
    "mkdir Lines"
   ]
  },
  {
   "cell_type": "code",
   "execution_count": 7,
   "metadata": {},
   "outputs": [],
   "source": [
    "mkdir Actions"
   ]
  },
  {
   "cell_type": "code",
   "execution_count": 8,
   "metadata": {},
   "outputs": [],
   "source": [
    "for character in characters:\n",
    "    all_lines = open('Transcripts/%s_transcript' %character + '.txt', 'r')\n",
    "    for lines in all_lines:\n",
    "        line = re.sub(r'\\[.*?\\]', '', lines)\n",
    "        action = re.findall(r'\\[.*?\\]', lines)\n",
    "        if not len(line) == 0:\n",
    "            with open('Lines/%s_lines' %character + '.txt', 'wb') as f_line:\n",
    "                pickle.dump(str(line), f_line)\n",
    "        if not len(action) == 0:\n",
    "            with open('Actions/%s_actions' %character + '.txt', 'wb') as f_action:\n",
    "                pickle.dump(str(action), f_action)"
   ]
  },
  {
   "cell_type": "markdown",
   "metadata": {},
   "source": [
    "#### Loading the pickeled actions and line"
   ]
  },
  {
   "cell_type": "code",
   "execution_count": 9,
   "metadata": {},
   "outputs": [],
   "source": [
    "actions = {}\n",
    "lines = {}\n",
    "for i, char in enumerate(characters):\n",
    "    with open('Actions/%s_actions' %char + \".txt\", \"rb\") as file:\n",
    "        actions[char] = pickle.load(file)\n",
    "    with open('Lines/%s_lines' %char + \".txt\", \"rb\") as file:\n",
    "        lines[char] = pickle.load(file)"
   ]
  },
  {
   "cell_type": "code",
   "execution_count": 10,
   "metadata": {},
   "outputs": [
    {
     "data": {
      "text/plain": [
       "dict_keys(['Andy', 'Dwight', 'Jim', 'Michael', 'Pam'])"
      ]
     },
     "execution_count": 10,
     "metadata": {},
     "output_type": "execute_result"
    }
   ],
   "source": [
    "actions.keys()"
   ]
  },
  {
   "cell_type": "code",
   "execution_count": 11,
   "metadata": {},
   "outputs": [
    {
     "data": {
      "text/plain": [
       "dict_keys(['Andy', 'Dwight', 'Jim', 'Michael', 'Pam'])"
      ]
     },
     "execution_count": 11,
     "metadata": {},
     "output_type": "execute_result"
    }
   ],
   "source": [
    "lines.keys()"
   ]
  },
  {
   "cell_type": "markdown",
   "metadata": {},
   "source": [
    "### Data Cleaning"
   ]
  },
  {
   "cell_type": "markdown",
   "metadata": {},
   "source": [
    "##### Combine fuction"
   ]
  },
  {
   "cell_type": "code",
   "execution_count": 12,
   "metadata": {},
   "outputs": [],
   "source": [
    "import string"
   ]
  },
  {
   "cell_type": "code",
   "execution_count": 13,
   "metadata": {},
   "outputs": [],
   "source": [
    "# combine\n",
    "def combine_text(list_of_text):\n",
    "    combined_text = \"\".join(list_of_text)\n",
    "    return combined_text"
   ]
  },
  {
   "cell_type": "code",
   "execution_count": 14,
   "metadata": {},
   "outputs": [],
   "source": [
    "actions_combined = {key: [combine_text(value)] for (key, value) in actions.items()}"
   ]
  },
  {
   "cell_type": "code",
   "execution_count": 15,
   "metadata": {},
   "outputs": [],
   "source": [
    "lines_combined = {key: [combine_text(value)] for (key, value) in lines.items()}"
   ]
  },
  {
   "cell_type": "markdown",
   "metadata": {},
   "source": [
    "#### DataFram"
   ]
  },
  {
   "cell_type": "code",
   "execution_count": 16,
   "metadata": {},
   "outputs": [
    {
     "data": {
      "text/html": [
       "<div>\n",
       "<style scoped>\n",
       "    .dataframe tbody tr th:only-of-type {\n",
       "        vertical-align: middle;\n",
       "    }\n",
       "\n",
       "    .dataframe tbody tr th {\n",
       "        vertical-align: top;\n",
       "    }\n",
       "\n",
       "    .dataframe thead th {\n",
       "        text-align: right;\n",
       "    }\n",
       "</style>\n",
       "<table border=\"1\" class=\"dataframe\">\n",
       "  <thead>\n",
       "    <tr style=\"text-align: right;\">\n",
       "      <th></th>\n",
       "      <th>actions</th>\n",
       "    </tr>\n",
       "  </thead>\n",
       "  <tbody>\n",
       "    <tr>\n",
       "      <th>Andy</th>\n",
       "      <td>['[Robert smiles as Andy exits]', '[Shoves Creed with his foot, Creed grunts]', '[To Oscar]', '[to Robert California]', '[laughs]', '[sips]', '[Ji...</td>\n",
       "    </tr>\n",
       "    <tr>\n",
       "      <th>Dwight</th>\n",
       "      <td>['[singing]', '[Imitates heavy drumming]', '[Imitates heavy drumming]', '[points to Ryan]', '[new take]', '[does a martial arts move with his hand...</td>\n",
       "    </tr>\n",
       "    <tr>\n",
       "      <th>Jim</th>\n",
       "      <td>['[crosses fingers]', '[Dwight begins smashing pencils with his phone]', '[scratches head]', '[Car horn honking]', '[looks at camera]', '[Shedder ...</td>\n",
       "    </tr>\n",
       "    <tr>\n",
       "      <th>Michael</th>\n",
       "      <td>['[on the phone]', '[quick cut scene]', '[hangs up]', '[Clears throat]', '[growls]', \"[shows the camera his WORLD'S BEST BOSS mug]\", '[Strains, gr...</td>\n",
       "    </tr>\n",
       "    <tr>\n",
       "      <th>Pam</th>\n",
       "      <td>['[Laughs]', '[Laughing]', '[stirs]', '[nods toward camera]', '[laughs]', '[on phone]', '[Dwight laughs]', '[whispering]', '[on her cell phone]', ...</td>\n",
       "    </tr>\n",
       "  </tbody>\n",
       "</table>\n",
       "</div>"
      ],
      "text/plain": [
       "                                                                                                                                                       actions\n",
       "Andy     ['[Robert smiles as Andy exits]', '[Shoves Creed with his foot, Creed grunts]', '[To Oscar]', '[to Robert California]', '[laughs]', '[sips]', '[Ji...\n",
       "Dwight   ['[singing]', '[Imitates heavy drumming]', '[Imitates heavy drumming]', '[points to Ryan]', '[new take]', '[does a martial arts move with his hand...\n",
       "Jim      ['[crosses fingers]', '[Dwight begins smashing pencils with his phone]', '[scratches head]', '[Car horn honking]', '[looks at camera]', '[Shedder ...\n",
       "Michael  ['[on the phone]', '[quick cut scene]', '[hangs up]', '[Clears throat]', '[growls]', \"[shows the camera his WORLD'S BEST BOSS mug]\", '[Strains, gr...\n",
       "Pam      ['[Laughs]', '[Laughing]', '[stirs]', '[nods toward camera]', '[laughs]', '[on phone]', '[Dwight laughs]', '[whispering]', '[on her cell phone]', ..."
      ]
     },
     "execution_count": 16,
     "metadata": {},
     "output_type": "execute_result"
    }
   ],
   "source": [
    "pd.set_option('max_colwidth',150)\n",
    "\n",
    "actions_df = pd.DataFrame.from_dict(actions_combined).transpose()\n",
    "actions_df.columns = ['actions']\n",
    "actions_df = actions_df.sort_index()\n",
    "actions_df"
   ]
  },
  {
   "cell_type": "code",
   "execution_count": 17,
   "metadata": {},
   "outputs": [
    {
     "data": {
      "text/html": [
       "<div>\n",
       "<style scoped>\n",
       "    .dataframe tbody tr th:only-of-type {\n",
       "        vertical-align: middle;\n",
       "    }\n",
       "\n",
       "    .dataframe tbody tr th {\n",
       "        vertical-align: top;\n",
       "    }\n",
       "\n",
       "    .dataframe thead th {\n",
       "        text-align: right;\n",
       "    }\n",
       "</style>\n",
       "<table border=\"1\" class=\"dataframe\">\n",
       "  <thead>\n",
       "    <tr style=\"text-align: right;\">\n",
       "      <th></th>\n",
       "      <th>lines</th>\n",
       "    </tr>\n",
       "  </thead>\n",
       "  <tbody>\n",
       "    <tr>\n",
       "      <th>Andy</th>\n",
       "      <td>Robert. I said winners and losers. Is that what youre talking about?Oh, that, it might- That might actually be what Im thinking of. Can you clarif...</td>\n",
       "    </tr>\n",
       "    <tr>\n",
       "      <th>Dwight</th>\n",
       "      <td>Shall I play for you? Pa rum pump um pum  I have no gifts for you. Pa rum pump um pum Whassup!Whassup.What?Just clearing my desk. I can't concent...</td>\n",
       "    </tr>\n",
       "    <tr>\n",
       "      <th>Jim</th>\n",
       "      <td>Oh, I told you. I couldn't close it. So...Actually, you called me in here, but yeah.My job is to speak to clients on the phone about... uh, quanti...</td>\n",
       "    </tr>\n",
       "    <tr>\n",
       "      <th>Michael</th>\n",
       "      <td>All right Jim. Your quarterlies look very good. How are things at the library?So you've come to the master for guidance? Is this what you're sayin...</td>\n",
       "    </tr>\n",
       "    <tr>\n",
       "      <th>Pam</th>\n",
       "      <td>Well. I don't know.What?Uh, yeah. Just a fax.You haven't told me.Uh, yeah, the one...You put in the garbage can that was a special filing cabinet....</td>\n",
       "    </tr>\n",
       "  </tbody>\n",
       "</table>\n",
       "</div>"
      ],
      "text/plain": [
       "                                                                                                                                                         lines\n",
       "Andy     Robert. I said winners and losers. Is that what youre talking about?Oh, that, it might- That might actually be what Im thinking of. Can you clarif...\n",
       "Dwight    Shall I play for you? Pa rum pump um pum  I have no gifts for you. Pa rum pump um pum Whassup!Whassup.What?Just clearing my desk. I can't concent...\n",
       "Jim      Oh, I told you. I couldn't close it. So...Actually, you called me in here, but yeah.My job is to speak to clients on the phone about... uh, quanti...\n",
       "Michael  All right Jim. Your quarterlies look very good. How are things at the library?So you've come to the master for guidance? Is this what you're sayin...\n",
       "Pam      Well. I don't know.What?Uh, yeah. Just a fax.You haven't told me.Uh, yeah, the one...You put in the garbage can that was a special filing cabinet...."
      ]
     },
     "execution_count": 17,
     "metadata": {},
     "output_type": "execute_result"
    }
   ],
   "source": [
    "# pandas dataframe\n",
    "pd.set_option('max_colwidth',150)\n",
    "\n",
    "lines_df = pd.DataFrame.from_dict(lines_combined).transpose()\n",
    "lines_df.columns = ['lines']\n",
    "lines_df = lines_df.sort_index()\n",
    "lines_df"
   ]
  },
  {
   "cell_type": "markdown",
   "metadata": {},
   "source": [
    "#### Cleaning actions fuction\n",
    "First round"
   ]
  },
  {
   "cell_type": "code",
   "execution_count": 18,
   "metadata": {},
   "outputs": [],
   "source": [
    "# cleaing technique round 1\n",
    "def clean_first_round(text):\n",
    "    text = text.lower()\n",
    "    text = re.sub(\"[']\", '', text)\n",
    "    text = re.sub('\\w*\\d\\w*', '', text)\n",
    "    text = re.sub('[%s]' % re.escape(string.punctuation), ' ', text)\n",
    "      \n",
    "    return text\n",
    "\n",
    "first_round = lambda x: clean_first_round(x)"
   ]
  },
  {
   "cell_type": "code",
   "execution_count": 19,
   "metadata": {},
   "outputs": [],
   "source": [
    "actions_clean = pd.DataFrame(actions_df.actions.apply(first_round))"
   ]
  },
  {
   "cell_type": "code",
   "execution_count": 20,
   "metadata": {},
   "outputs": [],
   "source": [
    "lines_clean = pd.DataFrame(lines_df.lines.apply(first_round))"
   ]
  },
  {
   "cell_type": "markdown",
   "metadata": {},
   "source": [
    "second round"
   ]
  },
  {
   "cell_type": "code",
   "execution_count": 21,
   "metadata": {},
   "outputs": [],
   "source": [
    "def clean_actions_round2(text):\n",
    "    text = re.sub(\"[,]\", '', text)\n",
    "    text = re.sub('[\"]', '', text)\n",
    "    \n",
    "    return text\n",
    "\n",
    "actions_round2 = lambda x: clean_actions_round2(x)"
   ]
  },
  {
   "cell_type": "code",
   "execution_count": 22,
   "metadata": {},
   "outputs": [],
   "source": [
    "actions_clean = pd.DataFrame(actions_clean.actions.apply(actions_round2))"
   ]
  },
  {
   "cell_type": "code",
   "execution_count": 23,
   "metadata": {},
   "outputs": [],
   "source": [
    "# cleaing technique round 2\n",
    "def clean_lines_round2(text):\n",
    "    text = re.sub('[‘’“”…]', '', text)\n",
    "    text = re.sub('\\n', '', text)\n",
    "   \n",
    "    return text\n",
    "\n",
    "lines_round2 = lambda x: clean_lines_round2(x)"
   ]
  },
  {
   "cell_type": "code",
   "execution_count": 24,
   "metadata": {},
   "outputs": [],
   "source": [
    "lines_clean = pd.DataFrame(lines_clean.lines.apply(lines_round2))"
   ]
  },
  {
   "cell_type": "code",
   "execution_count": 25,
   "metadata": {},
   "outputs": [],
   "source": [
    "mkdir pickle"
   ]
  },
  {
   "cell_type": "code",
   "execution_count": 26,
   "metadata": {},
   "outputs": [],
   "source": [
    "lines_clean.to_pickle(\"pickle/lines_clean.pkl\")"
   ]
  },
  {
   "cell_type": "code",
   "execution_count": 27,
   "metadata": {},
   "outputs": [],
   "source": [
    "from nltk.stem import PorterStemmer\n",
    "porter = PorterStemmer()\n",
    "\n",
    "from nltk.stem.snowball import SnowballStemmer\n",
    "\n",
    "stemmer = SnowballStemmer(\"english\")\n",
    "\n",
    "def stemming(text):\n",
    "    text = porter.stem(text) \n",
    "    return text\n",
    "stemming_round = lambda x: stemming(x)"
   ]
  },
  {
   "cell_type": "code",
   "execution_count": 28,
   "metadata": {},
   "outputs": [],
   "source": [
    "lines_clean['unstemd'] = lines_clean['lines']"
   ]
  },
  {
   "cell_type": "code",
   "execution_count": 29,
   "metadata": {},
   "outputs": [],
   "source": [
    "lines_clean['unstemd'] = lines_clean['unstemd'].str.split()\n"
   ]
  },
  {
   "cell_type": "code",
   "execution_count": 30,
   "metadata": {},
   "outputs": [],
   "source": [
    "lines_clean['stemd'] = lines_clean['unstemd'].apply(lambda x: [stemmer.stem(y) for y in x])\n",
    "lines_clean = lines_clean.drop(columns=['unstemd'])\n",
    "lines_clean = lines_clean.drop(columns=['lines'])\n"
   ]
  },
  {
   "cell_type": "code",
   "execution_count": 31,
   "metadata": {},
   "outputs": [],
   "source": [
    "# combine\n",
    "def combine_stemd_text(list_of_text):\n",
    "    combined_text = \" \".join(list_of_text)\n",
    "    return combined_text"
   ]
  },
  {
   "cell_type": "code",
   "execution_count": 32,
   "metadata": {},
   "outputs": [
    {
     "data": {
      "text/html": [
       "<div>\n",
       "<style scoped>\n",
       "    .dataframe tbody tr th:only-of-type {\n",
       "        vertical-align: middle;\n",
       "    }\n",
       "\n",
       "    .dataframe tbody tr th {\n",
       "        vertical-align: top;\n",
       "    }\n",
       "\n",
       "    .dataframe thead th {\n",
       "        text-align: right;\n",
       "    }\n",
       "</style>\n",
       "<table border=\"1\" class=\"dataframe\">\n",
       "  <thead>\n",
       "    <tr style=\"text-align: right;\">\n",
       "      <th></th>\n",
       "      <th>lines</th>\n",
       "    </tr>\n",
       "  </thead>\n",
       "  <tbody>\n",
       "    <tr>\n",
       "      <th>Andy</th>\n",
       "      <td>robert i said winner and loser is that what your talk about oh that it might that might actual be what im think of can you clarifi that no no no i...</td>\n",
       "    </tr>\n",
       "    <tr>\n",
       "      <th>Dwight</th>\n",
       "      <td>shall i play for you pa rum pump um pum i have no gift for you pa rum pump um pum whassup whassup what just clear my desk i cant concentr it overl...</td>\n",
       "    </tr>\n",
       "    <tr>\n",
       "      <th>Jim</th>\n",
       "      <td>oh i told you i couldnt close it so actual you call me in here but yeah my job is to speak to client on the phone about uh quantiti and type of co...</td>\n",
       "    </tr>\n",
       "    <tr>\n",
       "      <th>Michael</th>\n",
       "      <td>all right jim your quarter look veri good how are thing at the librari so youv come to the master for guidanc is this what your say grasshopp all ...</td>\n",
       "    </tr>\n",
       "    <tr>\n",
       "      <th>Pam</th>\n",
       "      <td>well i dont know what uh yeah just a fax you havent told me uh yeah the one you put in the garbag can that was a special file cabinet i have an im...</td>\n",
       "    </tr>\n",
       "  </tbody>\n",
       "</table>\n",
       "</div>"
      ],
      "text/plain": [
       "                                                                                                                                                         lines\n",
       "Andy     robert i said winner and loser is that what your talk about oh that it might that might actual be what im think of can you clarifi that no no no i...\n",
       "Dwight   shall i play for you pa rum pump um pum i have no gift for you pa rum pump um pum whassup whassup what just clear my desk i cant concentr it overl...\n",
       "Jim      oh i told you i couldnt close it so actual you call me in here but yeah my job is to speak to client on the phone about uh quantiti and type of co...\n",
       "Michael  all right jim your quarter look veri good how are thing at the librari so youv come to the master for guidanc is this what your say grasshopp all ...\n",
       "Pam      well i dont know what uh yeah just a fax you havent told me uh yeah the one you put in the garbag can that was a special file cabinet i have an im..."
      ]
     },
     "execution_count": 32,
     "metadata": {},
     "output_type": "execute_result"
    }
   ],
   "source": [
    "line_combined = {key: combine_stemd_text(value) for (key, value) in lines_clean.stemd.items()}\n",
    "lines_clean['lines'] = line_combined.values()\n",
    "lines_clean = lines_clean.drop(columns=['stemd'])\n",
    "lines_clean"
   ]
  },
  {
   "cell_type": "markdown",
   "metadata": {},
   "source": [
    "#### Orginize Lines Data\n",
    "Corpus lines\n"
   ]
  },
  {
   "cell_type": "code",
   "execution_count": 33,
   "metadata": {},
   "outputs": [
    {
     "data": {
      "text/html": [
       "<div>\n",
       "<style scoped>\n",
       "    .dataframe tbody tr th:only-of-type {\n",
       "        vertical-align: middle;\n",
       "    }\n",
       "\n",
       "    .dataframe tbody tr th {\n",
       "        vertical-align: top;\n",
       "    }\n",
       "\n",
       "    .dataframe thead th {\n",
       "        text-align: right;\n",
       "    }\n",
       "</style>\n",
       "<table border=\"1\" class=\"dataframe\">\n",
       "  <thead>\n",
       "    <tr style=\"text-align: right;\">\n",
       "      <th></th>\n",
       "      <th>lines</th>\n",
       "      <th>Characters</th>\n",
       "    </tr>\n",
       "  </thead>\n",
       "  <tbody>\n",
       "    <tr>\n",
       "      <th>Andy</th>\n",
       "      <td>robert i said winner and loser is that what your talk about oh that it might that might actual be what im think of can you clarifi that no no no i...</td>\n",
       "      <td>Andy Bernard</td>\n",
       "    </tr>\n",
       "    <tr>\n",
       "      <th>Dwight</th>\n",
       "      <td>shall i play for you pa rum pump um pum i have no gift for you pa rum pump um pum whassup whassup what just clear my desk i cant concentr it overl...</td>\n",
       "      <td>Dwight Schrute</td>\n",
       "    </tr>\n",
       "    <tr>\n",
       "      <th>Jim</th>\n",
       "      <td>oh i told you i couldnt close it so actual you call me in here but yeah my job is to speak to client on the phone about uh quantiti and type of co...</td>\n",
       "      <td>Jim Halpert</td>\n",
       "    </tr>\n",
       "    <tr>\n",
       "      <th>Michael</th>\n",
       "      <td>all right jim your quarter look veri good how are thing at the librari so youv come to the master for guidanc is this what your say grasshopp all ...</td>\n",
       "      <td>Michael Scott</td>\n",
       "    </tr>\n",
       "    <tr>\n",
       "      <th>Pam</th>\n",
       "      <td>well i dont know what uh yeah just a fax you havent told me uh yeah the one you put in the garbag can that was a special file cabinet i have an im...</td>\n",
       "      <td>Pam Beesly</td>\n",
       "    </tr>\n",
       "  </tbody>\n",
       "</table>\n",
       "</div>"
      ],
      "text/plain": [
       "                                                                                                                                                         lines  \\\n",
       "Andy     robert i said winner and loser is that what your talk about oh that it might that might actual be what im think of can you clarifi that no no no i...   \n",
       "Dwight   shall i play for you pa rum pump um pum i have no gift for you pa rum pump um pum whassup whassup what just clear my desk i cant concentr it overl...   \n",
       "Jim      oh i told you i couldnt close it so actual you call me in here but yeah my job is to speak to client on the phone about uh quantiti and type of co...   \n",
       "Michael  all right jim your quarter look veri good how are thing at the librari so youv come to the master for guidanc is this what your say grasshopp all ...   \n",
       "Pam      well i dont know what uh yeah just a fax you havent told me uh yeah the one you put in the garbag can that was a special file cabinet i have an im...   \n",
       "\n",
       "             Characters  \n",
       "Andy       Andy Bernard  \n",
       "Dwight   Dwight Schrute  \n",
       "Jim         Jim Halpert  \n",
       "Michael   Michael Scott  \n",
       "Pam          Pam Beesly  "
      ]
     },
     "execution_count": 33,
     "metadata": {},
     "output_type": "execute_result"
    }
   ],
   "source": [
    "char_names = ['Andy Bernard', 'Dwight Schrute', 'Jim Halpert', 'Michael Scott', 'Pam Beesly']\n",
    "lines_clean['Characters'] = char_names\n",
    "lines_clean"
   ]
  },
  {
   "cell_type": "markdown",
   "metadata": {},
   "source": [
    "> SKAL VI BRUGE DET CLEANET DATA?? HVORFOR CLEANER VI DET SÅ HVIS NEJ?"
   ]
  },
  {
   "cell_type": "code",
   "execution_count": 34,
   "metadata": {},
   "outputs": [],
   "source": [
    "lines_df.to_pickle(\"pickle/lines_corpus.pkl\")"
   ]
  },
  {
   "cell_type": "markdown",
   "metadata": {},
   "source": [
    "#### Document-Term Matrix"
   ]
  },
  {
   "cell_type": "code",
   "execution_count": 35,
   "metadata": {},
   "outputs": [
    {
     "data": {
      "text/html": [
       "<div>\n",
       "<style scoped>\n",
       "    .dataframe tbody tr th:only-of-type {\n",
       "        vertical-align: middle;\n",
       "    }\n",
       "\n",
       "    .dataframe tbody tr th {\n",
       "        vertical-align: top;\n",
       "    }\n",
       "\n",
       "    .dataframe thead th {\n",
       "        text-align: right;\n",
       "    }\n",
       "</style>\n",
       "<table border=\"1\" class=\"dataframe\">\n",
       "  <thead>\n",
       "    <tr style=\"text-align: right;\">\n",
       "      <th></th>\n",
       "      <th>aa</th>\n",
       "      <th>aaaaaaaa</th>\n",
       "      <th>aaaaaand</th>\n",
       "      <th>aaaaah</th>\n",
       "      <th>aaaaeeexcel</th>\n",
       "      <th>aaaagh</th>\n",
       "      <th>aaaah</th>\n",
       "      <th>aaaahh</th>\n",
       "      <th>aaaahhh</th>\n",
       "      <th>aaaall</th>\n",
       "      <th>...</th>\n",
       "      <th>zip</th>\n",
       "      <th>zipadeedoodaah</th>\n",
       "      <th>zit</th>\n",
       "      <th>zombi</th>\n",
       "      <th>zone</th>\n",
       "      <th>zoo</th>\n",
       "      <th>zoom</th>\n",
       "      <th>zoppiti</th>\n",
       "      <th>zoran</th>\n",
       "      <th>zuckerberg</th>\n",
       "    </tr>\n",
       "  </thead>\n",
       "  <tbody>\n",
       "    <tr>\n",
       "      <th>Andy</th>\n",
       "      <td>0</td>\n",
       "      <td>0</td>\n",
       "      <td>0</td>\n",
       "      <td>0</td>\n",
       "      <td>0</td>\n",
       "      <td>0</td>\n",
       "      <td>0</td>\n",
       "      <td>0</td>\n",
       "      <td>0</td>\n",
       "      <td>0</td>\n",
       "      <td>...</td>\n",
       "      <td>0</td>\n",
       "      <td>0</td>\n",
       "      <td>0</td>\n",
       "      <td>0</td>\n",
       "      <td>2</td>\n",
       "      <td>0</td>\n",
       "      <td>0</td>\n",
       "      <td>0</td>\n",
       "      <td>0</td>\n",
       "      <td>0</td>\n",
       "    </tr>\n",
       "    <tr>\n",
       "      <th>Dwight</th>\n",
       "      <td>1</td>\n",
       "      <td>6</td>\n",
       "      <td>0</td>\n",
       "      <td>1</td>\n",
       "      <td>0</td>\n",
       "      <td>1</td>\n",
       "      <td>2</td>\n",
       "      <td>0</td>\n",
       "      <td>0</td>\n",
       "      <td>0</td>\n",
       "      <td>...</td>\n",
       "      <td>2</td>\n",
       "      <td>0</td>\n",
       "      <td>1</td>\n",
       "      <td>4</td>\n",
       "      <td>4</td>\n",
       "      <td>3</td>\n",
       "      <td>0</td>\n",
       "      <td>0</td>\n",
       "      <td>1</td>\n",
       "      <td>1</td>\n",
       "    </tr>\n",
       "    <tr>\n",
       "      <th>Jim</th>\n",
       "      <td>0</td>\n",
       "      <td>0</td>\n",
       "      <td>0</td>\n",
       "      <td>0</td>\n",
       "      <td>0</td>\n",
       "      <td>0</td>\n",
       "      <td>0</td>\n",
       "      <td>0</td>\n",
       "      <td>0</td>\n",
       "      <td>0</td>\n",
       "      <td>...</td>\n",
       "      <td>1</td>\n",
       "      <td>1</td>\n",
       "      <td>0</td>\n",
       "      <td>3</td>\n",
       "      <td>1</td>\n",
       "      <td>0</td>\n",
       "      <td>0</td>\n",
       "      <td>0</td>\n",
       "      <td>0</td>\n",
       "      <td>0</td>\n",
       "    </tr>\n",
       "    <tr>\n",
       "      <th>Michael</th>\n",
       "      <td>0</td>\n",
       "      <td>2</td>\n",
       "      <td>1</td>\n",
       "      <td>0</td>\n",
       "      <td>1</td>\n",
       "      <td>0</td>\n",
       "      <td>1</td>\n",
       "      <td>2</td>\n",
       "      <td>1</td>\n",
       "      <td>1</td>\n",
       "      <td>...</td>\n",
       "      <td>1</td>\n",
       "      <td>0</td>\n",
       "      <td>2</td>\n",
       "      <td>1</td>\n",
       "      <td>12</td>\n",
       "      <td>1</td>\n",
       "      <td>6</td>\n",
       "      <td>2</td>\n",
       "      <td>0</td>\n",
       "      <td>0</td>\n",
       "    </tr>\n",
       "    <tr>\n",
       "      <th>Pam</th>\n",
       "      <td>0</td>\n",
       "      <td>0</td>\n",
       "      <td>0</td>\n",
       "      <td>0</td>\n",
       "      <td>0</td>\n",
       "      <td>0</td>\n",
       "      <td>0</td>\n",
       "      <td>0</td>\n",
       "      <td>0</td>\n",
       "      <td>0</td>\n",
       "      <td>...</td>\n",
       "      <td>1</td>\n",
       "      <td>0</td>\n",
       "      <td>0</td>\n",
       "      <td>0</td>\n",
       "      <td>0</td>\n",
       "      <td>0</td>\n",
       "      <td>0</td>\n",
       "      <td>0</td>\n",
       "      <td>0</td>\n",
       "      <td>0</td>\n",
       "    </tr>\n",
       "  </tbody>\n",
       "</table>\n",
       "<p>5 rows × 10940 columns</p>\n",
       "</div>"
      ],
      "text/plain": [
       "         aa  aaaaaaaa  aaaaaand  aaaaah  aaaaeeexcel  aaaagh  aaaah  aaaahh  \\\n",
       "Andy      0         0         0       0            0       0      0       0   \n",
       "Dwight    1         6         0       1            0       1      2       0   \n",
       "Jim       0         0         0       0            0       0      0       0   \n",
       "Michael   0         2         1       0            1       0      1       2   \n",
       "Pam       0         0         0       0            0       0      0       0   \n",
       "\n",
       "         aaaahhh  aaaall  ...  zip  zipadeedoodaah  zit  zombi  zone  zoo  \\\n",
       "Andy           0       0  ...    0               0    0      0     2    0   \n",
       "Dwight         0       0  ...    2               0    1      4     4    3   \n",
       "Jim            0       0  ...    1               1    0      3     1    0   \n",
       "Michael        1       1  ...    1               0    2      1    12    1   \n",
       "Pam            0       0  ...    1               0    0      0     0    0   \n",
       "\n",
       "         zoom  zoppiti  zoran  zuckerberg  \n",
       "Andy        0        0      0           0  \n",
       "Dwight      0        0      1           1  \n",
       "Jim         0        0      0           0  \n",
       "Michael     6        2      0           0  \n",
       "Pam         0        0      0           0  \n",
       "\n",
       "[5 rows x 10940 columns]"
      ]
     },
     "execution_count": 35,
     "metadata": {},
     "output_type": "execute_result"
    }
   ],
   "source": [
    "from sklearn.feature_extraction.text import CountVectorizer\n",
    "\n",
    "cv = CountVectorizer(stop_words='english')\n",
    "lines_cv = cv.fit_transform(lines_clean.lines)                      \n",
    "lines_dtm = pd.DataFrame(lines_cv.toarray(), columns=cv.get_feature_names())\n",
    "lines_dtm.index = lines_clean.index\n",
    "lines_dtm"
   ]
  },
  {
   "cell_type": "code",
   "execution_count": 36,
   "metadata": {},
   "outputs": [
    {
     "data": {
      "text/plain": [
       "Index(['aa', 'aaaaaaaa', 'aaaaaand', 'aaaaah', 'aaaaeeexcel', 'aaaagh',\n",
       "       'aaaah', 'aaaahh', 'aaaahhh', 'aaaall',\n",
       "       ...\n",
       "       'zip', 'zipadeedoodaah', 'zit', 'zombi', 'zone', 'zoo', 'zoom',\n",
       "       'zoppiti', 'zoran', 'zuckerberg'],\n",
       "      dtype='object', length=10940)"
      ]
     },
     "execution_count": 36,
     "metadata": {},
     "output_type": "execute_result"
    }
   ],
   "source": [
    "lines_dtm.keys()"
   ]
  },
  {
   "cell_type": "code",
   "execution_count": 37,
   "metadata": {},
   "outputs": [
    {
     "data": {
      "text/html": [
       "<div>\n",
       "<style scoped>\n",
       "    .dataframe tbody tr th:only-of-type {\n",
       "        vertical-align: middle;\n",
       "    }\n",
       "\n",
       "    .dataframe tbody tr th {\n",
       "        vertical-align: top;\n",
       "    }\n",
       "\n",
       "    .dataframe thead th {\n",
       "        text-align: right;\n",
       "    }\n",
       "</style>\n",
       "<table border=\"1\" class=\"dataframe\">\n",
       "  <thead>\n",
       "    <tr style=\"text-align: right;\">\n",
       "      <th></th>\n",
       "      <th>aback</th>\n",
       "      <th>abby</th>\n",
       "      <th>abruptly</th>\n",
       "      <th>absolutely</th>\n",
       "      <th>accent</th>\n",
       "      <th>accepts</th>\n",
       "      <th>accidentally</th>\n",
       "      <th>account</th>\n",
       "      <th>accountants</th>\n",
       "      <th>accounting</th>\n",
       "      <th>...</th>\n",
       "      <th>youre</th>\n",
       "      <th>youtube</th>\n",
       "      <th>yuck</th>\n",
       "      <th>zeke</th>\n",
       "      <th>zipper</th>\n",
       "      <th>zipping</th>\n",
       "      <th>zips</th>\n",
       "      <th>zone</th>\n",
       "      <th>zooms</th>\n",
       "      <th>zwarte</th>\n",
       "    </tr>\n",
       "  </thead>\n",
       "  <tbody>\n",
       "    <tr>\n",
       "      <th>Andy</th>\n",
       "      <td>0</td>\n",
       "      <td>0</td>\n",
       "      <td>0</td>\n",
       "      <td>0</td>\n",
       "      <td>4</td>\n",
       "      <td>0</td>\n",
       "      <td>0</td>\n",
       "      <td>0</td>\n",
       "      <td>0</td>\n",
       "      <td>1</td>\n",
       "      <td>...</td>\n",
       "      <td>0</td>\n",
       "      <td>0</td>\n",
       "      <td>0</td>\n",
       "      <td>0</td>\n",
       "      <td>0</td>\n",
       "      <td>0</td>\n",
       "      <td>0</td>\n",
       "      <td>0</td>\n",
       "      <td>1</td>\n",
       "      <td>0</td>\n",
       "    </tr>\n",
       "    <tr>\n",
       "      <th>Dwight</th>\n",
       "      <td>0</td>\n",
       "      <td>2</td>\n",
       "      <td>1</td>\n",
       "      <td>0</td>\n",
       "      <td>9</td>\n",
       "      <td>0</td>\n",
       "      <td>1</td>\n",
       "      <td>1</td>\n",
       "      <td>1</td>\n",
       "      <td>0</td>\n",
       "      <td>...</td>\n",
       "      <td>3</td>\n",
       "      <td>0</td>\n",
       "      <td>0</td>\n",
       "      <td>1</td>\n",
       "      <td>1</td>\n",
       "      <td>0</td>\n",
       "      <td>0</td>\n",
       "      <td>0</td>\n",
       "      <td>1</td>\n",
       "      <td>1</td>\n",
       "    </tr>\n",
       "    <tr>\n",
       "      <th>Jim</th>\n",
       "      <td>0</td>\n",
       "      <td>3</td>\n",
       "      <td>1</td>\n",
       "      <td>0</td>\n",
       "      <td>3</td>\n",
       "      <td>0</td>\n",
       "      <td>0</td>\n",
       "      <td>0</td>\n",
       "      <td>0</td>\n",
       "      <td>0</td>\n",
       "      <td>...</td>\n",
       "      <td>0</td>\n",
       "      <td>0</td>\n",
       "      <td>0</td>\n",
       "      <td>0</td>\n",
       "      <td>0</td>\n",
       "      <td>0</td>\n",
       "      <td>0</td>\n",
       "      <td>0</td>\n",
       "      <td>0</td>\n",
       "      <td>0</td>\n",
       "    </tr>\n",
       "    <tr>\n",
       "      <th>Michael</th>\n",
       "      <td>1</td>\n",
       "      <td>1</td>\n",
       "      <td>0</td>\n",
       "      <td>1</td>\n",
       "      <td>20</td>\n",
       "      <td>1</td>\n",
       "      <td>1</td>\n",
       "      <td>0</td>\n",
       "      <td>0</td>\n",
       "      <td>0</td>\n",
       "      <td>...</td>\n",
       "      <td>0</td>\n",
       "      <td>2</td>\n",
       "      <td>1</td>\n",
       "      <td>0</td>\n",
       "      <td>1</td>\n",
       "      <td>1</td>\n",
       "      <td>2</td>\n",
       "      <td>1</td>\n",
       "      <td>3</td>\n",
       "      <td>0</td>\n",
       "    </tr>\n",
       "    <tr>\n",
       "      <th>Pam</th>\n",
       "      <td>0</td>\n",
       "      <td>0</td>\n",
       "      <td>0</td>\n",
       "      <td>0</td>\n",
       "      <td>3</td>\n",
       "      <td>1</td>\n",
       "      <td>0</td>\n",
       "      <td>0</td>\n",
       "      <td>0</td>\n",
       "      <td>0</td>\n",
       "      <td>...</td>\n",
       "      <td>0</td>\n",
       "      <td>0</td>\n",
       "      <td>0</td>\n",
       "      <td>0</td>\n",
       "      <td>0</td>\n",
       "      <td>0</td>\n",
       "      <td>0</td>\n",
       "      <td>0</td>\n",
       "      <td>0</td>\n",
       "      <td>0</td>\n",
       "    </tr>\n",
       "  </tbody>\n",
       "</table>\n",
       "<p>5 rows × 3480 columns</p>\n",
       "</div>"
      ],
      "text/plain": [
       "         aback  abby  abruptly  absolutely  accent  accepts  accidentally  \\\n",
       "Andy         0     0         0           0       4        0             0   \n",
       "Dwight       0     2         1           0       9        0             1   \n",
       "Jim          0     3         1           0       3        0             0   \n",
       "Michael      1     1         0           1      20        1             1   \n",
       "Pam          0     0         0           0       3        1             0   \n",
       "\n",
       "         account  accountants  accounting  ...  youre  youtube  yuck  zeke  \\\n",
       "Andy           0            0           1  ...      0        0     0     0   \n",
       "Dwight         1            1           0  ...      3        0     0     1   \n",
       "Jim            0            0           0  ...      0        0     0     0   \n",
       "Michael        0            0           0  ...      0        2     1     0   \n",
       "Pam            0            0           0  ...      0        0     0     0   \n",
       "\n",
       "         zipper  zipping  zips  zone  zooms  zwarte  \n",
       "Andy          0        0     0     0      1       0  \n",
       "Dwight        1        0     0     0      1       1  \n",
       "Jim           0        0     0     0      0       0  \n",
       "Michael       1        1     2     1      3       0  \n",
       "Pam           0        0     0     0      0       0  \n",
       "\n",
       "[5 rows x 3480 columns]"
      ]
     },
     "execution_count": 37,
     "metadata": {},
     "output_type": "execute_result"
    }
   ],
   "source": [
    "from sklearn.feature_extraction.text import CountVectorizer\n",
    "\n",
    "cv = CountVectorizer(stop_words='english')\n",
    "actions_cv = cv.fit_transform(actions_clean.actions)\n",
    "actions_dtm = pd.DataFrame(actions_cv.toarray(), columns=cv.get_feature_names())\n",
    "actions_dtm.index = actions_clean.index\n",
    "actions_dtm"
   ]
  },
  {
   "cell_type": "code",
   "execution_count": 38,
   "metadata": {},
   "outputs": [],
   "source": [
    "lines_dtm.to_pickle(\"pickle/lines_dtm.pkl\")\n",
    "actions_dtm.to_pickle(\"pickle/actions_dtm.pkl\")"
   ]
  },
  {
   "cell_type": "markdown",
   "metadata": {},
   "source": [
    "## Exploratory Data Analysis"
   ]
  },
  {
   "cell_type": "code",
   "execution_count": 39,
   "metadata": {},
   "outputs": [
    {
     "data": {
      "text/html": [
       "<div>\n",
       "<style scoped>\n",
       "    .dataframe tbody tr th:only-of-type {\n",
       "        vertical-align: middle;\n",
       "    }\n",
       "\n",
       "    .dataframe tbody tr th {\n",
       "        vertical-align: top;\n",
       "    }\n",
       "\n",
       "    .dataframe thead th {\n",
       "        text-align: right;\n",
       "    }\n",
       "</style>\n",
       "<table border=\"1\" class=\"dataframe\">\n",
       "  <thead>\n",
       "    <tr style=\"text-align: right;\">\n",
       "      <th></th>\n",
       "      <th>Andy</th>\n",
       "      <th>Dwight</th>\n",
       "      <th>Jim</th>\n",
       "      <th>Michael</th>\n",
       "      <th>Pam</th>\n",
       "    </tr>\n",
       "  </thead>\n",
       "  <tbody>\n",
       "    <tr>\n",
       "      <th>aa</th>\n",
       "      <td>0</td>\n",
       "      <td>1</td>\n",
       "      <td>0</td>\n",
       "      <td>0</td>\n",
       "      <td>0</td>\n",
       "    </tr>\n",
       "    <tr>\n",
       "      <th>aaaaaaaa</th>\n",
       "      <td>0</td>\n",
       "      <td>6</td>\n",
       "      <td>0</td>\n",
       "      <td>2</td>\n",
       "      <td>0</td>\n",
       "    </tr>\n",
       "    <tr>\n",
       "      <th>aaaaaand</th>\n",
       "      <td>0</td>\n",
       "      <td>0</td>\n",
       "      <td>0</td>\n",
       "      <td>1</td>\n",
       "      <td>0</td>\n",
       "    </tr>\n",
       "    <tr>\n",
       "      <th>aaaaah</th>\n",
       "      <td>0</td>\n",
       "      <td>1</td>\n",
       "      <td>0</td>\n",
       "      <td>0</td>\n",
       "      <td>0</td>\n",
       "    </tr>\n",
       "    <tr>\n",
       "      <th>aaaaeeexcel</th>\n",
       "      <td>0</td>\n",
       "      <td>0</td>\n",
       "      <td>0</td>\n",
       "      <td>1</td>\n",
       "      <td>0</td>\n",
       "    </tr>\n",
       "  </tbody>\n",
       "</table>\n",
       "</div>"
      ],
      "text/plain": [
       "             Andy  Dwight  Jim  Michael  Pam\n",
       "aa              0       1    0        0    0\n",
       "aaaaaaaa        0       6    0        2    0\n",
       "aaaaaand        0       0    0        1    0\n",
       "aaaaah          0       1    0        0    0\n",
       "aaaaeeexcel     0       0    0        1    0"
      ]
     },
     "execution_count": 39,
     "metadata": {},
     "output_type": "execute_result"
    }
   ],
   "source": [
    "#lines = pd.read_pickle('pickle/lines_dtm.pkl')\n",
    "lines = lines_dtm\n",
    "lines = lines.transpose()\n",
    "lines.head()"
   ]
  },
  {
   "cell_type": "code",
   "execution_count": 40,
   "metadata": {},
   "outputs": [],
   "source": [
    "actions = actions_dtm\n",
    "actions = actions.transpose()"
   ]
  },
  {
   "cell_type": "markdown",
   "metadata": {},
   "source": [
    "### Most Common Word"
   ]
  },
  {
   "cell_type": "code",
   "execution_count": 41,
   "metadata": {},
   "outputs": [
    {
     "data": {
      "text/plain": [
       "{'Andy': [('just', 200),\n",
       "  ('im', 190),\n",
       "  ('know', 152),\n",
       "  ('like', 126),\n",
       "  ('yeah', 123),\n",
       "  ('right', 111),\n",
       "  ('dont', 104),\n",
       "  ('guy', 102),\n",
       "  ('want', 91),\n",
       "  ('oh', 91),\n",
       "  ('got', 75),\n",
       "  ('hey', 74),\n",
       "  ('say', 74),\n",
       "  ('think', 73),\n",
       "  ('come', 67),\n",
       "  ('realli', 67),\n",
       "  ('good', 63),\n",
       "  ('time', 63),\n",
       "  ('gonna', 62),\n",
       "  ('thank', 61),\n",
       "  ('need', 60),\n",
       "  ('mean', 59),\n",
       "  ('uh', 57),\n",
       "  ('thing', 53),\n",
       "  ('did', 53),\n",
       "  ('erin', 53),\n",
       "  ('work', 52),\n",
       "  ('great', 51),\n",
       "  ('look', 49),\n",
       "  ('ok', 49)],\n",
       " 'Dwight': [('im', 492),\n",
       "  ('oh', 475),\n",
       "  ('know', 436),\n",
       "  ('dont', 402),\n",
       "  ('just', 396),\n",
       "  ('okay', 350),\n",
       "  ('like', 343),\n",
       "  ('jim', 336),\n",
       "  ('michael', 323),\n",
       "  ('come', 292),\n",
       "  ('right', 277),\n",
       "  ('let', 261),\n",
       "  ('good', 255),\n",
       "  ('yeah', 247),\n",
       "  ('want', 237),\n",
       "  ('yes', 234),\n",
       "  ('hey', 229),\n",
       "  ('need', 215),\n",
       "  ('got', 206),\n",
       "  ('say', 203),\n",
       "  ('make', 191),\n",
       "  ('time', 190),\n",
       "  ('think', 188),\n",
       "  ('look', 183),\n",
       "  ('ok', 182),\n",
       "  ('did', 180),\n",
       "  ('realli', 178),\n",
       "  ('gonna', 165),\n",
       "  ('thing', 163),\n",
       "  ('thank', 161)],\n",
       " 'Jim': [('just', 635),\n",
       "  ('know', 561),\n",
       "  ('oh', 546),\n",
       "  ('im', 526),\n",
       "  ('right', 421),\n",
       "  ('yeah', 408),\n",
       "  ('dont', 404),\n",
       "  ('okay', 383),\n",
       "  ('think', 367),\n",
       "  ('hey', 330),\n",
       "  ('realli', 330),\n",
       "  ('dwight', 306),\n",
       "  ('like', 280),\n",
       "  ('good', 256),\n",
       "  ('uh', 253),\n",
       "  ('gonna', 218),\n",
       "  ('pam', 217),\n",
       "  ('michael', 213),\n",
       "  ('ok', 207),\n",
       "  ('want', 206),\n",
       "  ('let', 180),\n",
       "  ('did', 178),\n",
       "  ('thank', 175),\n",
       "  ('becaus', 166),\n",
       "  ('say', 166),\n",
       "  ('great', 159),\n",
       "  ('mean', 152),\n",
       "  ('thing', 152),\n",
       "  ('work', 150),\n",
       "  ('time', 149)],\n",
       " 'Michael': [('know', 1408),\n",
       "  ('just', 1227),\n",
       "  ('dont', 1125),\n",
       "  ('im', 1108),\n",
       "  ('oh', 1036),\n",
       "  ('okay', 981),\n",
       "  ('like', 898),\n",
       "  ('right', 816),\n",
       "  ('good', 731),\n",
       "  ('want', 710),\n",
       "  ('think', 703),\n",
       "  ('yeah', 628),\n",
       "  ('come', 577),\n",
       "  ('yes', 555),\n",
       "  ('hey', 548),\n",
       "  ('ok', 481),\n",
       "  ('let', 474),\n",
       "  ('say', 470),\n",
       "  ('becaus', 440),\n",
       "  ('guy', 436),\n",
       "  ('did', 434),\n",
       "  ('dwight', 424),\n",
       "  ('look', 413),\n",
       "  ('pam', 395),\n",
       "  ('peopl', 393),\n",
       "  ('realli', 391),\n",
       "  ('whi', 371),\n",
       "  ('thing', 368),\n",
       "  ('time', 367),\n",
       "  ('need', 365)],\n",
       " 'Pam': [('oh', 465),\n",
       "  ('just', 461),\n",
       "  ('im', 422),\n",
       "  ('dont', 371),\n",
       "  ('yeah', 365),\n",
       "  ('know', 346),\n",
       "  ('like', 328),\n",
       "  ('michael', 309),\n",
       "  ('okay', 288),\n",
       "  ('hey', 267),\n",
       "  ('think', 265),\n",
       "  ('realli', 257),\n",
       "  ('jim', 214),\n",
       "  ('want', 207),\n",
       "  ('um', 186),\n",
       "  ('good', 168),\n",
       "  ('thank', 163),\n",
       "  ('dwight', 154),\n",
       "  ('did', 143),\n",
       "  ('come', 143),\n",
       "  ('mean', 133),\n",
       "  ('right', 131),\n",
       "  ('great', 124),\n",
       "  ('gonna', 124),\n",
       "  ('ok', 122),\n",
       "  ('say', 120),\n",
       "  ('time', 119),\n",
       "  ('yes', 119),\n",
       "  ('tell', 113),\n",
       "  ('becaus', 110)]}"
      ]
     },
     "execution_count": 41,
     "metadata": {},
     "output_type": "execute_result"
    }
   ],
   "source": [
    "top_dict = {}\n",
    "for c in lines.columns:\n",
    "    top = lines[c].sort_values(ascending=False).head(30)\n",
    "    top_dict[c]= list(zip(top.index, top.values))\n",
    "\n",
    "top_dict"
   ]
  },
  {
   "cell_type": "code",
   "execution_count": 42,
   "metadata": {},
   "outputs": [
    {
     "name": "stdout",
     "output_type": "stream",
     "text": [
      "Andy\n",
      "just, im, know, like, yeah, right, dont, guy, want, oh, got, hey, say, think, come\n",
      "---\n",
      "Dwight\n",
      "im, oh, know, dont, just, okay, like, jim, michael, come, right, let, good, yeah, want\n",
      "---\n",
      "Jim\n",
      "just, know, oh, im, right, yeah, dont, okay, think, hey, realli, dwight, like, good, uh\n",
      "---\n",
      "Michael\n",
      "know, just, dont, im, oh, okay, like, right, good, want, think, yeah, come, yes, hey\n",
      "---\n",
      "Pam\n",
      "oh, just, im, dont, yeah, know, like, michael, okay, hey, think, realli, jim, want, um\n",
      "---\n"
     ]
    }
   ],
   "source": [
    "# Print the top 15 words said by each character\n",
    "for character, top_words in top_dict.items():\n",
    "    print(character)\n",
    "    print(', '.join([word for word, count in top_words[:15]]))\n",
    "    print('---')"
   ]
  },
  {
   "cell_type": "code",
   "execution_count": 43,
   "metadata": {},
   "outputs": [],
   "source": [
    "# Look at the most common top words --> add them to the stop word list\n",
    "from collections import Counter\n",
    "\n",
    "# Let's first pull out the top 30 words for each character\n",
    "words = []\n",
    "for character in lines.columns:\n",
    "    top = [word for (word, count) in top_dict[character]]\n",
    "    for t in top:\n",
    "        words.append(t)\n",
    "        "
   ]
  },
  {
   "cell_type": "code",
   "execution_count": 44,
   "metadata": {},
   "outputs": [
    {
     "data": {
      "text/plain": [
       "[('just', 5),\n",
       " ('im', 5),\n",
       " ('know', 5),\n",
       " ('like', 5),\n",
       " ('yeah', 5),\n",
       " ('right', 5),\n",
       " ('dont', 5),\n",
       " ('want', 5),\n",
       " ('oh', 5),\n",
       " ('hey', 5),\n",
       " ('say', 5),\n",
       " ('think', 5),\n",
       " ('realli', 5),\n",
       " ('good', 5),\n",
       " ('time', 5),\n",
       " ('did', 5),\n",
       " ('ok', 5),\n",
       " ('come', 4),\n",
       " ('gonna', 4),\n",
       " ('thank', 4),\n",
       " ('thing', 4),\n",
       " ('okay', 4),\n",
       " ('need', 3),\n",
       " ('mean', 3),\n",
       " ('great', 3),\n",
       " ('look', 3),\n",
       " ('michael', 3),\n",
       " ('let', 3),\n",
       " ('yes', 3),\n",
       " ('dwight', 3),\n",
       " ('becaus', 3),\n",
       " ('guy', 2),\n",
       " ('got', 2),\n",
       " ('uh', 2),\n",
       " ('work', 2),\n",
       " ('jim', 2),\n",
       " ('pam', 2),\n",
       " ('erin', 1),\n",
       " ('make', 1),\n",
       " ('peopl', 1),\n",
       " ('whi', 1),\n",
       " ('um', 1),\n",
       " ('tell', 1)]"
      ]
     },
     "execution_count": 44,
     "metadata": {},
     "output_type": "execute_result"
    }
   ],
   "source": [
    "# Let's aggregate this list and identify the most common words along with how many routines they occur in\n",
    "Counter(words).most_common()"
   ]
  },
  {
   "cell_type": "code",
   "execution_count": 45,
   "metadata": {},
   "outputs": [
    {
     "data": {
      "text/plain": [
       "['just',\n",
       " 'im',\n",
       " 'know',\n",
       " 'like',\n",
       " 'yeah',\n",
       " 'right',\n",
       " 'dont',\n",
       " 'want',\n",
       " 'oh',\n",
       " 'hey',\n",
       " 'say',\n",
       " 'think',\n",
       " 'realli',\n",
       " 'good',\n",
       " 'time',\n",
       " 'did',\n",
       " 'ok',\n",
       " 'come',\n",
       " 'gonna',\n",
       " 'thank',\n",
       " 'thing',\n",
       " 'okay']"
      ]
     },
     "execution_count": 45,
     "metadata": {},
     "output_type": "execute_result"
    }
   ],
   "source": [
    "# If more than half of the characters have it as a top word, exclude it from the list\n",
    "add_stop_words = [word for word, count in Counter(words).most_common() if count > 3]\n",
    "add_stop_words"
   ]
  },
  {
   "cell_type": "code",
   "execution_count": 46,
   "metadata": {},
   "outputs": [],
   "source": [
    "\n",
    "newStopWords = [ 'zipadeedoodaah', 'zoppiti', 'wimowheh', 'aaaaeeexcel', 'uh', 'ye', 'um', 'aandi', 'aaron','ok', 'okay', 'two', 'on', 'one', 'ago', 'aa', 'aaaaaaaa', 'aaaaah', 'aaaaaand','aaaagh', 'aaaahhh', 'aaaall', 'aaaarrhh','aaagh','aaah','aaahhh', 'aaand', 'aaannnnddd','aah', 'aaaah' , 'aaaahh','aaaaeeexcellent', 'aahch', 'ab']\n",
    "1\n",
    "for i in newStopWords:\n",
    "    add_stop_words.append(i)\n"
   ]
  },
  {
   "cell_type": "code",
   "execution_count": 47,
   "metadata": {
    "scrolled": true
   },
   "outputs": [
    {
     "data": {
      "text/html": [
       "<div>\n",
       "<style scoped>\n",
       "    .dataframe tbody tr th:only-of-type {\n",
       "        vertical-align: middle;\n",
       "    }\n",
       "\n",
       "    .dataframe tbody tr th {\n",
       "        vertical-align: top;\n",
       "    }\n",
       "\n",
       "    .dataframe thead th {\n",
       "        text-align: right;\n",
       "    }\n",
       "</style>\n",
       "<table border=\"1\" class=\"dataframe\">\n",
       "  <thead>\n",
       "    <tr style=\"text-align: right;\">\n",
       "      <th></th>\n",
       "      <th>abandon</th>\n",
       "      <th>abbey</th>\n",
       "      <th>abbi</th>\n",
       "      <th>abbrevi</th>\n",
       "      <th>abdomen</th>\n",
       "      <th>abduct</th>\n",
       "      <th>abercrombi</th>\n",
       "      <th>abil</th>\n",
       "      <th>abl</th>\n",
       "      <th>abnorm</th>\n",
       "      <th>...</th>\n",
       "      <th>zinger</th>\n",
       "      <th>zion</th>\n",
       "      <th>zip</th>\n",
       "      <th>zit</th>\n",
       "      <th>zombi</th>\n",
       "      <th>zone</th>\n",
       "      <th>zoo</th>\n",
       "      <th>zoom</th>\n",
       "      <th>zoran</th>\n",
       "      <th>zuckerberg</th>\n",
       "    </tr>\n",
       "  </thead>\n",
       "  <tbody>\n",
       "    <tr>\n",
       "      <th>Andy</th>\n",
       "      <td>1</td>\n",
       "      <td>0</td>\n",
       "      <td>0</td>\n",
       "      <td>0</td>\n",
       "      <td>0</td>\n",
       "      <td>0</td>\n",
       "      <td>0</td>\n",
       "      <td>0</td>\n",
       "      <td>4</td>\n",
       "      <td>0</td>\n",
       "      <td>...</td>\n",
       "      <td>0</td>\n",
       "      <td>0</td>\n",
       "      <td>0</td>\n",
       "      <td>0</td>\n",
       "      <td>0</td>\n",
       "      <td>2</td>\n",
       "      <td>0</td>\n",
       "      <td>0</td>\n",
       "      <td>0</td>\n",
       "      <td>0</td>\n",
       "    </tr>\n",
       "    <tr>\n",
       "      <th>Dwight</th>\n",
       "      <td>3</td>\n",
       "      <td>0</td>\n",
       "      <td>1</td>\n",
       "      <td>1</td>\n",
       "      <td>1</td>\n",
       "      <td>0</td>\n",
       "      <td>0</td>\n",
       "      <td>3</td>\n",
       "      <td>9</td>\n",
       "      <td>0</td>\n",
       "      <td>...</td>\n",
       "      <td>0</td>\n",
       "      <td>0</td>\n",
       "      <td>2</td>\n",
       "      <td>1</td>\n",
       "      <td>4</td>\n",
       "      <td>4</td>\n",
       "      <td>3</td>\n",
       "      <td>0</td>\n",
       "      <td>1</td>\n",
       "      <td>1</td>\n",
       "    </tr>\n",
       "    <tr>\n",
       "      <th>Jim</th>\n",
       "      <td>1</td>\n",
       "      <td>1</td>\n",
       "      <td>2</td>\n",
       "      <td>0</td>\n",
       "      <td>0</td>\n",
       "      <td>0</td>\n",
       "      <td>0</td>\n",
       "      <td>0</td>\n",
       "      <td>14</td>\n",
       "      <td>0</td>\n",
       "      <td>...</td>\n",
       "      <td>1</td>\n",
       "      <td>0</td>\n",
       "      <td>1</td>\n",
       "      <td>0</td>\n",
       "      <td>3</td>\n",
       "      <td>1</td>\n",
       "      <td>0</td>\n",
       "      <td>0</td>\n",
       "      <td>0</td>\n",
       "      <td>0</td>\n",
       "    </tr>\n",
       "    <tr>\n",
       "      <th>Michael</th>\n",
       "      <td>2</td>\n",
       "      <td>0</td>\n",
       "      <td>0</td>\n",
       "      <td>0</td>\n",
       "      <td>0</td>\n",
       "      <td>2</td>\n",
       "      <td>0</td>\n",
       "      <td>7</td>\n",
       "      <td>26</td>\n",
       "      <td>3</td>\n",
       "      <td>...</td>\n",
       "      <td>1</td>\n",
       "      <td>1</td>\n",
       "      <td>1</td>\n",
       "      <td>2</td>\n",
       "      <td>1</td>\n",
       "      <td>12</td>\n",
       "      <td>1</td>\n",
       "      <td>6</td>\n",
       "      <td>0</td>\n",
       "      <td>0</td>\n",
       "    </tr>\n",
       "    <tr>\n",
       "      <th>Pam</th>\n",
       "      <td>2</td>\n",
       "      <td>1</td>\n",
       "      <td>2</td>\n",
       "      <td>0</td>\n",
       "      <td>0</td>\n",
       "      <td>0</td>\n",
       "      <td>1</td>\n",
       "      <td>0</td>\n",
       "      <td>6</td>\n",
       "      <td>0</td>\n",
       "      <td>...</td>\n",
       "      <td>0</td>\n",
       "      <td>0</td>\n",
       "      <td>1</td>\n",
       "      <td>0</td>\n",
       "      <td>0</td>\n",
       "      <td>0</td>\n",
       "      <td>0</td>\n",
       "      <td>0</td>\n",
       "      <td>0</td>\n",
       "      <td>0</td>\n",
       "    </tr>\n",
       "  </tbody>\n",
       "</table>\n",
       "<p>5 rows × 10890 columns</p>\n",
       "</div>"
      ],
      "text/plain": [
       "         abandon  abbey  abbi  abbrevi  abdomen  abduct  abercrombi  abil  \\\n",
       "Andy           1      0     0        0        0       0           0     0   \n",
       "Dwight         3      0     1        1        1       0           0     3   \n",
       "Jim            1      1     2        0        0       0           0     0   \n",
       "Michael        2      0     0        0        0       2           0     7   \n",
       "Pam            2      1     2        0        0       0           1     0   \n",
       "\n",
       "         abl  abnorm  ...  zinger  zion  zip  zit  zombi  zone  zoo  zoom  \\\n",
       "Andy       4       0  ...       0     0    0    0      0     2    0     0   \n",
       "Dwight     9       0  ...       0     0    2    1      4     4    3     0   \n",
       "Jim       14       0  ...       1     0    1    0      3     1    0     0   \n",
       "Michael   26       3  ...       1     1    1    2      1    12    1     6   \n",
       "Pam        6       0  ...       0     0    1    0      0     0    0     0   \n",
       "\n",
       "         zoran  zuckerberg  \n",
       "Andy         0           0  \n",
       "Dwight       1           1  \n",
       "Jim          0           0  \n",
       "Michael      0           0  \n",
       "Pam          0           0  \n",
       "\n",
       "[5 rows x 10890 columns]"
      ]
     },
     "execution_count": 47,
     "metadata": {},
     "output_type": "execute_result"
    }
   ],
   "source": [
    "\n",
    "\n",
    "# Let's update our document-term matrix with the new list of stop words\n",
    "from sklearn.feature_extraction import text \n",
    "from sklearn.feature_extraction.text import CountVectorizer\n",
    "\n",
    "# Read in cleaned data\n",
    "#lines_clean = pd.read_pickle('pickle/lines_clean.pkl')\n",
    "\n",
    "\n",
    "# Add new stop words\n",
    "stop_words = text.ENGLISH_STOP_WORDS.union(add_stop_words)\n",
    "\n",
    "# Recreate document-term matrix\n",
    "cv = CountVectorizer(stop_words=stop_words)\n",
    "lines_cv = cv.fit_transform(lines_clean.lines)\n",
    "lines_stop = pd.DataFrame(lines_cv.toarray(), columns=cv.get_feature_names())\n",
    "lines_stop.index = lines_clean.index\n",
    "\n",
    "# Pickle it for later use\n",
    "import pickle\n",
    "pickle.dump(cv, open(\"pickle/cv_stop.pkl\", \"wb\"))\n",
    "lines_stop.to_pickle(\"pickle/dtm_stop.pkl\")\n",
    "lines_stop"
   ]
  },
  {
   "cell_type": "code",
   "execution_count": 48,
   "metadata": {},
   "outputs": [],
   "source": [
    "# Let's make some word clouds!\n",
    "from wordcloud import WordCloud\n",
    "\n",
    "wc = WordCloud(stopwords=stop_words, background_color=\"white\", colormap=\"Dark2\", max_font_size=150, random_state=42)"
   ]
  },
  {
   "cell_type": "code",
   "execution_count": 49,
   "metadata": {},
   "outputs": [
    {
     "data": {
      "image/png": "[encoded data removed]",
      "text/plain": [
       "<Figure size 2160x1080 with 5 Axes>"
      ]
     },
     "metadata": {
      "needs_background": "light"
     },
     "output_type": "display_data"
    }
   ],
   "source": [
    "# Reset the output dimensions\n",
    "import matplotlib.pyplot as plt\n",
    "\n",
    "plt.rcParams['figure.figsize'] = [30, 15]\n",
    "\n",
    "full_names = ['Andy Bernard', 'Dwight Schrute', 'Jim Halpert', 'Michael Scott', 'Pam Beesly']\n",
    "\n",
    "# Create subplots for each comedian\n",
    "for index, character in enumerate(lines.columns):\n",
    "    wc.generate(lines_clean.lines[character])\n",
    "    \n",
    "    plt.subplot(3, 5, index+1)\n",
    "    plt.imshow(wc, interpolation=\"bilinear\")\n",
    "    plt.axis(\"off\")\n",
    "    plt.title(full_names[index])\n",
    "    \n",
    "plt.show()"
   ]
  },
  {
   "cell_type": "markdown",
   "metadata": {},
   "source": [
    "### Number of Words\n"
   ]
  },
  {
   "cell_type": "code",
   "execution_count": 50,
   "metadata": {},
   "outputs": [
    {
     "data": {
      "text/html": [
       "<div>\n",
       "<style scoped>\n",
       "    .dataframe tbody tr th:only-of-type {\n",
       "        vertical-align: middle;\n",
       "    }\n",
       "\n",
       "    .dataframe tbody tr th {\n",
       "        vertical-align: top;\n",
       "    }\n",
       "\n",
       "    .dataframe thead th {\n",
       "        text-align: right;\n",
       "    }\n",
       "</style>\n",
       "<table border=\"1\" class=\"dataframe\">\n",
       "  <thead>\n",
       "    <tr style=\"text-align: right;\">\n",
       "      <th></th>\n",
       "      <th>character</th>\n",
       "      <th>unique_words</th>\n",
       "    </tr>\n",
       "  </thead>\n",
       "  <tbody>\n",
       "    <tr>\n",
       "      <th>0</th>\n",
       "      <td>Andy Bernard</td>\n",
       "      <td>2506</td>\n",
       "    </tr>\n",
       "    <tr>\n",
       "      <th>4</th>\n",
       "      <td>Pam Beesly</td>\n",
       "      <td>3085</td>\n",
       "    </tr>\n",
       "    <tr>\n",
       "      <th>2</th>\n",
       "      <td>Jim Halpert</td>\n",
       "      <td>3712</td>\n",
       "    </tr>\n",
       "    <tr>\n",
       "      <th>1</th>\n",
       "      <td>Dwight Schrute</td>\n",
       "      <td>6044</td>\n",
       "    </tr>\n",
       "    <tr>\n",
       "      <th>3</th>\n",
       "      <td>Michael Scott</td>\n",
       "      <td>6915</td>\n",
       "    </tr>\n",
       "  </tbody>\n",
       "</table>\n",
       "</div>"
      ],
      "text/plain": [
       "        character  unique_words\n",
       "0    Andy Bernard          2506\n",
       "4      Pam Beesly          3085\n",
       "2     Jim Halpert          3712\n",
       "1  Dwight Schrute          6044\n",
       "3   Michael Scott          6915"
      ]
     },
     "execution_count": 50,
     "metadata": {},
     "output_type": "execute_result"
    }
   ],
   "source": [
    "# Find the number of unique words that each comedian uses\n",
    "\n",
    "# Identify the non-zero items in the document-term matrix, meaning that the word occurs at least once\n",
    "unique_list = []\n",
    "for character in lines.columns:\n",
    "    uniques = lines[character].to_numpy().nonzero()[0].size\n",
    "    unique_list.append(uniques)\n",
    "\n",
    "# Create a new dataframe that contains this unique word count\n",
    "lines_words = pd.DataFrame(list(zip(full_names, unique_list)), columns=['character', 'unique_words'])\n",
    "lines_unique_sort = lines_words.sort_values(by='unique_words')\n",
    "lines_unique_sort"
   ]
  },
  {
   "cell_type": "code",
   "execution_count": 51,
   "metadata": {},
   "outputs": [
    {
     "data": {
      "text/html": [
       "<div>\n",
       "<style scoped>\n",
       "    .dataframe tbody tr th:only-of-type {\n",
       "        vertical-align: middle;\n",
       "    }\n",
       "\n",
       "    .dataframe tbody tr th {\n",
       "        vertical-align: top;\n",
       "    }\n",
       "\n",
       "    .dataframe thead th {\n",
       "        text-align: right;\n",
       "    }\n",
       "</style>\n",
       "<table border=\"1\" class=\"dataframe\">\n",
       "  <thead>\n",
       "    <tr style=\"text-align: right;\">\n",
       "      <th></th>\n",
       "      <th>character</th>\n",
       "      <th>words</th>\n",
       "    </tr>\n",
       "  </thead>\n",
       "  <tbody>\n",
       "    <tr>\n",
       "      <th>0</th>\n",
       "      <td>Andy Bernard</td>\n",
       "      <td>21877</td>\n",
       "    </tr>\n",
       "    <tr>\n",
       "      <th>4</th>\n",
       "      <td>Pam Beesly</td>\n",
       "      <td>47345</td>\n",
       "    </tr>\n",
       "    <tr>\n",
       "      <th>2</th>\n",
       "      <td>Jim Halpert</td>\n",
       "      <td>62318</td>\n",
       "    </tr>\n",
       "    <tr>\n",
       "      <th>1</th>\n",
       "      <td>Dwight Schrute</td>\n",
       "      <td>83586</td>\n",
       "    </tr>\n",
       "    <tr>\n",
       "      <th>3</th>\n",
       "      <td>Michael Scott</td>\n",
       "      <td>167556</td>\n",
       "    </tr>\n",
       "  </tbody>\n",
       "</table>\n",
       "</div>"
      ],
      "text/plain": [
       "        character   words\n",
       "0    Andy Bernard   21877\n",
       "4      Pam Beesly   47345\n",
       "2     Jim Halpert   62318\n",
       "1  Dwight Schrute   83586\n",
       "3   Michael Scott  167556"
      ]
     },
     "execution_count": 51,
     "metadata": {},
     "output_type": "execute_result"
    }
   ],
   "source": [
    "all_words = lines_clean.lines.apply(lambda x : len(x.split()))\n",
    "\n",
    "all_words = pd.DataFrame(list(zip(full_names, all_words)), columns=['character', 'words'])\n",
    "all_words_sort = all_words.sort_values(by='words')\n",
    "all_words_sort"
   ]
  },
  {
   "cell_type": "code",
   "execution_count": 52,
   "metadata": {},
   "outputs": [
    {
     "data": {
      "image/png": "[encoded data removed]",
      "text/plain": [
       "<Figure size 2160x1080 with 1 Axes>"
      ]
     },
     "metadata": {
      "needs_background": "light"
     },
     "output_type": "display_data"
    }
   ],
   "source": [
    "import matplotlib\n",
    "import matplotlib.pyplot as plt\n",
    "import numpy as np\n",
    "plt.rcParams.update({'font.size': 15})\n",
    "\n",
    "\n",
    "labels = lines_unique_sort.character\n",
    "all_means = all_words_sort.words\n",
    "unq_means = lines_unique_sort.unique_words\n",
    "\n",
    "\n",
    "x = np.arange(len(all_words))  # the label locations\n",
    "width = 0.35  # the width of the bars\n",
    "\n",
    "fig, ax = plt.subplots()\n",
    "rects1 = ax.bar(x - width/2, all_means, width, label='All words')\n",
    "rects2 = ax.bar(x + width/2, unq_means, width, label='Unique words')\n",
    "\n",
    "# Add some text for labels, title and custom x-axis tick labels, etc.\n",
    "ax.set_ylabel('Words')\n",
    "ax.set_title('Amount of unique words and all words', fontsize=40)\n",
    "ax.set_xticks(x)\n",
    "ax.set_xticklabels(labels)\n",
    "ax.legend()\n",
    "\n",
    "def autolabel(rects):\n",
    "    \"\"\"Attach a text label above each bar in *rects*, displaying its height.\"\"\"\n",
    "    for rect in rects:\n",
    "        height = rect.get_height()\n",
    "        ax.annotate('{}'.format(height),\n",
    "                    xy=(rect.get_x() + rect.get_width() / 2, height),\n",
    "                    xytext=(0, 3),  # 3 points vertical offset\n",
    "                    textcoords=\"offset points\",\n",
    "                    ha='center', va='bottom')\n",
    "        \n",
    "\n",
    "autolabel(rects1)\n",
    "autolabel(rects2)\n",
    "\n",
    "plt.show()"
   ]
  },
  {
   "cell_type": "markdown",
   "metadata": {},
   "source": [
    "We can't really conclude anything from this, as Michael Scott probably also has the most lines in the show..."
   ]
  },
  {
   "cell_type": "markdown",
   "metadata": {},
   "source": [
    "### Amount of Profanity "
   ]
  },
  {
   "cell_type": "code",
   "execution_count": 53,
   "metadata": {},
   "outputs": [],
   "source": [
    "lines_bad_words = lines.transpose()[['bleep', 'bitch']]\n",
    "\n",
    "lines_profanity = pd.concat([lines_bad_words.bleep, lines_bad_words.bitch], axis=1)\n",
    "lines_profanity.columns = ['bleep', 'bitch']\n"
   ]
  },
  {
   "cell_type": "code",
   "execution_count": 54,
   "metadata": {},
   "outputs": [],
   "source": [
    "# Let's isolate bad words in the actions\n",
    "actions_bad_words = actions.transpose()[['bleep']]\n",
    "\n",
    "actions_profanity = pd.concat([actions_bad_words.bleep], axis=1)\n",
    "actions_profanity.columns = ['bleep']\n"
   ]
  },
  {
   "cell_type": "code",
   "execution_count": 55,
   "metadata": {},
   "outputs": [],
   "source": [
    "# Profanity overall\n",
    "lines_bad_words = lines.transpose()[['bleep', 'bitch']]\n",
    "actions_bad_words = actions.transpose()[['bleep']]\n",
    "\n",
    "profanity = pd.concat([lines_bad_words.bleep + actions_bad_words.bleep, lines_bad_words.bitch], axis=1)\n",
    "profanity.columns = ['bleep', 'bitch']\n"
   ]
  },
  {
   "cell_type": "code",
   "execution_count": 56,
   "metadata": {},
   "outputs": [],
   "source": [
    "prof = profanity['bleep'] + profanity['bitch']\n",
    "names = []\n",
    "count = []\n",
    "for key, value in prof.items():\n",
    "    names.append(key)\n",
    "    count.append(value)\n"
   ]
  },
  {
   "cell_type": "code",
   "execution_count": 57,
   "metadata": {},
   "outputs": [
    {
     "data": {
      "image/png": "[encoded data removed]",
      "text/plain": [
       "<Figure size 2160x1080 with 1 Axes>"
      ]
     },
     "metadata": {
      "needs_background": "light"
     },
     "output_type": "display_data"
    }
   ],
   "source": [
    "plt.rcParams.update({'font.size': 20})\n",
    "plt.bar(names, count)\n",
    "plt.suptitle('Bleeped words')\n",
    "plt.xlabel('Characters')\n",
    "plt.ylabel('Bleeps')\n",
    "plt.show()"
   ]
  },
  {
   "cell_type": "code",
   "execution_count": 58,
   "metadata": {},
   "outputs": [
    {
     "data": {
      "text/html": [
       "<div>\n",
       "<style scoped>\n",
       "    .dataframe tbody tr th:only-of-type {\n",
       "        vertical-align: middle;\n",
       "    }\n",
       "\n",
       "    .dataframe tbody tr th {\n",
       "        vertical-align: top;\n",
       "    }\n",
       "\n",
       "    .dataframe thead th {\n",
       "        text-align: right;\n",
       "    }\n",
       "</style>\n",
       "<table border=\"1\" class=\"dataframe\">\n",
       "  <thead>\n",
       "    <tr style=\"text-align: right;\">\n",
       "      <th></th>\n",
       "      <th>character</th>\n",
       "      <th>profanity</th>\n",
       "      <th>unique words</th>\n",
       "      <th>word count</th>\n",
       "    </tr>\n",
       "  </thead>\n",
       "  <tbody>\n",
       "    <tr>\n",
       "      <th>0</th>\n",
       "      <td>Andy Bernard</td>\n",
       "      <td>9</td>\n",
       "      <td>2506</td>\n",
       "      <td>21877</td>\n",
       "    </tr>\n",
       "    <tr>\n",
       "      <th>1</th>\n",
       "      <td>Dwight Schrute</td>\n",
       "      <td>8</td>\n",
       "      <td>6044</td>\n",
       "      <td>83586</td>\n",
       "    </tr>\n",
       "    <tr>\n",
       "      <th>2</th>\n",
       "      <td>Jim Halpert</td>\n",
       "      <td>3</td>\n",
       "      <td>3712</td>\n",
       "      <td>62318</td>\n",
       "    </tr>\n",
       "    <tr>\n",
       "      <th>3</th>\n",
       "      <td>Michael Scott</td>\n",
       "      <td>27</td>\n",
       "      <td>6915</td>\n",
       "      <td>167556</td>\n",
       "    </tr>\n",
       "    <tr>\n",
       "      <th>4</th>\n",
       "      <td>Pam Beesly</td>\n",
       "      <td>0</td>\n",
       "      <td>3085</td>\n",
       "      <td>47345</td>\n",
       "    </tr>\n",
       "  </tbody>\n",
       "</table>\n",
       "</div>"
      ],
      "text/plain": [
       "        character  profanity  unique words  word count\n",
       "0    Andy Bernard          9          2506       21877\n",
       "1  Dwight Schrute          8          6044       83586\n",
       "2     Jim Halpert          3          3712       62318\n",
       "3   Michael Scott         27          6915      167556\n",
       "4      Pam Beesly          0          3085       47345"
      ]
     },
     "execution_count": 58,
     "metadata": {},
     "output_type": "execute_result"
    }
   ],
   "source": [
    "wordcount = lines_clean.lines.apply(lambda x : len(x.split()))\n",
    "wordcount_pd = pd.DataFrame(list(zip(full_names, count,unique_list,  wordcount)), columns=['character','profanity', 'unique words', 'word count'])\n",
    "wordcount_pd\n"
   ]
  },
  {
   "cell_type": "markdown",
   "metadata": {},
   "source": [
    "## Sentiment Analysis\n",
    "### Sentiment of Routine"
   ]
  },
  {
   "cell_type": "code",
   "execution_count": 59,
   "metadata": {},
   "outputs": [
    {
     "data": {
      "text/html": [
       "<div>\n",
       "<style scoped>\n",
       "    .dataframe tbody tr th:only-of-type {\n",
       "        vertical-align: middle;\n",
       "    }\n",
       "\n",
       "    .dataframe tbody tr th {\n",
       "        vertical-align: top;\n",
       "    }\n",
       "\n",
       "    .dataframe thead th {\n",
       "        text-align: right;\n",
       "    }\n",
       "</style>\n",
       "<table border=\"1\" class=\"dataframe\">\n",
       "  <thead>\n",
       "    <tr style=\"text-align: right;\">\n",
       "      <th></th>\n",
       "      <th>lines</th>\n",
       "      <th>Characters</th>\n",
       "    </tr>\n",
       "  </thead>\n",
       "  <tbody>\n",
       "    <tr>\n",
       "      <th>Andy</th>\n",
       "      <td>Robert. I said winners and losers. Is that what youre talking about?Oh, that, it might- That might actually be what Im thinking of. Can you clarif...</td>\n",
       "      <td>Andy Bernard</td>\n",
       "    </tr>\n",
       "    <tr>\n",
       "      <th>Dwight</th>\n",
       "      <td>Shall I play for you? Pa rum pump um pum  I have no gifts for you. Pa rum pump um pum Whassup!Whassup.What?Just clearing my desk. I can't concent...</td>\n",
       "      <td>Dwight Schrute</td>\n",
       "    </tr>\n",
       "    <tr>\n",
       "      <th>Jim</th>\n",
       "      <td>Oh, I told you. I couldn't close it. So...Actually, you called me in here, but yeah.My job is to speak to clients on the phone about... uh, quanti...</td>\n",
       "      <td>Jim Halpert</td>\n",
       "    </tr>\n",
       "    <tr>\n",
       "      <th>Michael</th>\n",
       "      <td>All right Jim. Your quarterlies look very good. How are things at the library?So you've come to the master for guidance? Is this what you're sayin...</td>\n",
       "      <td>Michael Scott</td>\n",
       "    </tr>\n",
       "    <tr>\n",
       "      <th>Pam</th>\n",
       "      <td>Well. I don't know.What?Uh, yeah. Just a fax.You haven't told me.Uh, yeah, the one...You put in the garbage can that was a special filing cabinet....</td>\n",
       "      <td>Pam Beesly</td>\n",
       "    </tr>\n",
       "  </tbody>\n",
       "</table>\n",
       "</div>"
      ],
      "text/plain": [
       "                                                                                                                                                         lines  \\\n",
       "Andy     Robert. I said winners and losers. Is that what youre talking about?Oh, that, it might- That might actually be what Im thinking of. Can you clarif...   \n",
       "Dwight    Shall I play for you? Pa rum pump um pum  I have no gifts for you. Pa rum pump um pum Whassup!Whassup.What?Just clearing my desk. I can't concent...   \n",
       "Jim      Oh, I told you. I couldn't close it. So...Actually, you called me in here, but yeah.My job is to speak to clients on the phone about... uh, quanti...   \n",
       "Michael  All right Jim. Your quarterlies look very good. How are things at the library?So you've come to the master for guidance? Is this what you're sayin...   \n",
       "Pam      Well. I don't know.What?Uh, yeah. Just a fax.You haven't told me.Uh, yeah, the one...You put in the garbage can that was a special filing cabinet....   \n",
       "\n",
       "             Characters  \n",
       "Andy       Andy Bernard  \n",
       "Dwight   Dwight Schrute  \n",
       "Jim         Jim Halpert  \n",
       "Michael   Michael Scott  \n",
       "Pam          Pam Beesly  "
      ]
     },
     "execution_count": 59,
     "metadata": {},
     "output_type": "execute_result"
    }
   ],
   "source": [
    "import pandas as pd\n",
    "lines = pd.read_pickle('pickle/lines_corpus.pkl')\n",
    "char_names = ['Andy Bernard', 'Dwight Schrute', 'Jim Halpert', 'Michael Scott', 'Pam Beesly']\n",
    "lines['Characters'] = char_names\n",
    "\n",
    "lines"
   ]
  },
  {
   "cell_type": "code",
   "execution_count": 60,
   "metadata": {},
   "outputs": [
    {
     "data": {
      "text/html": [
       "<div>\n",
       "<style scoped>\n",
       "    .dataframe tbody tr th:only-of-type {\n",
       "        vertical-align: middle;\n",
       "    }\n",
       "\n",
       "    .dataframe tbody tr th {\n",
       "        vertical-align: top;\n",
       "    }\n",
       "\n",
       "    .dataframe thead th {\n",
       "        text-align: right;\n",
       "    }\n",
       "</style>\n",
       "<table border=\"1\" class=\"dataframe\">\n",
       "  <thead>\n",
       "    <tr style=\"text-align: right;\">\n",
       "      <th></th>\n",
       "      <th>lines</th>\n",
       "      <th>Characters</th>\n",
       "      <th>polarity</th>\n",
       "      <th>subjectivity</th>\n",
       "    </tr>\n",
       "  </thead>\n",
       "  <tbody>\n",
       "    <tr>\n",
       "      <th>Andy</th>\n",
       "      <td>Robert. I said winners and losers. Is that what youre talking about?Oh, that, it might- That might actually be what Im thinking of. Can you clarif...</td>\n",
       "      <td>Andy Bernard</td>\n",
       "      <td>0.130747</td>\n",
       "      <td>0.532648</td>\n",
       "    </tr>\n",
       "    <tr>\n",
       "      <th>Dwight</th>\n",
       "      <td>Shall I play for you? Pa rum pump um pum  I have no gifts for you. Pa rum pump um pum Whassup!Whassup.What?Just clearing my desk. I can't concent...</td>\n",
       "      <td>Dwight Schrute</td>\n",
       "      <td>0.141048</td>\n",
       "      <td>0.505843</td>\n",
       "    </tr>\n",
       "    <tr>\n",
       "      <th>Jim</th>\n",
       "      <td>Oh, I told you. I couldn't close it. So...Actually, you called me in here, but yeah.My job is to speak to clients on the phone about... uh, quanti...</td>\n",
       "      <td>Jim Halpert</td>\n",
       "      <td>0.140890</td>\n",
       "      <td>0.529351</td>\n",
       "    </tr>\n",
       "    <tr>\n",
       "      <th>Michael</th>\n",
       "      <td>All right Jim. Your quarterlies look very good. How are things at the library?So you've come to the master for guidance? Is this what you're sayin...</td>\n",
       "      <td>Michael Scott</td>\n",
       "      <td>0.167168</td>\n",
       "      <td>0.521001</td>\n",
       "    </tr>\n",
       "    <tr>\n",
       "      <th>Pam</th>\n",
       "      <td>Well. I don't know.What?Uh, yeah. Just a fax.You haven't told me.Uh, yeah, the one...You put in the garbage can that was a special filing cabinet....</td>\n",
       "      <td>Pam Beesly</td>\n",
       "      <td>0.148947</td>\n",
       "      <td>0.526456</td>\n",
       "    </tr>\n",
       "  </tbody>\n",
       "</table>\n",
       "</div>"
      ],
      "text/plain": [
       "                                                                                                                                                         lines  \\\n",
       "Andy     Robert. I said winners and losers. Is that what youre talking about?Oh, that, it might- That might actually be what Im thinking of. Can you clarif...   \n",
       "Dwight    Shall I play for you? Pa rum pump um pum  I have no gifts for you. Pa rum pump um pum Whassup!Whassup.What?Just clearing my desk. I can't concent...   \n",
       "Jim      Oh, I told you. I couldn't close it. So...Actually, you called me in here, but yeah.My job is to speak to clients on the phone about... uh, quanti...   \n",
       "Michael  All right Jim. Your quarterlies look very good. How are things at the library?So you've come to the master for guidance? Is this what you're sayin...   \n",
       "Pam      Well. I don't know.What?Uh, yeah. Just a fax.You haven't told me.Uh, yeah, the one...You put in the garbage can that was a special filing cabinet....   \n",
       "\n",
       "             Characters  polarity  subjectivity  \n",
       "Andy       Andy Bernard  0.130747      0.532648  \n",
       "Dwight   Dwight Schrute  0.141048      0.505843  \n",
       "Jim         Jim Halpert  0.140890      0.529351  \n",
       "Michael   Michael Scott  0.167168      0.521001  \n",
       "Pam          Pam Beesly  0.148947      0.526456  "
      ]
     },
     "execution_count": 60,
     "metadata": {},
     "output_type": "execute_result"
    }
   ],
   "source": [
    "# Create quick lambda functions to find the polarity and subjectivity of each routine\n",
    "from textblob import TextBlob\n",
    "\n",
    "pol = lambda x: TextBlob(x).sentiment.polarity\n",
    "sub = lambda x: TextBlob(x).sentiment.subjectivity\n",
    "\n",
    "lines['polarity'] = lines['lines'].apply(pol)\n",
    "lines['subjectivity'] = lines['lines'].apply(sub)\n",
    "lines"
   ]
  },
  {
   "cell_type": "code",
   "execution_count": 61,
   "metadata": {},
   "outputs": [
    {
     "data": {
      "image/png": "[encoded data removed]",
      "text/plain": [
       "<Figure size 720x576 with 1 Axes>"
      ]
     },
     "metadata": {
      "needs_background": "light"
     },
     "output_type": "display_data"
    }
   ],
   "source": [
    "# Let's plot the results\n",
    "import matplotlib.pyplot as plt\n",
    "\n",
    "plt.rcParams['figure.figsize'] = [10, 8]\n",
    "\n",
    "for index, character in enumerate(lines.index):\n",
    "    x = lines.polarity.loc[character]\n",
    "    y = lines.subjectivity.loc[character]\n",
    "    plt.scatter(x, y, color='blue')\n",
    "    plt.text(x+.001, y+.001, lines['Characters'][index], fontsize=10)\n",
    "    plt.xlim(-.01, .22) \n",
    "    \n",
    "plt.title('Sentiment Analysis', fontsize=20)\n",
    "plt.xlabel('<-- Negative -------- Positive -->', fontsize=15)\n",
    "plt.ylabel('<-- Facts -------- Opinions -->', fontsize=15)\n",
    "\n",
    "plt.show()"
   ]
  },
  {
   "cell_type": "markdown",
   "metadata": {},
   "source": [
    "### Sentiment of Routine Over Time\n",
    "Instead of looking at the overall sentiment, let's see if there's anything interesting about the sentiment over time throughout each routine."
   ]
  },
  {
   "cell_type": "code",
   "execution_count": 62,
   "metadata": {},
   "outputs": [],
   "source": [
    "# Split each routine into 9 parts\n",
    "import numpy as np\n",
    "import math\n",
    "\n",
    "def split_text_9(text, n=9):\n",
    "    '''Takes in a string of text and splits into n equal parts, with a default of 10 equal parts.'''\n",
    "\n",
    "    # Calculate length of text, the size of each chunk of text and the starting points of each chunk of text\n",
    "    length = len(text)\n",
    "    size = math.floor(length / n)\n",
    "    start = np.arange(0, length, size)\n",
    "    \n",
    "    # Pull out equally sized pieces of text and put it into a list\n",
    "    split_list = []\n",
    "    for piece in range(n):\n",
    "        split_list.append(text[start[piece]:start[piece]+size])\n",
    "    return split_list\n",
    "#lines"
   ]
  },
  {
   "cell_type": "code",
   "execution_count": 63,
   "metadata": {},
   "outputs": [],
   "source": [
    "# Split each routine into 7 parts\n",
    "\n",
    "def split_text_7(text, n=7):\n",
    "    '''Takes in a string of text and splits into n equal parts, with a default of 10 equal parts.'''\n",
    "\n",
    "    # Calculate length of text, the size of each chunk of text and the starting points of each chunk of text\n",
    "    length = len(text)\n",
    "    size = math.floor(length / n)\n",
    "    start = np.arange(0, length, size)\n",
    "    \n",
    "    # Pull out equally sized pieces of text and put it into a list\n",
    "    split_list = []\n",
    "    for piece in range(n):\n",
    "        split_list.append(text[start[piece]:start[piece]+size])\n",
    "    return split_list"
   ]
  },
  {
   "cell_type": "code",
   "execution_count": 64,
   "metadata": {},
   "outputs": [],
   "source": [
    "# Let's create a list to hold all of the pieces of text\n",
    "list_pieces_9 = []\n",
    "for t in lines.lines:\n",
    "    split_9 = split_text_9(t)\n",
    "    list_pieces_9.append(split_9)\n",
    "    \n",
    "#list_pieces"
   ]
  },
  {
   "cell_type": "code",
   "execution_count": 65,
   "metadata": {},
   "outputs": [],
   "source": [
    "# Let's create a list to hold all of the pieces of text\n",
    "list_pieces_7 = []\n",
    "for t in lines.lines:\n",
    "    split_7 = split_text_7(t)\n",
    "    list_pieces_7.append(split_7)\n",
    "    \n",
    "#list_pieces"
   ]
  },
  {
   "cell_type": "code",
   "execution_count": 66,
   "metadata": {},
   "outputs": [],
   "source": [
    "# Calculate the polarity for each piece of text\n",
    "\n",
    "polarity_transcript_9 = []\n",
    "for lp in list_pieces_9:\n",
    "    polarity_piece_9 = []\n",
    "    for p in lp:\n",
    "        polarity_piece_9.append(TextBlob(p).sentiment.polarity)\n",
    "    polarity_transcript_9.append(polarity_piece_9)\n",
    "    \n",
    "#polarity_transcript"
   ]
  },
  {
   "cell_type": "code",
   "execution_count": 67,
   "metadata": {},
   "outputs": [
    {
     "data": {
      "text/plain": [
       "[0.17890564005985504,\n",
       " 0.14529113701445823,\n",
       " 0.13326203641693318,\n",
       " 0.1311006257468661,\n",
       " 0.0863410294155728,\n",
       " 0.1502035586617479,\n",
       " 0.13486256868754093,\n",
       " 0.14868592980487366,\n",
       " 0.1585299734583306]"
      ]
     },
     "execution_count": 67,
     "metadata": {},
     "output_type": "execute_result"
    }
   ],
   "source": [
    "# Dwight's polarity\n",
    "polarity_transcript_9[1]"
   ]
  },
  {
   "cell_type": "code",
   "execution_count": 68,
   "metadata": {},
   "outputs": [
    {
     "data": {
      "text/plain": [
       "[0.18967868728930978,\n",
       " 0.14623941540736027,\n",
       " 0.11463714020354653,\n",
       " 0.11559334712498293,\n",
       " 0.12785625486361973,\n",
       " 0.16018722132219088,\n",
       " 0.1253685303942025,\n",
       " 0.1557563826325192,\n",
       " 0.13027214429754908]"
      ]
     },
     "execution_count": 68,
     "metadata": {},
     "output_type": "execute_result"
    }
   ],
   "source": [
    "# Jim's polarity\n",
    "polarity_transcript_9[2]"
   ]
  },
  {
   "cell_type": "code",
   "execution_count": 69,
   "metadata": {},
   "outputs": [
    {
     "data": {
      "text/plain": [
       "[0.12646200733098575,\n",
       " 0.1492545453559799,\n",
       " 0.14503987763110154,\n",
       " 0.1282694495675265,\n",
       " 0.11988353513139186,\n",
       " 0.16628993240150036,\n",
       " 0.1626092136049764,\n",
       " 0.18620567772281488,\n",
       " 0.1463259239646272]"
      ]
     },
     "execution_count": 69,
     "metadata": {},
     "output_type": "execute_result"
    }
   ],
   "source": [
    "# Pam's polarity\n",
    "polarity_transcript_9[4]"
   ]
  },
  {
   "cell_type": "code",
   "execution_count": 70,
   "metadata": {},
   "outputs": [
    {
     "data": {
      "text/plain": [
       "[0.16878386478972415,\n",
       " 0.1569317662413213,\n",
       " 0.15513520678157636,\n",
       " 0.08009117344643658,\n",
       " 0.1612851181677401,\n",
       " 0.1092492481707083,\n",
       " 0.09663845737320442]"
      ]
     },
     "execution_count": 70,
     "metadata": {},
     "output_type": "execute_result"
    }
   ],
   "source": [
    "# Calculate the polarity for each piece of text\n",
    "\n",
    "polarity_transcript_7 = []\n",
    "for lp in list_pieces_7:\n",
    "    polarity_piece_7 = []\n",
    "    for p in lp:\n",
    "        polarity_piece_7.append(TextBlob(p).sentiment.polarity)\n",
    "    polarity_transcript_7.append(polarity_piece_7)\n",
    "    \n",
    "polarity_transcript_7[0]"
   ]
  },
  {
   "cell_type": "code",
   "execution_count": 71,
   "metadata": {},
   "outputs": [
    {
     "data": {
      "text/plain": [
       "[0.18355554765533896,\n",
       " 0.16343584730062674,\n",
       " 0.1540814927259113,\n",
       " 0.16294751684135628,\n",
       " 0.1781103105412805,\n",
       " 0.14752620403304156,\n",
       " 0.17934963063459072]"
      ]
     },
     "execution_count": 71,
     "metadata": {},
     "output_type": "execute_result"
    }
   ],
   "source": [
    "polarity_transcript_7[3]"
   ]
  },
  {
   "cell_type": "code",
   "execution_count": 72,
   "metadata": {},
   "outputs": [],
   "source": [
    "# Show the plot for every character\n",
    "\n",
    "yAndy = [0.16878386478972415, 0.1569317662413213, 0.15513520678157636, 0.08009117344643658, 0.1612851181677401, 0.1092492481707083, 0.09663845737320442]\n",
    "xAndy = [3, 4, 5, 6, 7, 8, 9]\n",
    "\n",
    "yDwight = [0.12646200733098575,\n",
    " 0.1492545453559799,\n",
    " 0.14503987763110154,\n",
    " 0.1282694495675265,\n",
    " 0.11988353513139186,\n",
    " 0.16628993240150036,\n",
    " 0.1626092136049764,\n",
    " 0.18620567772281488,\n",
    " 0.1463259239646272]\n",
    "xDwight = [1, 2, 3, 4, 5, 6, 7, 8, 9]\n",
    "\n",
    "yJim = [0.18967868728930978,0.14623941540736027,0.11463714020354653,0.11559334712498293,0.12785625486361973,0.16018722132219088,0.1253685303942025, 0.1557563826325192,0.13027214429754908]\n",
    "xJim = [1, 2, 3, 4, 5, 6, 7, 8, 9]\n",
    "\n",
    "yMichael = [0.18355554765533896,\n",
    " 0.16343584730062674,\n",
    " 0.1540814927259113,\n",
    " 0.16294751684135628,\n",
    " 0.1781103105412805,\n",
    " 0.14752620403304156,\n",
    " 0.17934963063459072]\n",
    "xMichael = [1, 2, 3, 4, 5, 6, 7]\n",
    "\n",
    "yPam = [0.12646200733098575,\n",
    " 0.1492545453559799,\n",
    " 0.14503987763110154,\n",
    " 0.1282694495675265,\n",
    " 0.11988353513139186,\n",
    " 0.16628993240150036,\n",
    " 0.1626092136049764,\n",
    " 0.18620567772281488,\n",
    " 0.1463259239646272]\n",
    "xPam = [1, 2, 3, 4, 5, 6, 7, 8, 9]\n",
    "\n"
   ]
  },
  {
   "cell_type": "code",
   "execution_count": 73,
   "metadata": {},
   "outputs": [
    {
     "data": {
      "image/png": "[encoded data removed]",
      "text/plain": [
       "<Figure size 720x576 with 1 Axes>"
      ]
     },
     "metadata": {
      "needs_background": "light"
     },
     "output_type": "display_data"
    }
   ],
   "source": [
    "plt.plot(xDwight, yDwight, label='Dwight')\n",
    "plt.plot(xAndy, yAndy, label='Andy')\n",
    "plt.plot(xJim, yJim, label='Jim')\n",
    "plt.plot(xMichael, yMichael, label='Michael')\n",
    "plt.plot(xPam, yPam, label='Pam')\n",
    "#\n",
    "plt.xlabel('Seasons')\n",
    "plt.ylabel('Polarity')\n",
    "plt.legend()\n",
    "plt.title(\"Characters sentiment over time\")\n",
    "plt.show()"
   ]
  },
  {
   "cell_type": "code",
   "execution_count": 76,
   "metadata": {},
   "outputs": [
    {
     "data": {
      "image/png": "[encoded data removed]",
      "text/plain": [
       "<Figure size 1152x864 with 1 Axes>"
      ]
     },
     "metadata": {
      "needs_background": "light"
     },
     "output_type": "display_data"
    }
   ],
   "source": [
    "plt.plot(xAndy, yAndy, label='Andy')\n",
    "plt.plot(xDwight, yDwight, label='Dwight')\n",
    "plt.plot(xJim, yJim, label='Jim')\n",
    "plt.plot(xMichael, yMichael, label='Michael')\n",
    "plt.plot(xPam, yPam, label='Pam')\n",
    "plt.xlabel('Seasons')\n",
    "plt.ylabel('Polarity')\n",
    "plt.legend()\n",
    "plt.title(\"Characters sentiment over time\")\n",
    "plt.show()"
   ]
  },
  {
   "cell_type": "markdown",
   "metadata": {},
   "source": [
    "## Topic Modeling"
   ]
  },
  {
   "cell_type": "code",
   "execution_count": 77,
   "metadata": {},
   "outputs": [
    {
     "data": {
      "text/html": [
       "<div>\n",
       "<style scoped>\n",
       "    .dataframe tbody tr th:only-of-type {\n",
       "        vertical-align: middle;\n",
       "    }\n",
       "\n",
       "    .dataframe tbody tr th {\n",
       "        vertical-align: top;\n",
       "    }\n",
       "\n",
       "    .dataframe thead th {\n",
       "        text-align: right;\n",
       "    }\n",
       "</style>\n",
       "<table border=\"1\" class=\"dataframe\">\n",
       "  <thead>\n",
       "    <tr style=\"text-align: right;\">\n",
       "      <th></th>\n",
       "      <th>abandon</th>\n",
       "      <th>abbey</th>\n",
       "      <th>abbi</th>\n",
       "      <th>abbrevi</th>\n",
       "      <th>abdomen</th>\n",
       "      <th>abduct</th>\n",
       "      <th>abercrombi</th>\n",
       "      <th>abil</th>\n",
       "      <th>abl</th>\n",
       "      <th>abnorm</th>\n",
       "      <th>...</th>\n",
       "      <th>zinger</th>\n",
       "      <th>zion</th>\n",
       "      <th>zip</th>\n",
       "      <th>zit</th>\n",
       "      <th>zombi</th>\n",
       "      <th>zone</th>\n",
       "      <th>zoo</th>\n",
       "      <th>zoom</th>\n",
       "      <th>zoran</th>\n",
       "      <th>zuckerberg</th>\n",
       "    </tr>\n",
       "  </thead>\n",
       "  <tbody>\n",
       "    <tr>\n",
       "      <th>Andy</th>\n",
       "      <td>1</td>\n",
       "      <td>0</td>\n",
       "      <td>0</td>\n",
       "      <td>0</td>\n",
       "      <td>0</td>\n",
       "      <td>0</td>\n",
       "      <td>0</td>\n",
       "      <td>0</td>\n",
       "      <td>4</td>\n",
       "      <td>0</td>\n",
       "      <td>...</td>\n",
       "      <td>0</td>\n",
       "      <td>0</td>\n",
       "      <td>0</td>\n",
       "      <td>0</td>\n",
       "      <td>0</td>\n",
       "      <td>2</td>\n",
       "      <td>0</td>\n",
       "      <td>0</td>\n",
       "      <td>0</td>\n",
       "      <td>0</td>\n",
       "    </tr>\n",
       "    <tr>\n",
       "      <th>Dwight</th>\n",
       "      <td>3</td>\n",
       "      <td>0</td>\n",
       "      <td>1</td>\n",
       "      <td>1</td>\n",
       "      <td>1</td>\n",
       "      <td>0</td>\n",
       "      <td>0</td>\n",
       "      <td>3</td>\n",
       "      <td>9</td>\n",
       "      <td>0</td>\n",
       "      <td>...</td>\n",
       "      <td>0</td>\n",
       "      <td>0</td>\n",
       "      <td>2</td>\n",
       "      <td>1</td>\n",
       "      <td>4</td>\n",
       "      <td>4</td>\n",
       "      <td>3</td>\n",
       "      <td>0</td>\n",
       "      <td>1</td>\n",
       "      <td>1</td>\n",
       "    </tr>\n",
       "    <tr>\n",
       "      <th>Jim</th>\n",
       "      <td>1</td>\n",
       "      <td>1</td>\n",
       "      <td>2</td>\n",
       "      <td>0</td>\n",
       "      <td>0</td>\n",
       "      <td>0</td>\n",
       "      <td>0</td>\n",
       "      <td>0</td>\n",
       "      <td>14</td>\n",
       "      <td>0</td>\n",
       "      <td>...</td>\n",
       "      <td>1</td>\n",
       "      <td>0</td>\n",
       "      <td>1</td>\n",
       "      <td>0</td>\n",
       "      <td>3</td>\n",
       "      <td>1</td>\n",
       "      <td>0</td>\n",
       "      <td>0</td>\n",
       "      <td>0</td>\n",
       "      <td>0</td>\n",
       "    </tr>\n",
       "    <tr>\n",
       "      <th>Michael</th>\n",
       "      <td>2</td>\n",
       "      <td>0</td>\n",
       "      <td>0</td>\n",
       "      <td>0</td>\n",
       "      <td>0</td>\n",
       "      <td>2</td>\n",
       "      <td>0</td>\n",
       "      <td>7</td>\n",
       "      <td>26</td>\n",
       "      <td>3</td>\n",
       "      <td>...</td>\n",
       "      <td>1</td>\n",
       "      <td>1</td>\n",
       "      <td>1</td>\n",
       "      <td>2</td>\n",
       "      <td>1</td>\n",
       "      <td>12</td>\n",
       "      <td>1</td>\n",
       "      <td>6</td>\n",
       "      <td>0</td>\n",
       "      <td>0</td>\n",
       "    </tr>\n",
       "    <tr>\n",
       "      <th>Pam</th>\n",
       "      <td>2</td>\n",
       "      <td>1</td>\n",
       "      <td>2</td>\n",
       "      <td>0</td>\n",
       "      <td>0</td>\n",
       "      <td>0</td>\n",
       "      <td>1</td>\n",
       "      <td>0</td>\n",
       "      <td>6</td>\n",
       "      <td>0</td>\n",
       "      <td>...</td>\n",
       "      <td>0</td>\n",
       "      <td>0</td>\n",
       "      <td>1</td>\n",
       "      <td>0</td>\n",
       "      <td>0</td>\n",
       "      <td>0</td>\n",
       "      <td>0</td>\n",
       "      <td>0</td>\n",
       "      <td>0</td>\n",
       "      <td>0</td>\n",
       "    </tr>\n",
       "  </tbody>\n",
       "</table>\n",
       "<p>5 rows × 10890 columns</p>\n",
       "</div>"
      ],
      "text/plain": [
       "         abandon  abbey  abbi  abbrevi  abdomen  abduct  abercrombi  abil  \\\n",
       "Andy           1      0     0        0        0       0           0     0   \n",
       "Dwight         3      0     1        1        1       0           0     3   \n",
       "Jim            1      1     2        0        0       0           0     0   \n",
       "Michael        2      0     0        0        0       2           0     7   \n",
       "Pam            2      1     2        0        0       0           1     0   \n",
       "\n",
       "         abl  abnorm  ...  zinger  zion  zip  zit  zombi  zone  zoo  zoom  \\\n",
       "Andy       4       0  ...       0     0    0    0      0     2    0     0   \n",
       "Dwight     9       0  ...       0     0    2    1      4     4    3     0   \n",
       "Jim       14       0  ...       1     0    1    0      3     1    0     0   \n",
       "Michael   26       3  ...       1     1    1    2      1    12    1     6   \n",
       "Pam        6       0  ...       0     0    1    0      0     0    0     0   \n",
       "\n",
       "         zoran  zuckerberg  \n",
       "Andy         0           0  \n",
       "Dwight       1           1  \n",
       "Jim          0           0  \n",
       "Michael      0           0  \n",
       "Pam          0           0  \n",
       "\n",
       "[5 rows x 10890 columns]"
      ]
     },
     "execution_count": 77,
     "metadata": {},
     "output_type": "execute_result"
    }
   ],
   "source": [
    "# Let's read in our document-term matrix\n",
    "import pandas as pd\n",
    "import pickle\n",
    "\n",
    "data = pd.read_pickle('pickle/dtm_stop.pkl')\n",
    "data"
   ]
  },
  {
   "cell_type": "code",
   "execution_count": 78,
   "metadata": {},
   "outputs": [],
   "source": [
    "# Import the necessary modules for LDA with gensim\n",
    "# Terminal / Anaconda Navigator: conda install -c conda-forge gensim\n",
    "from gensim import matutils, models\n",
    "import scipy.sparse\n",
    "\n",
    "# import logging\n",
    "# logging.basicConfig(format='%(asctime)s : %(levelname)s : %(message)s', level=logging.INFO)"
   ]
  },
  {
   "cell_type": "code",
   "execution_count": 79,
   "metadata": {},
   "outputs": [
    {
     "data": {
      "text/html": [
       "<div>\n",
       "<style scoped>\n",
       "    .dataframe tbody tr th:only-of-type {\n",
       "        vertical-align: middle;\n",
       "    }\n",
       "\n",
       "    .dataframe tbody tr th {\n",
       "        vertical-align: top;\n",
       "    }\n",
       "\n",
       "    .dataframe thead th {\n",
       "        text-align: right;\n",
       "    }\n",
       "</style>\n",
       "<table border=\"1\" class=\"dataframe\">\n",
       "  <thead>\n",
       "    <tr style=\"text-align: right;\">\n",
       "      <th></th>\n",
       "      <th>Andy</th>\n",
       "      <th>Dwight</th>\n",
       "      <th>Jim</th>\n",
       "      <th>Michael</th>\n",
       "      <th>Pam</th>\n",
       "    </tr>\n",
       "  </thead>\n",
       "  <tbody>\n",
       "    <tr>\n",
       "      <th>abandon</th>\n",
       "      <td>1</td>\n",
       "      <td>3</td>\n",
       "      <td>1</td>\n",
       "      <td>2</td>\n",
       "      <td>2</td>\n",
       "    </tr>\n",
       "    <tr>\n",
       "      <th>abbey</th>\n",
       "      <td>0</td>\n",
       "      <td>0</td>\n",
       "      <td>1</td>\n",
       "      <td>0</td>\n",
       "      <td>1</td>\n",
       "    </tr>\n",
       "    <tr>\n",
       "      <th>abbi</th>\n",
       "      <td>0</td>\n",
       "      <td>1</td>\n",
       "      <td>2</td>\n",
       "      <td>0</td>\n",
       "      <td>2</td>\n",
       "    </tr>\n",
       "    <tr>\n",
       "      <th>abbrevi</th>\n",
       "      <td>0</td>\n",
       "      <td>1</td>\n",
       "      <td>0</td>\n",
       "      <td>0</td>\n",
       "      <td>0</td>\n",
       "    </tr>\n",
       "    <tr>\n",
       "      <th>abdomen</th>\n",
       "      <td>0</td>\n",
       "      <td>1</td>\n",
       "      <td>0</td>\n",
       "      <td>0</td>\n",
       "      <td>0</td>\n",
       "    </tr>\n",
       "  </tbody>\n",
       "</table>\n",
       "</div>"
      ],
      "text/plain": [
       "         Andy  Dwight  Jim  Michael  Pam\n",
       "abandon     1       3    1        2    2\n",
       "abbey       0       0    1        0    1\n",
       "abbi        0       1    2        0    2\n",
       "abbrevi     0       1    0        0    0\n",
       "abdomen     0       1    0        0    0"
      ]
     },
     "execution_count": 79,
     "metadata": {},
     "output_type": "execute_result"
    }
   ],
   "source": [
    "tdm = data.transpose()\n",
    "tdm.head()"
   ]
  },
  {
   "cell_type": "code",
   "execution_count": 80,
   "metadata": {},
   "outputs": [],
   "source": [
    "# We're going to put the term-document matrix into a new gensim format, from df --> sparse matrix --> gensim corpus\n",
    "sparse_counts = scipy.sparse.csr_matrix(tdm)\n",
    "corpus = matutils.Sparse2Corpus(sparse_counts)"
   ]
  },
  {
   "cell_type": "code",
   "execution_count": 81,
   "metadata": {},
   "outputs": [],
   "source": [
    "# Gensim also requires dictionary of the all terms and their respective location in the term-document matrix\n",
    "cv = pickle.load(open(\"pickle/cv_stop.pkl\", \"rb\"))\n",
    "id2word = dict((v, k) for k, v in cv.vocabulary_.items())"
   ]
  },
  {
   "cell_type": "markdown",
   "metadata": {},
   "source": [
    "Now that we have the corpus (term-document matrix) and id2word (dictionary of location: term), we need to specify two other parameters - the number of topics and the number of passes. Let's start the number of topics at 2, see if the results make sense, and increase the number from there."
   ]
  },
  {
   "cell_type": "code",
   "execution_count": 82,
   "metadata": {},
   "outputs": [
    {
     "data": {
      "text/plain": [
       "[(0,\n",
       "  '0.008*\"yes\" + 0.007*\"guy\" + 0.007*\"let\" + 0.007*\"dwight\" + 0.007*\"becaus\" + 0.006*\"look\" + 0.006*\"need\" + 0.006*\"peopl\" + 0.006*\"pam\" + 0.006*\"whi\"'),\n",
       " (1,\n",
       "  '0.011*\"michael\" + 0.008*\"jim\" + 0.007*\"dwight\" + 0.007*\"let\" + 0.006*\"yes\" + 0.006*\"got\" + 0.005*\"look\" + 0.005*\"make\" + 0.005*\"need\" + 0.005*\"becaus\"')]"
      ]
     },
     "execution_count": 82,
     "metadata": {},
     "output_type": "execute_result"
    }
   ],
   "source": [
    "# Now that we have the corpus (term-document matrix) and id2word (dictionary of location: term),\n",
    "# we need to specify two other parameters as well - the number of topics and the number of passes\n",
    "lda = models.LdaModel(corpus=corpus, id2word=id2word, num_topics=2, passes=10)\n",
    "lda.print_topics()"
   ]
  },
  {
   "cell_type": "code",
   "execution_count": 83,
   "metadata": {},
   "outputs": [
    {
     "data": {
      "text/plain": [
       "[(0,\n",
       "  '0.008*\"guy\" + 0.006*\"got\" + 0.005*\"need\" + 0.005*\"mean\" + 0.005*\"yes\" + 0.004*\"great\" + 0.004*\"dwight\" + 0.004*\"look\" + 0.004*\"work\" + 0.004*\"talk\"'),\n",
       " (1,\n",
       "  '0.008*\"yes\" + 0.008*\"let\" + 0.006*\"jim\" + 0.006*\"look\" + 0.006*\"need\" + 0.006*\"becaus\" + 0.006*\"guy\" + 0.006*\"dwight\" + 0.006*\"make\" + 0.005*\"michael\"'),\n",
       " (2,\n",
       "  '0.012*\"michael\" + 0.011*\"dwight\" + 0.007*\"mean\" + 0.007*\"great\" + 0.007*\"pam\" + 0.007*\"becaus\" + 0.006*\"jim\" + 0.006*\"let\" + 0.006*\"yes\" + 0.006*\"look\"')]"
      ]
     },
     "execution_count": 83,
     "metadata": {},
     "output_type": "execute_result"
    }
   ],
   "source": [
    "# LDA for num_topics = 3\n",
    "lda = models.LdaModel(corpus=corpus, id2word=id2word, num_topics=3, passes=10)\n",
    "lda.print_topics()"
   ]
  },
  {
   "cell_type": "code",
   "execution_count": 84,
   "metadata": {},
   "outputs": [
    {
     "data": {
      "text/plain": [
       "[(0,\n",
       "  '0.010*\"michael\" + 0.008*\"dwight\" + 0.008*\"let\" + 0.007*\"jim\" + 0.006*\"yes\" + 0.006*\"got\" + 0.006*\"pam\" + 0.006*\"look\" + 0.006*\"need\" + 0.005*\"make\"'),\n",
       " (1,\n",
       "  '0.009*\"michael\" + 0.008*\"jim\" + 0.008*\"guy\" + 0.007*\"mean\" + 0.006*\"got\" + 0.006*\"great\" + 0.006*\"dwight\" + 0.005*\"need\" + 0.005*\"yes\" + 0.005*\"tell\"'),\n",
       " (2,\n",
       "  '0.001*\"yes\" + 0.001*\"becaus\" + 0.001*\"michael\" + 0.001*\"dwight\" + 0.001*\"whi\" + 0.001*\"jim\" + 0.001*\"peopl\" + 0.001*\"got\" + 0.001*\"let\" + 0.001*\"day\"'),\n",
       " (3,\n",
       "  '0.009*\"yes\" + 0.008*\"let\" + 0.007*\"becaus\" + 0.007*\"guy\" + 0.007*\"dwight\" + 0.007*\"look\" + 0.006*\"pam\" + 0.006*\"peopl\" + 0.006*\"whi\" + 0.006*\"need\"')]"
      ]
     },
     "execution_count": 84,
     "metadata": {},
     "output_type": "execute_result"
    }
   ],
   "source": [
    "# LDA for num_topics = 4\n",
    "lda = models.LdaModel(corpus=corpus, id2word=id2word, num_topics=4, passes=10)\n",
    "lda.print_topics()"
   ]
  },
  {
   "cell_type": "markdown",
   "metadata": {},
   "source": [
    "### Attempt 2\n",
    "These topics aren't looking too great. We've tried modifying our parameters. Let's try modifying our terms list as well."
   ]
  },
  {
   "cell_type": "code",
   "execution_count": 85,
   "metadata": {},
   "outputs": [],
   "source": [
    "# Let's create a function to pull out nouns from a string of text\n",
    "from nltk import word_tokenize, pos_tag\n",
    "\n",
    "def nouns(text):\n",
    "    '''Given a string of text, tokenize the text and pull out only the nouns.'''\n",
    "    is_noun = lambda pos: pos[:2] == 'NN'\n",
    "    tokenized = word_tokenize(text)\n",
    "    all_nouns = [word for (word, pos) in pos_tag(tokenized) if is_noun(pos)] \n",
    "    return ' '.join(all_nouns)"
   ]
  },
  {
   "cell_type": "code",
   "execution_count": 86,
   "metadata": {},
   "outputs": [],
   "source": [
    "# Read in the cleaned data, before the CountVectorizer step\n",
    "#data_clean = pd.read_pickle('pickle/lines_clean.pkl')\n",
    "data_clean = lines_clean"
   ]
  },
  {
   "cell_type": "code",
   "execution_count": 87,
   "metadata": {},
   "outputs": [
    {
     "data": {
      "text/html": [
       "<div>\n",
       "<style scoped>\n",
       "    .dataframe tbody tr th:only-of-type {\n",
       "        vertical-align: middle;\n",
       "    }\n",
       "\n",
       "    .dataframe tbody tr th {\n",
       "        vertical-align: top;\n",
       "    }\n",
       "\n",
       "    .dataframe thead th {\n",
       "        text-align: right;\n",
       "    }\n",
       "</style>\n",
       "<table border=\"1\" class=\"dataframe\">\n",
       "  <thead>\n",
       "    <tr style=\"text-align: right;\">\n",
       "      <th></th>\n",
       "      <th>lines</th>\n",
       "    </tr>\n",
       "  </thead>\n",
       "  <tbody>\n",
       "    <tr>\n",
       "      <th>Andy</th>\n",
       "      <td>robert i winner loser talk oh think im i time talk thing wors peopl inform job region manag pen list list hes grump sale number anyon offic hes he...</td>\n",
       "    </tr>\n",
       "    <tr>\n",
       "      <th>Dwight</th>\n",
       "      <td>play pump pum i gift pump pum whassup desk i concentr spill word syllabl demarc violat i downsiz downsiz i problem i downsiz sinc i interview i re...</td>\n",
       "    </tr>\n",
       "    <tr>\n",
       "      <th>Jim</th>\n",
       "      <td>oh i job client phone quantiti type paper whassup i year take care mr davi someth minut dwight desk whi thing i inform head price manila folder pa...</td>\n",
       "    </tr>\n",
       "    <tr>\n",
       "      <th>Michael</th>\n",
       "      <td>jim quarter look thing librari master guidanc id pleas scott i region manag dunder mifflin paper product manger deal thank gentleman scholar oh im...</td>\n",
       "    </tr>\n",
       "    <tr>\n",
       "      <th>Pam</th>\n",
       "      <td>yeah fax garbag file cabinet i import question cat parti sunday scott i thing i dream receptionist i watercolor oil pencil jim dunder mifflin mess...</td>\n",
       "    </tr>\n",
       "  </tbody>\n",
       "</table>\n",
       "</div>"
      ],
      "text/plain": [
       "                                                                                                                                                         lines\n",
       "Andy     robert i winner loser talk oh think im i time talk thing wors peopl inform job region manag pen list list hes grump sale number anyon offic hes he...\n",
       "Dwight   play pump pum i gift pump pum whassup desk i concentr spill word syllabl demarc violat i downsiz downsiz i problem i downsiz sinc i interview i re...\n",
       "Jim      oh i job client phone quantiti type paper whassup i year take care mr davi someth minut dwight desk whi thing i inform head price manila folder pa...\n",
       "Michael  jim quarter look thing librari master guidanc id pleas scott i region manag dunder mifflin paper product manger deal thank gentleman scholar oh im...\n",
       "Pam      yeah fax garbag file cabinet i import question cat parti sunday scott i thing i dream receptionist i watercolor oil pencil jim dunder mifflin mess..."
      ]
     },
     "execution_count": 87,
     "metadata": {},
     "output_type": "execute_result"
    }
   ],
   "source": [
    "# Apply the nouns function to the transcripts to filter only on nouns\n",
    "data_nouns = pd.DataFrame(lines_clean.lines.apply(nouns))\n",
    "data_nouns"
   ]
  },
  {
   "cell_type": "code",
   "execution_count": 88,
   "metadata": {},
   "outputs": [
    {
     "data": {
      "text/html": [
       "<div>\n",
       "<style scoped>\n",
       "    .dataframe tbody tr th:only-of-type {\n",
       "        vertical-align: middle;\n",
       "    }\n",
       "\n",
       "    .dataframe tbody tr th {\n",
       "        vertical-align: top;\n",
       "    }\n",
       "\n",
       "    .dataframe thead th {\n",
       "        text-align: right;\n",
       "    }\n",
       "</style>\n",
       "<table border=\"1\" class=\"dataframe\">\n",
       "  <thead>\n",
       "    <tr style=\"text-align: right;\">\n",
       "      <th></th>\n",
       "      <th>abandon</th>\n",
       "      <th>abbey</th>\n",
       "      <th>abbi</th>\n",
       "      <th>abbrevi</th>\n",
       "      <th>abdomen</th>\n",
       "      <th>abercrombi</th>\n",
       "      <th>abil</th>\n",
       "      <th>abl</th>\n",
       "      <th>abnorm</th>\n",
       "      <th>aboard</th>\n",
       "      <th>...</th>\n",
       "      <th>zinger</th>\n",
       "      <th>zion</th>\n",
       "      <th>zip</th>\n",
       "      <th>zit</th>\n",
       "      <th>zombi</th>\n",
       "      <th>zone</th>\n",
       "      <th>zoo</th>\n",
       "      <th>zoom</th>\n",
       "      <th>zoran</th>\n",
       "      <th>zuckerberg</th>\n",
       "    </tr>\n",
       "  </thead>\n",
       "  <tbody>\n",
       "    <tr>\n",
       "      <th>Andy</th>\n",
       "      <td>0</td>\n",
       "      <td>0</td>\n",
       "      <td>0</td>\n",
       "      <td>0</td>\n",
       "      <td>0</td>\n",
       "      <td>0</td>\n",
       "      <td>0</td>\n",
       "      <td>0</td>\n",
       "      <td>0</td>\n",
       "      <td>0</td>\n",
       "      <td>...</td>\n",
       "      <td>0</td>\n",
       "      <td>0</td>\n",
       "      <td>0</td>\n",
       "      <td>0</td>\n",
       "      <td>0</td>\n",
       "      <td>2</td>\n",
       "      <td>0</td>\n",
       "      <td>0</td>\n",
       "      <td>0</td>\n",
       "      <td>0</td>\n",
       "    </tr>\n",
       "    <tr>\n",
       "      <th>Dwight</th>\n",
       "      <td>0</td>\n",
       "      <td>0</td>\n",
       "      <td>0</td>\n",
       "      <td>1</td>\n",
       "      <td>1</td>\n",
       "      <td>0</td>\n",
       "      <td>3</td>\n",
       "      <td>0</td>\n",
       "      <td>0</td>\n",
       "      <td>0</td>\n",
       "      <td>...</td>\n",
       "      <td>0</td>\n",
       "      <td>0</td>\n",
       "      <td>0</td>\n",
       "      <td>1</td>\n",
       "      <td>4</td>\n",
       "      <td>2</td>\n",
       "      <td>3</td>\n",
       "      <td>0</td>\n",
       "      <td>1</td>\n",
       "      <td>1</td>\n",
       "    </tr>\n",
       "    <tr>\n",
       "      <th>Jim</th>\n",
       "      <td>1</td>\n",
       "      <td>1</td>\n",
       "      <td>1</td>\n",
       "      <td>0</td>\n",
       "      <td>0</td>\n",
       "      <td>0</td>\n",
       "      <td>0</td>\n",
       "      <td>0</td>\n",
       "      <td>0</td>\n",
       "      <td>0</td>\n",
       "      <td>...</td>\n",
       "      <td>1</td>\n",
       "      <td>0</td>\n",
       "      <td>1</td>\n",
       "      <td>0</td>\n",
       "      <td>2</td>\n",
       "      <td>1</td>\n",
       "      <td>0</td>\n",
       "      <td>0</td>\n",
       "      <td>0</td>\n",
       "      <td>0</td>\n",
       "    </tr>\n",
       "    <tr>\n",
       "      <th>Michael</th>\n",
       "      <td>0</td>\n",
       "      <td>0</td>\n",
       "      <td>0</td>\n",
       "      <td>0</td>\n",
       "      <td>0</td>\n",
       "      <td>0</td>\n",
       "      <td>6</td>\n",
       "      <td>3</td>\n",
       "      <td>3</td>\n",
       "      <td>1</td>\n",
       "      <td>...</td>\n",
       "      <td>1</td>\n",
       "      <td>1</td>\n",
       "      <td>1</td>\n",
       "      <td>1</td>\n",
       "      <td>1</td>\n",
       "      <td>8</td>\n",
       "      <td>1</td>\n",
       "      <td>3</td>\n",
       "      <td>0</td>\n",
       "      <td>0</td>\n",
       "    </tr>\n",
       "    <tr>\n",
       "      <th>Pam</th>\n",
       "      <td>0</td>\n",
       "      <td>0</td>\n",
       "      <td>0</td>\n",
       "      <td>0</td>\n",
       "      <td>0</td>\n",
       "      <td>1</td>\n",
       "      <td>0</td>\n",
       "      <td>0</td>\n",
       "      <td>0</td>\n",
       "      <td>0</td>\n",
       "      <td>...</td>\n",
       "      <td>0</td>\n",
       "      <td>0</td>\n",
       "      <td>1</td>\n",
       "      <td>0</td>\n",
       "      <td>0</td>\n",
       "      <td>0</td>\n",
       "      <td>0</td>\n",
       "      <td>0</td>\n",
       "      <td>0</td>\n",
       "      <td>0</td>\n",
       "    </tr>\n",
       "  </tbody>\n",
       "</table>\n",
       "<p>5 rows × 8140 columns</p>\n",
       "</div>"
      ],
      "text/plain": [
       "         abandon  abbey  abbi  abbrevi  abdomen  abercrombi  abil  abl  \\\n",
       "Andy           0      0     0        0        0           0     0    0   \n",
       "Dwight         0      0     0        1        1           0     3    0   \n",
       "Jim            1      1     1        0        0           0     0    0   \n",
       "Michael        0      0     0        0        0           0     6    3   \n",
       "Pam            0      0     0        0        0           1     0    0   \n",
       "\n",
       "         abnorm  aboard  ...  zinger  zion  zip  zit  zombi  zone  zoo  zoom  \\\n",
       "Andy          0       0  ...       0     0    0    0      0     2    0     0   \n",
       "Dwight        0       0  ...       0     0    0    1      4     2    3     0   \n",
       "Jim           0       0  ...       1     0    1    0      2     1    0     0   \n",
       "Michael       3       1  ...       1     1    1    1      1     8    1     3   \n",
       "Pam           0       0  ...       0     0    1    0      0     0    0     0   \n",
       "\n",
       "         zoran  zuckerberg  \n",
       "Andy         0           0  \n",
       "Dwight       1           1  \n",
       "Jim          0           0  \n",
       "Michael      0           0  \n",
       "Pam          0           0  \n",
       "\n",
       "[5 rows x 8140 columns]"
      ]
     },
     "execution_count": 88,
     "metadata": {},
     "output_type": "execute_result"
    }
   ],
   "source": [
    "# Create a new document-term matrix using only nouns\n",
    "from sklearn.feature_extraction import text\n",
    "from sklearn.feature_extraction.text import CountVectorizer\n",
    "\n",
    "# Re-add the additional stop words since we are recreating the document-term matrix\n",
    "add_stop_words = ['like', 'im', 'know', 'just', 'dont', 'thats', 'right', 'people',\n",
    "                  'youre', 'got', 'gonna', 'time', 'think', 'yeah', 'said']\n",
    "stop_words = text.ENGLISH_STOP_WORDS.union(add_stop_words + newStopWords)\n",
    "\n",
    "# Recreate a document-term matrix with only nouns\n",
    "cvn = CountVectorizer(stop_words=stop_words)\n",
    "data_cvn = cvn.fit_transform(data_nouns.lines)\n",
    "data_dtmn = pd.DataFrame(data_cvn.toarray(), columns=cvn.get_feature_names())\n",
    "data_dtmn.index = data_nouns.index\n",
    "data_dtmn"
   ]
  },
  {
   "cell_type": "code",
   "execution_count": 89,
   "metadata": {},
   "outputs": [],
   "source": [
    "# Create the gensim corpus\n",
    "corpusn = matutils.Sparse2Corpus(scipy.sparse.csr_matrix(data_dtmn.transpose()))\n",
    "\n",
    "# Create the vocabulary dictionary\n",
    "id2wordn = dict((v, k) for k, v in cvn.vocabulary_.items())"
   ]
  },
  {
   "cell_type": "code",
   "execution_count": 90,
   "metadata": {},
   "outputs": [
    {
     "data": {
      "text/plain": [
       "[(0,\n",
       "  '0.010*\"hey\" + 0.010*\"thing\" + 0.007*\"jim\" + 0.007*\"day\" + 0.007*\"guy\" + 0.007*\"pam\" + 0.007*\"michael\" + 0.007*\"man\" + 0.007*\"way\" + 0.006*\"becaus\"'),\n",
       " (1,\n",
       "  '0.012*\"hey\" + 0.011*\"jim\" + 0.010*\"michael\" + 0.008*\"thing\" + 0.007*\"thank\" + 0.007*\"day\" + 0.006*\"guy\" + 0.006*\"hes\" + 0.005*\"way\" + 0.005*\"lot\"')]"
      ]
     },
     "execution_count": 90,
     "metadata": {},
     "output_type": "execute_result"
    }
   ],
   "source": [
    "# Let's start with 2 topics\n",
    "ldan = models.LdaModel(corpus=corpusn, num_topics=2, id2word=id2wordn, passes=10)\n",
    "ldan.print_topics()"
   ]
  },
  {
   "cell_type": "code",
   "execution_count": 91,
   "metadata": {},
   "outputs": [
    {
     "data": {
      "text/plain": [
       "[(0,\n",
       "  '0.011*\"michael\" + 0.010*\"hey\" + 0.010*\"jim\" + 0.010*\"thing\" + 0.007*\"way\" + 0.007*\"thank\" + 0.007*\"man\" + 0.006*\"day\" + 0.006*\"guy\" + 0.006*\"gon\"'),\n",
       " (1,\n",
       "  '0.001*\"hey\" + 0.001*\"thing\" + 0.001*\"guy\" + 0.001*\"becaus\" + 0.001*\"man\" + 0.001*\"whi\" + 0.001*\"pam\" + 0.001*\"way\" + 0.001*\"jim\" + 0.001*\"day\"'),\n",
       " (2,\n",
       "  '0.012*\"hey\" + 0.011*\"thing\" + 0.008*\"day\" + 0.008*\"guy\" + 0.008*\"peopl\" + 0.008*\"becaus\" + 0.007*\"jim\" + 0.007*\"pam\" + 0.007*\"way\" + 0.006*\"thank\"')]"
      ]
     },
     "execution_count": 91,
     "metadata": {},
     "output_type": "execute_result"
    }
   ],
   "source": [
    "# Let's try topics = 3\n",
    "ldan = models.LdaModel(corpus=corpusn, num_topics=3, id2word=id2wordn, passes=10)\n",
    "ldan.print_topics()"
   ]
  },
  {
   "cell_type": "code",
   "execution_count": 92,
   "metadata": {},
   "outputs": [
    {
     "data": {
      "text/plain": [
       "[(0,\n",
       "  '0.010*\"thing\" + 0.009*\"hey\" + 0.009*\"jim\" + 0.007*\"guy\" + 0.007*\"peopl\" + 0.007*\"way\" + 0.007*\"day\" + 0.007*\"man\" + 0.006*\"pam\" + 0.006*\"becaus\"'),\n",
       " (1,\n",
       "  '0.017*\"hey\" + 0.014*\"michael\" + 0.011*\"thing\" + 0.009*\"day\" + 0.009*\"dwight\" + 0.009*\"thank\" + 0.009*\"jim\" + 0.008*\"realli\" + 0.007*\"becaus\" + 0.007*\"way\"'),\n",
       " (2,\n",
       "  '0.001*\"thing\" + 0.001*\"hey\" + 0.001*\"jim\" + 0.000*\"way\" + 0.000*\"day\" + 0.000*\"thank\" + 0.000*\"michael\" + 0.000*\"guy\" + 0.000*\"realli\" + 0.000*\"gon\"'),\n",
       " (3,\n",
       "  '0.010*\"guy\" + 0.008*\"thing\" + 0.007*\"hey\" + 0.006*\"day\" + 0.006*\"thank\" + 0.005*\"work\" + 0.004*\"becaus\" + 0.004*\"way\" + 0.004*\"lot\" + 0.004*\"gon\"')]"
      ]
     },
     "execution_count": 92,
     "metadata": {},
     "output_type": "execute_result"
    }
   ],
   "source": [
    "# Let's try 4 topics\n",
    "ldan = models.LdaModel(corpus=corpusn, num_topics=4, id2word=id2wordn, passes=10)\n",
    "ldan.print_topics()"
   ]
  },
  {
   "cell_type": "markdown",
   "metadata": {},
   "source": [
    "### Attempt 3"
   ]
  },
  {
   "cell_type": "code",
   "execution_count": 93,
   "metadata": {},
   "outputs": [],
   "source": [
    "# Let's create a function to pull out nouns from a string of text\n",
    "def nouns_adj(text):\n",
    "    '''Given a string of text, tokenize the text and pull out only the nouns and adjectives.'''\n",
    "    is_noun_adj = lambda pos: pos[:2] == 'NN' or pos[:2] == 'JJ'\n",
    "    tokenized = word_tokenize(text)\n",
    "    nouns_adj = [word for (word, pos) in pos_tag(tokenized) if is_noun_adj(pos)] \n",
    "    return ' '.join(nouns_adj)"
   ]
  },
  {
   "cell_type": "code",
   "execution_count": 94,
   "metadata": {},
   "outputs": [
    {
     "data": {
      "text/html": [
       "<div>\n",
       "<style scoped>\n",
       "    .dataframe tbody tr th:only-of-type {\n",
       "        vertical-align: middle;\n",
       "    }\n",
       "\n",
       "    .dataframe tbody tr th {\n",
       "        vertical-align: top;\n",
       "    }\n",
       "\n",
       "    .dataframe thead th {\n",
       "        text-align: right;\n",
       "    }\n",
       "</style>\n",
       "<table border=\"1\" class=\"dataframe\">\n",
       "  <thead>\n",
       "    <tr style=\"text-align: right;\">\n",
       "      <th></th>\n",
       "      <th>lines</th>\n",
       "    </tr>\n",
       "  </thead>\n",
       "  <tbody>\n",
       "    <tr>\n",
       "      <th>Andy</th>\n",
       "      <td>robert i winner loser talk oh actual im think im i everi time i talk thing wors peopl i faulti inform job region manag pleas pen list new list hes...</td>\n",
       "    </tr>\n",
       "    <tr>\n",
       "      <th>Dwight</th>\n",
       "      <td>play rum pump um pum i gift rum pump um pum whassup clear desk i concentr spill edg word syllabl demarc violat i organ downsiz downsiz i problem i...</td>\n",
       "    </tr>\n",
       "    <tr>\n",
       "      <th>Jim</th>\n",
       "      <td>oh i close actual job client phone uh quantiti type copier paper bore whassup i year right take care ridicul sure mr davi right someth minut much ...</td>\n",
       "    </tr>\n",
       "    <tr>\n",
       "      <th>Michael</th>\n",
       "      <td>right jim quarter look good thing librari master guidanc id offic manag pleas michael scott i region manag dunder mifflin paper product manger rig...</td>\n",
       "    </tr>\n",
       "    <tr>\n",
       "      <th>Pam</th>\n",
       "      <td>i uh yeah fax uh garbag special file cabinet i import question cat parti sunday mr scott i worst thing i dont littl girl dream receptionist i most...</td>\n",
       "    </tr>\n",
       "  </tbody>\n",
       "</table>\n",
       "</div>"
      ],
      "text/plain": [
       "                                                                                                                                                         lines\n",
       "Andy     robert i winner loser talk oh actual im think im i everi time i talk thing wors peopl i faulti inform job region manag pleas pen list new list hes...\n",
       "Dwight   play rum pump um pum i gift rum pump um pum whassup clear desk i concentr spill edg word syllabl demarc violat i organ downsiz downsiz i problem i...\n",
       "Jim      oh i close actual job client phone uh quantiti type copier paper bore whassup i year right take care ridicul sure mr davi right someth minut much ...\n",
       "Michael  right jim quarter look good thing librari master guidanc id offic manag pleas michael scott i region manag dunder mifflin paper product manger rig...\n",
       "Pam      i uh yeah fax uh garbag special file cabinet i import question cat parti sunday mr scott i worst thing i dont littl girl dream receptionist i most..."
      ]
     },
     "execution_count": 94,
     "metadata": {},
     "output_type": "execute_result"
    }
   ],
   "source": [
    "# Apply the nouns function to the transcripts to filter only on nouns\n",
    "data_nouns_adj = pd.DataFrame(data_clean.lines.apply(nouns_adj))\n",
    "data_nouns_adj"
   ]
  },
  {
   "cell_type": "code",
   "execution_count": 95,
   "metadata": {},
   "outputs": [
    {
     "data": {
      "text/html": [
       "<div>\n",
       "<style scoped>\n",
       "    .dataframe tbody tr th:only-of-type {\n",
       "        vertical-align: middle;\n",
       "    }\n",
       "\n",
       "    .dataframe tbody tr th {\n",
       "        vertical-align: top;\n",
       "    }\n",
       "\n",
       "    .dataframe thead th {\n",
       "        text-align: right;\n",
       "    }\n",
       "</style>\n",
       "<table border=\"1\" class=\"dataframe\">\n",
       "  <thead>\n",
       "    <tr style=\"text-align: right;\">\n",
       "      <th></th>\n",
       "      <th>abandon</th>\n",
       "      <th>abbey</th>\n",
       "      <th>abbi</th>\n",
       "      <th>abbrevi</th>\n",
       "      <th>abdomen</th>\n",
       "      <th>abercrombi</th>\n",
       "      <th>abil</th>\n",
       "      <th>abnorm</th>\n",
       "      <th>aboard</th>\n",
       "      <th>abod</th>\n",
       "      <th>...</th>\n",
       "      <th>zinger</th>\n",
       "      <th>zion</th>\n",
       "      <th>zip</th>\n",
       "      <th>zit</th>\n",
       "      <th>zombi</th>\n",
       "      <th>zone</th>\n",
       "      <th>zoo</th>\n",
       "      <th>zoom</th>\n",
       "      <th>zoran</th>\n",
       "      <th>zuckerberg</th>\n",
       "    </tr>\n",
       "  </thead>\n",
       "  <tbody>\n",
       "    <tr>\n",
       "      <th>Andy</th>\n",
       "      <td>0</td>\n",
       "      <td>0</td>\n",
       "      <td>0</td>\n",
       "      <td>0</td>\n",
       "      <td>0</td>\n",
       "      <td>0</td>\n",
       "      <td>0</td>\n",
       "      <td>0</td>\n",
       "      <td>0</td>\n",
       "      <td>0</td>\n",
       "      <td>...</td>\n",
       "      <td>0</td>\n",
       "      <td>0</td>\n",
       "      <td>0</td>\n",
       "      <td>0</td>\n",
       "      <td>0</td>\n",
       "      <td>2</td>\n",
       "      <td>0</td>\n",
       "      <td>0</td>\n",
       "      <td>0</td>\n",
       "      <td>0</td>\n",
       "    </tr>\n",
       "    <tr>\n",
       "      <th>Dwight</th>\n",
       "      <td>0</td>\n",
       "      <td>0</td>\n",
       "      <td>0</td>\n",
       "      <td>1</td>\n",
       "      <td>1</td>\n",
       "      <td>0</td>\n",
       "      <td>3</td>\n",
       "      <td>0</td>\n",
       "      <td>0</td>\n",
       "      <td>0</td>\n",
       "      <td>...</td>\n",
       "      <td>0</td>\n",
       "      <td>0</td>\n",
       "      <td>0</td>\n",
       "      <td>1</td>\n",
       "      <td>4</td>\n",
       "      <td>2</td>\n",
       "      <td>3</td>\n",
       "      <td>0</td>\n",
       "      <td>1</td>\n",
       "      <td>1</td>\n",
       "    </tr>\n",
       "    <tr>\n",
       "      <th>Jim</th>\n",
       "      <td>1</td>\n",
       "      <td>1</td>\n",
       "      <td>1</td>\n",
       "      <td>0</td>\n",
       "      <td>0</td>\n",
       "      <td>0</td>\n",
       "      <td>0</td>\n",
       "      <td>0</td>\n",
       "      <td>0</td>\n",
       "      <td>0</td>\n",
       "      <td>...</td>\n",
       "      <td>1</td>\n",
       "      <td>0</td>\n",
       "      <td>1</td>\n",
       "      <td>0</td>\n",
       "      <td>3</td>\n",
       "      <td>1</td>\n",
       "      <td>0</td>\n",
       "      <td>0</td>\n",
       "      <td>0</td>\n",
       "      <td>0</td>\n",
       "    </tr>\n",
       "    <tr>\n",
       "      <th>Michael</th>\n",
       "      <td>1</td>\n",
       "      <td>0</td>\n",
       "      <td>0</td>\n",
       "      <td>0</td>\n",
       "      <td>0</td>\n",
       "      <td>0</td>\n",
       "      <td>6</td>\n",
       "      <td>3</td>\n",
       "      <td>1</td>\n",
       "      <td>1</td>\n",
       "      <td>...</td>\n",
       "      <td>1</td>\n",
       "      <td>1</td>\n",
       "      <td>1</td>\n",
       "      <td>2</td>\n",
       "      <td>1</td>\n",
       "      <td>8</td>\n",
       "      <td>1</td>\n",
       "      <td>3</td>\n",
       "      <td>0</td>\n",
       "      <td>0</td>\n",
       "    </tr>\n",
       "    <tr>\n",
       "      <th>Pam</th>\n",
       "      <td>0</td>\n",
       "      <td>0</td>\n",
       "      <td>0</td>\n",
       "      <td>0</td>\n",
       "      <td>0</td>\n",
       "      <td>1</td>\n",
       "      <td>0</td>\n",
       "      <td>0</td>\n",
       "      <td>0</td>\n",
       "      <td>0</td>\n",
       "      <td>...</td>\n",
       "      <td>0</td>\n",
       "      <td>0</td>\n",
       "      <td>1</td>\n",
       "      <td>0</td>\n",
       "      <td>0</td>\n",
       "      <td>0</td>\n",
       "      <td>0</td>\n",
       "      <td>0</td>\n",
       "      <td>0</td>\n",
       "      <td>0</td>\n",
       "    </tr>\n",
       "  </tbody>\n",
       "</table>\n",
       "<p>5 rows × 8840 columns</p>\n",
       "</div>"
      ],
      "text/plain": [
       "         abandon  abbey  abbi  abbrevi  abdomen  abercrombi  abil  abnorm  \\\n",
       "Andy           0      0     0        0        0           0     0       0   \n",
       "Dwight         0      0     0        1        1           0     3       0   \n",
       "Jim            1      1     1        0        0           0     0       0   \n",
       "Michael        1      0     0        0        0           0     6       3   \n",
       "Pam            0      0     0        0        0           1     0       0   \n",
       "\n",
       "         aboard  abod  ...  zinger  zion  zip  zit  zombi  zone  zoo  zoom  \\\n",
       "Andy          0     0  ...       0     0    0    0      0     2    0     0   \n",
       "Dwight        0     0  ...       0     0    0    1      4     2    3     0   \n",
       "Jim           0     0  ...       1     0    1    0      3     1    0     0   \n",
       "Michael       1     1  ...       1     1    1    2      1     8    1     3   \n",
       "Pam           0     0  ...       0     0    1    0      0     0    0     0   \n",
       "\n",
       "         zoran  zuckerberg  \n",
       "Andy         0           0  \n",
       "Dwight       1           1  \n",
       "Jim          0           0  \n",
       "Michael      0           0  \n",
       "Pam          0           0  \n",
       "\n",
       "[5 rows x 8840 columns]"
      ]
     },
     "execution_count": 95,
     "metadata": {},
     "output_type": "execute_result"
    }
   ],
   "source": [
    "# Create a new document-term matrix using only nouns and adjectives, also remove common words with max_df\n",
    "cvna = CountVectorizer(stop_words=stop_words, max_df=.8)\n",
    "data_cvna = cvna.fit_transform(data_nouns_adj.lines)\n",
    "data_dtmna = pd.DataFrame(data_cvna.toarray(), columns=cvna.get_feature_names())\n",
    "data_dtmna.index = data_nouns_adj.index\n",
    "data_dtmna"
   ]
  },
  {
   "cell_type": "code",
   "execution_count": 96,
   "metadata": {},
   "outputs": [],
   "source": [
    "# Create the gensim corpus\n",
    "corpusna = matutils.Sparse2Corpus(scipy.sparse.csr_matrix(data_dtmna.transpose()))\n",
    "\n",
    "# Create the vocabulary dictionary\n",
    "id2wordna = dict((v, k) for k, v in cvna.vocabulary_.items())"
   ]
  },
  {
   "cell_type": "code",
   "execution_count": 97,
   "metadata": {},
   "outputs": [
    {
     "data": {
      "text/plain": [
       "[(0,\n",
       "  '0.005*\"scott\" + 0.004*\"holli\" + 0.003*\"york\" + 0.003*\"present\" + 0.003*\"live\" + 0.002*\"roy\" + 0.002*\"watch\" + 0.002*\"dundi\" + 0.002*\"umm\" + 0.002*\"chair\"'),\n",
       " (1,\n",
       "  '0.002*\"black\" + 0.002*\"idiot\" + 0.002*\"mose\" + 0.001*\"rais\" + 0.001*\"boom\" + 0.001*\"ow\" + 0.001*\"present\" + 0.001*\"scott\" + 0.001*\"hospit\" + 0.001*\"watch\"')]"
      ]
     },
     "execution_count": 97,
     "metadata": {},
     "output_type": "execute_result"
    }
   ],
   "source": [
    "# Let's start with 2 topics\n",
    "ldana = models.LdaModel(corpus=corpusna, num_topics=2, id2word=id2wordna, passes=10)\n",
    "ldana.print_topics()"
   ]
  },
  {
   "cell_type": "code",
   "execution_count": 98,
   "metadata": {},
   "outputs": [
    {
     "data": {
      "text/plain": [
       "[(0,\n",
       "  '0.005*\"scott\" + 0.004*\"holli\" + 0.003*\"york\" + 0.002*\"live\" + 0.002*\"present\" + 0.002*\"black\" + 0.002*\"watch\" + 0.002*\"umm\" + 0.002*\"hospit\" + 0.002*\"dundi\"'),\n",
       " (1,\n",
       "  '0.003*\"idiot\" + 0.002*\"mose\" + 0.002*\"black\" + 0.002*\"boom\" + 0.002*\"hors\" + 0.002*\"present\" + 0.002*\"men\" + 0.002*\"sheriff\" + 0.001*\"temp\" + 0.001*\"fear\"'),\n",
       " (2,\n",
       "  '0.004*\"roy\" + 0.003*\"chair\" + 0.002*\"wed\" + 0.002*\"art\" + 0.002*\"paint\" + 0.002*\"mural\" + 0.002*\"present\" + 0.002*\"jessica\" + 0.002*\"flag\" + 0.002*\"marri\"')]"
      ]
     },
     "execution_count": 98,
     "metadata": {},
     "output_type": "execute_result"
    }
   ],
   "source": [
    "# Let's try 3 topics\n",
    "ldana = models.LdaModel(corpus=corpusna, num_topics=3, id2word=id2wordna, passes=10)\n",
    "ldana.print_topics()"
   ]
  },
  {
   "cell_type": "code",
   "execution_count": 99,
   "metadata": {},
   "outputs": [
    {
     "data": {
      "text/plain": [
       "[(0,\n",
       "  '0.005*\"roy\" + 0.004*\"chair\" + 0.004*\"wed\" + 0.003*\"art\" + 0.003*\"paint\" + 0.003*\"mural\" + 0.003*\"marri\" + 0.002*\"present\" + 0.002*\"umm\" + 0.002*\"hospit\"'),\n",
       " (1,\n",
       "  '0.005*\"scott\" + 0.004*\"holli\" + 0.003*\"live\" + 0.003*\"york\" + 0.003*\"idiot\" + 0.002*\"present\" + 0.002*\"dundi\" + 0.002*\"blah\" + 0.002*\"watch\" + 0.002*\"packer\"'),\n",
       " (2,\n",
       "  '0.003*\"idiot\" + 0.003*\"mose\" + 0.003*\"black\" + 0.002*\"boom\" + 0.002*\"hors\" + 0.002*\"present\" + 0.002*\"men\" + 0.002*\"sheriff\" + 0.002*\"fear\" + 0.002*\"temp\"'),\n",
       " (3,\n",
       "  '0.003*\"roy\" + 0.003*\"philli\" + 0.003*\"hospit\" + 0.002*\"karen\" + 0.002*\"umm\" + 0.002*\"wed\" + 0.002*\"kev\" + 0.002*\"york\" + 0.002*\"write\" + 0.002*\"agent\"')]"
      ]
     },
     "execution_count": 99,
     "metadata": {},
     "output_type": "execute_result"
    }
   ],
   "source": [
    "# Let's try 4 topics\n",
    "ldana = models.LdaModel(corpus=corpusna, num_topics=4, id2word=id2wordna, passes=10)\n",
    "ldana.print_topics()"
   ]
  },
  {
   "cell_type": "markdown",
   "metadata": {},
   "source": [
    "## Identify Topics in Each Document\n",
    "Out of the 9 topic models we looked at, the nouns and adjectives, 4 topic one made the most sense. So let's pull that down here and run it through some more iterations to get more fine-tuned topics."
   ]
  },
  {
   "cell_type": "code",
   "execution_count": 100,
   "metadata": {},
   "outputs": [
    {
     "data": {
      "text/plain": [
       "[(0,\n",
       "  '0.003*\"idiot\" + 0.003*\"mose\" + 0.003*\"black\" + 0.002*\"boom\" + 0.002*\"hors\" + 0.002*\"present\" + 0.002*\"sheriff\" + 0.002*\"men\" + 0.002*\"secur\" + 0.002*\"fear\"'),\n",
       " (1,\n",
       "  '0.000*\"scott\" + 0.000*\"holli\" + 0.000*\"hospit\" + 0.000*\"present\" + 0.000*\"black\" + 0.000*\"york\" + 0.000*\"live\" + 0.000*\"idiot\" + 0.000*\"boom\" + 0.000*\"watch\"'),\n",
       " (2,\n",
       "  '0.004*\"roy\" + 0.003*\"wed\" + 0.002*\"hospit\" + 0.002*\"art\" + 0.002*\"umm\" + 0.002*\"chair\" + 0.002*\"philli\" + 0.002*\"york\" + 0.002*\"scott\" + 0.002*\"karen\"'),\n",
       " (3,\n",
       "  '0.006*\"scott\" + 0.005*\"holli\" + 0.003*\"live\" + 0.003*\"york\" + 0.003*\"present\" + 0.003*\"idiot\" + 0.002*\"dundi\" + 0.002*\"packer\" + 0.002*\"watch\" + 0.002*\"black\"')]"
      ]
     },
     "execution_count": 100,
     "metadata": {},
     "output_type": "execute_result"
    }
   ],
   "source": [
    "# Our final LDA model (for now)\n",
    "ldana = models.LdaModel(corpus=corpusna, num_topics=4, id2word=id2wordna, passes=60)\n",
    "ldana.print_topics()"
   ]
  },
  {
   "cell_type": "markdown",
   "metadata": {},
   "source": [
    "These topics look shit... We need to try and get some better ones."
   ]
  },
  {
   "cell_type": "code",
   "execution_count": 101,
   "metadata": {},
   "outputs": [
    {
     "data": {
      "text/plain": [
       "[(2, 'Andy'), (0, 'Dwight'), (2, 'Jim'), (3, 'Michael'), (2, 'Pam')]"
      ]
     },
     "execution_count": 101,
     "metadata": {},
     "output_type": "execute_result"
    }
   ],
   "source": [
    "#Let's take a look at which topics each transcript contains\n",
    "corpus_transformed = ldana[corpusna]\n",
    "list(zip([a for [(a,b)] in corpus_transformed], data_dtmna.index))"
   ]
  },
  {
   "cell_type": "markdown",
   "metadata": {},
   "source": [
    "# Text Generation\n",
    "## Select Text to Imitate\n",
    "In this notebook, we're specifically going to generate text in the style of Dwight Schrute, so as a first step, let's extract the text from his lines."
   ]
  },
  {
   "cell_type": "code",
   "execution_count": 102,
   "metadata": {},
   "outputs": [
    {
     "data": {
      "text/html": [
       "<div>\n",
       "<style scoped>\n",
       "    .dataframe tbody tr th:only-of-type {\n",
       "        vertical-align: middle;\n",
       "    }\n",
       "\n",
       "    .dataframe tbody tr th {\n",
       "        vertical-align: top;\n",
       "    }\n",
       "\n",
       "    .dataframe thead th {\n",
       "        text-align: right;\n",
       "    }\n",
       "</style>\n",
       "<table border=\"1\" class=\"dataframe\">\n",
       "  <thead>\n",
       "    <tr style=\"text-align: right;\">\n",
       "      <th></th>\n",
       "      <th>lines</th>\n",
       "    </tr>\n",
       "  </thead>\n",
       "  <tbody>\n",
       "    <tr>\n",
       "      <th>Andy</th>\n",
       "      <td>Robert. I said winners and losers. Is that what youre talking about?Oh, that, it might- That might actually be what Im thinking of. Can you clarif...</td>\n",
       "    </tr>\n",
       "    <tr>\n",
       "      <th>Dwight</th>\n",
       "      <td>Shall I play for you? Pa rum pump um pum  I have no gifts for you. Pa rum pump um pum Whassup!Whassup.What?Just clearing my desk. I can't concent...</td>\n",
       "    </tr>\n",
       "    <tr>\n",
       "      <th>Jim</th>\n",
       "      <td>Oh, I told you. I couldn't close it. So...Actually, you called me in here, but yeah.My job is to speak to clients on the phone about... uh, quanti...</td>\n",
       "    </tr>\n",
       "    <tr>\n",
       "      <th>Michael</th>\n",
       "      <td>All right Jim. Your quarterlies look very good. How are things at the library?So you've come to the master for guidance? Is this what you're sayin...</td>\n",
       "    </tr>\n",
       "    <tr>\n",
       "      <th>Pam</th>\n",
       "      <td>Well. I don't know.What?Uh, yeah. Just a fax.You haven't told me.Uh, yeah, the one...You put in the garbage can that was a special filing cabinet....</td>\n",
       "    </tr>\n",
       "  </tbody>\n",
       "</table>\n",
       "</div>"
      ],
      "text/plain": [
       "                                                                                                                                                         lines\n",
       "Andy     Robert. I said winners and losers. Is that what youre talking about?Oh, that, it might- That might actually be what Im thinking of. Can you clarif...\n",
       "Dwight    Shall I play for you? Pa rum pump um pum  I have no gifts for you. Pa rum pump um pum Whassup!Whassup.What?Just clearing my desk. I can't concent...\n",
       "Jim      Oh, I told you. I couldn't close it. So...Actually, you called me in here, but yeah.My job is to speak to clients on the phone about... uh, quanti...\n",
       "Michael  All right Jim. Your quarterlies look very good. How are things at the library?So you've come to the master for guidance? Is this what you're sayin...\n",
       "Pam      Well. I don't know.What?Uh, yeah. Just a fax.You haven't told me.Uh, yeah, the one...You put in the garbage can that was a special filing cabinet...."
      ]
     },
     "execution_count": 102,
     "metadata": {},
     "output_type": "execute_result"
    }
   ],
   "source": [
    "# Read in the corpus, including punctuation!\n",
    "import pandas as pd\n",
    "\n",
    "data = pd.read_pickle('pickle/lines_corpus.pkl')\n",
    "data"
   ]
  },
  {
   "cell_type": "code",
   "execution_count": 103,
   "metadata": {},
   "outputs": [],
   "source": [
    "pam_text = data.lines.loc['Pam']\n",
    "dwight_text = data.lines.loc['Dwight']\n",
    "michael_text = data.lines.loc['Michael']\n",
    "andy_text = data.lines.loc['Andy']\n",
    "jim_text = data.lines.loc['Jim']"
   ]
  },
  {
   "cell_type": "markdown",
   "metadata": {},
   "source": [
    "## Build a Markov Chain Function\n",
    "We are going to build a simple Markov chain function that creates a dictionary:\n",
    "\n",
    "The keys should be all of the words in the corpus\n",
    "The values should be a list of the words that follow the keys\n"
   ]
  },
  {
   "cell_type": "code",
   "execution_count": 104,
   "metadata": {},
   "outputs": [],
   "source": [
    "from collections import defaultdict\n",
    "\n",
    "def markov_chain(text):\n",
    "    '''The input is a string of text and the output will be a dictionary with each word as\n",
    "       a key and each value as the list of words that come after the key in the text.'''\n",
    "    \n",
    "    # Tokenize the text by word, though including punctuation\n",
    "    words = text.split(' ')\n",
    "    \n",
    "    # Initialize a default dictionary to hold all of the words and next words\n",
    "    m_dict = defaultdict(list)\n",
    "    \n",
    "    # Create a zipped list of all of the word pairs and put them in word: list of next words format\n",
    "    for current_word, next_word in zip(words[0:-1], words[1:]):\n",
    "        m_dict[current_word].append(next_word)\n",
    "\n",
    "    # Convert the default dict back into a dictionary\n",
    "    m_dict = dict(m_dict)\n",
    "    return m_dict"
   ]
  },
  {
   "cell_type": "code",
   "execution_count": 105,
   "metadata": {},
   "outputs": [],
   "source": [
    "# Create the dictionary for Dwight's and Pam's lines\n",
    "dwight_dict = markov_chain(dwight_text)\n",
    "pam_dict = markov_chain(pam_text)\n",
    "michael_dict = markov_chain(michael_text)\n",
    "andy_dict = markov_chain(andy_text)\n",
    "jim_dict = markov_chain(jim_text)"
   ]
  },
  {
   "cell_type": "markdown",
   "metadata": {},
   "source": [
    "## Create a Text Generator\n",
    "We're going to create a function that generates sentences. It will take two things as inputs:\n",
    "* The dictionary we just created\n",
    "* The number of words we want generated\n"
   ]
  },
  {
   "cell_type": "code",
   "execution_count": 106,
   "metadata": {},
   "outputs": [],
   "source": [
    "import random\n",
    "\n",
    "def generate_sentence(chain, count=10):\n",
    "    '''Input a dictionary in the format of key = current word, value = list of next words\n",
    "       along with the number of words you would like to see in your generated sentence.'''\n",
    "\n",
    "    # Capitalize the first word\n",
    "    word1 = random.choice(list(chain.keys()))\n",
    "    sentence = word1.capitalize()\n",
    "\n",
    "    # Generate the second word from the value list. Set the new word as the first word. Repeat.\n",
    "    for i in range(count-1):\n",
    "        word2 = random.choice(chain[word1])\n",
    "        word1 = word2\n",
    "        sentence += ' ' + word2\n",
    "\n",
    "    # End it with a period\n",
    "    sentence += '.'\n",
    "    return(sentence)"
   ]
  },
  {
   "cell_type": "code",
   "execution_count": 107,
   "metadata": {},
   "outputs": [
    {
     "data": {
      "text/plain": [
       "'Cat. He will remain silent. You owe me at all.I.'"
      ]
     },
     "execution_count": 107,
     "metadata": {},
     "output_type": "execute_result"
    }
   ],
   "source": [
    "generate_sentence(dwight_dict)"
   ]
  },
  {
   "cell_type": "markdown",
   "metadata": {},
   "source": [
    "###### Here are some of Dwight's generated sentences:\n",
    "\n",
    "> 'Singing audition.I put it with some gluhwein, enjoy laughing at?Are you tell you, so doing.'\n",
    "\n",
    "> 'Seriously? Oh, wow, Pam was not here, come in tune with Esther now. There are.'\n",
    "\n",
    "> 'Michael! really funny, Jim! Yes. I don't care, Pam? 'Cause Ryan to enter here! To intimidate my heart. OK.'\n",
    "\n",
    "> 'Hmmm?  You live here at a practitioner of experiencing the roast skunk. Angela? Would you.'\n",
    "\n",
    "> 'Motivated by Weyer-Hammer Paper Incorporated. Awards, multiple Dundies. She had your office? That guy is over! Now.'\n",
    "\n",
    "> 'And... boom.  Groin punch, hip bone! Don't.'\n",
    "\n",
    "> 'Halpert!stop forgetting things.MR. JAMES HALPERT!Stop forgetting.'"
   ]
  },
  {
   "cell_type": "code",
   "execution_count": 108,
   "metadata": {},
   "outputs": [
    {
     "data": {
      "text/plain": [
       "'Sold out? That ties in the middle part.Yeah, okay, its.'"
      ]
     },
     "execution_count": 108,
     "metadata": {},
     "output_type": "execute_result"
    }
   ],
   "source": [
    "generate_sentence(pam_dict)"
   ]
  },
  {
   "cell_type": "markdown",
   "metadata": {},
   "source": [
    "###### Here are some of Pam's generated lines\n",
    "\n",
    "> 'Rule about him-- or Philadelphia.Okay.Thanks.Hi, nice meal with Ryan?Michael, you have a great time.'\n",
    "\n",
    "> 'Dollars.you know, when they put your phone call, he is.Is it on---...noooo It's actually fire.'\n",
    "\n",
    "> 'Terrified of his early attempts at you, but that would.'\n",
    "\n",
    "> 'Cici has feelings too, and stuff. And on top of that.'\n",
    "\n",
    "> 'Fast in an Office Administrator thing, besides not interested at.'"
   ]
  },
  {
   "cell_type": "code",
   "execution_count": 109,
   "metadata": {},
   "outputs": [
    {
     "data": {
      "text/plain": [
       "'Flax from all right, I want you may not.I just.'"
      ]
     },
     "execution_count": 109,
     "metadata": {},
     "output_type": "execute_result"
    }
   ],
   "source": [
    "generate_sentence(michael_dict)"
   ]
  },
  {
   "cell_type": "code",
   "execution_count": 110,
   "metadata": {},
   "outputs": [
    {
     "data": {
      "text/plain": [
       "'Die, his words.So make sure I mean, uh, yeah, look.'"
      ]
     },
     "execution_count": 110,
     "metadata": {},
     "output_type": "execute_result"
    }
   ],
   "source": [
    "generate_sentence(andy_dict)"
   ]
  },
  {
   "cell_type": "code",
   "execution_count": 111,
   "metadata": {},
   "outputs": [
    {
     "data": {
      "text/plain": [
       "\"Snowball, 'cause I mean, its okay.  That's exactly what.\""
      ]
     },
     "execution_count": 111,
     "metadata": {},
     "output_type": "execute_result"
    }
   ],
   "source": [
    "generate_sentence(jim_dict)"
   ]
  },
  {
   "cell_type": "code",
   "execution_count": null,
   "metadata": {},
   "outputs": [],
   "source": []
  },
  {
   "cell_type": "code",
   "execution_count": null,
   "metadata": {},
   "outputs": [],
   "source": []
  },
  {
   "cell_type": "code",
   "execution_count": null,
   "metadata": {},
   "outputs": [],
   "source": []
  }
 ],
 "metadata": {
  "kernelspec": {
   "display_name": "Python 3",
   "language": "python",
   "name": "python3"
  },
  "language_info": {
   "codemirror_mode": {
    "name": "ipython",
    "version": 3
   },
   "file_extension": ".py",
   "mimetype": "text/x-python",
   "name": "python",
   "nbconvert_exporter": "python",
   "pygments_lexer": "ipython3",
   "version": "3.7.6"
  }
 },
 "nbformat": 4,
 "nbformat_minor": 2
}
